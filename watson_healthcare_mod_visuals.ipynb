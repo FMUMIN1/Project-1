{
 "cells": [
  {
   "cell_type": "markdown",
   "id": "06bc518c",
   "metadata": {},
   "source": [
    "# Watson Healthcare Modified: Visuals # "
   ]
  },
  {
   "cell_type": "code",
   "execution_count": 14,
   "id": "ffd19145",
   "metadata": {},
   "outputs": [],
   "source": [
    "import pandas as pd\n",
    "import matplotlib.pyplot as plt\n",
    "import numpy as np"
   ]
  },
  {
   "cell_type": "code",
   "execution_count": 15,
   "id": "a89b64be",
   "metadata": {},
   "outputs": [],
   "source": [
    "# direct path to csv\n",
    "direct_path_watson = \"Resources/watson_healthcare_modified.csv\""
   ]
  },
  {
   "cell_type": "code",
   "execution_count": 16,
   "id": "9777b64b",
   "metadata": {},
   "outputs": [
    {
     "data": {
      "text/html": [
       "<div>\n",
       "<style scoped>\n",
       "    .dataframe tbody tr th:only-of-type {\n",
       "        vertical-align: middle;\n",
       "    }\n",
       "\n",
       "    .dataframe tbody tr th {\n",
       "        vertical-align: top;\n",
       "    }\n",
       "\n",
       "    .dataframe thead th {\n",
       "        text-align: right;\n",
       "    }\n",
       "</style>\n",
       "<table border=\"1\" class=\"dataframe\">\n",
       "  <thead>\n",
       "    <tr style=\"text-align: right;\">\n",
       "      <th></th>\n",
       "      <th>EmployeeID</th>\n",
       "      <th>Age</th>\n",
       "      <th>Attrition</th>\n",
       "      <th>BusinessTravel</th>\n",
       "      <th>DailyRate</th>\n",
       "      <th>Department</th>\n",
       "      <th>DistanceFromHome</th>\n",
       "      <th>Education</th>\n",
       "      <th>EducationField</th>\n",
       "      <th>EmployeeCount</th>\n",
       "      <th>...</th>\n",
       "      <th>RelationshipSatisfaction</th>\n",
       "      <th>StandardHours</th>\n",
       "      <th>Shift</th>\n",
       "      <th>TotalWorkingYears</th>\n",
       "      <th>TrainingTimesLastYear</th>\n",
       "      <th>WorkLifeBalance</th>\n",
       "      <th>YearsAtCompany</th>\n",
       "      <th>YearsInCurrentRole</th>\n",
       "      <th>YearsSinceLastPromotion</th>\n",
       "      <th>YearsWithCurrManager</th>\n",
       "    </tr>\n",
       "  </thead>\n",
       "  <tbody>\n",
       "    <tr>\n",
       "      <th>0</th>\n",
       "      <td>1313919</td>\n",
       "      <td>41</td>\n",
       "      <td>No</td>\n",
       "      <td>Travel_Rarely</td>\n",
       "      <td>1102</td>\n",
       "      <td>Cardiology</td>\n",
       "      <td>1</td>\n",
       "      <td>2</td>\n",
       "      <td>Life Sciences</td>\n",
       "      <td>1</td>\n",
       "      <td>...</td>\n",
       "      <td>1</td>\n",
       "      <td>80</td>\n",
       "      <td>0</td>\n",
       "      <td>8</td>\n",
       "      <td>0</td>\n",
       "      <td>1</td>\n",
       "      <td>6</td>\n",
       "      <td>4</td>\n",
       "      <td>0</td>\n",
       "      <td>5</td>\n",
       "    </tr>\n",
       "    <tr>\n",
       "      <th>1</th>\n",
       "      <td>1200302</td>\n",
       "      <td>49</td>\n",
       "      <td>No</td>\n",
       "      <td>Travel_Frequently</td>\n",
       "      <td>279</td>\n",
       "      <td>Maternity</td>\n",
       "      <td>8</td>\n",
       "      <td>1</td>\n",
       "      <td>Life Sciences</td>\n",
       "      <td>1</td>\n",
       "      <td>...</td>\n",
       "      <td>4</td>\n",
       "      <td>80</td>\n",
       "      <td>1</td>\n",
       "      <td>10</td>\n",
       "      <td>3</td>\n",
       "      <td>3</td>\n",
       "      <td>10</td>\n",
       "      <td>7</td>\n",
       "      <td>1</td>\n",
       "      <td>7</td>\n",
       "    </tr>\n",
       "    <tr>\n",
       "      <th>2</th>\n",
       "      <td>1060315</td>\n",
       "      <td>37</td>\n",
       "      <td>Yes</td>\n",
       "      <td>Travel_Rarely</td>\n",
       "      <td>1373</td>\n",
       "      <td>Maternity</td>\n",
       "      <td>2</td>\n",
       "      <td>2</td>\n",
       "      <td>Other</td>\n",
       "      <td>1</td>\n",
       "      <td>...</td>\n",
       "      <td>2</td>\n",
       "      <td>80</td>\n",
       "      <td>0</td>\n",
       "      <td>7</td>\n",
       "      <td>3</td>\n",
       "      <td>3</td>\n",
       "      <td>0</td>\n",
       "      <td>0</td>\n",
       "      <td>0</td>\n",
       "      <td>0</td>\n",
       "    </tr>\n",
       "    <tr>\n",
       "      <th>3</th>\n",
       "      <td>1272912</td>\n",
       "      <td>33</td>\n",
       "      <td>No</td>\n",
       "      <td>Travel_Frequently</td>\n",
       "      <td>1392</td>\n",
       "      <td>Maternity</td>\n",
       "      <td>3</td>\n",
       "      <td>4</td>\n",
       "      <td>Life Sciences</td>\n",
       "      <td>1</td>\n",
       "      <td>...</td>\n",
       "      <td>3</td>\n",
       "      <td>80</td>\n",
       "      <td>0</td>\n",
       "      <td>8</td>\n",
       "      <td>3</td>\n",
       "      <td>3</td>\n",
       "      <td>8</td>\n",
       "      <td>7</td>\n",
       "      <td>3</td>\n",
       "      <td>0</td>\n",
       "    </tr>\n",
       "    <tr>\n",
       "      <th>4</th>\n",
       "      <td>1414939</td>\n",
       "      <td>27</td>\n",
       "      <td>No</td>\n",
       "      <td>Travel_Rarely</td>\n",
       "      <td>591</td>\n",
       "      <td>Maternity</td>\n",
       "      <td>2</td>\n",
       "      <td>1</td>\n",
       "      <td>Medical</td>\n",
       "      <td>1</td>\n",
       "      <td>...</td>\n",
       "      <td>4</td>\n",
       "      <td>80</td>\n",
       "      <td>1</td>\n",
       "      <td>6</td>\n",
       "      <td>3</td>\n",
       "      <td>3</td>\n",
       "      <td>2</td>\n",
       "      <td>2</td>\n",
       "      <td>2</td>\n",
       "      <td>2</td>\n",
       "    </tr>\n",
       "  </tbody>\n",
       "</table>\n",
       "<p>5 rows × 35 columns</p>\n",
       "</div>"
      ],
      "text/plain": [
       "   EmployeeID  Age Attrition     BusinessTravel  DailyRate  Department  \\\n",
       "0     1313919   41        No      Travel_Rarely       1102  Cardiology   \n",
       "1     1200302   49        No  Travel_Frequently        279   Maternity   \n",
       "2     1060315   37       Yes      Travel_Rarely       1373   Maternity   \n",
       "3     1272912   33        No  Travel_Frequently       1392   Maternity   \n",
       "4     1414939   27        No      Travel_Rarely        591   Maternity   \n",
       "\n",
       "   DistanceFromHome  Education EducationField  EmployeeCount  ...  \\\n",
       "0                 1          2  Life Sciences              1  ...   \n",
       "1                 8          1  Life Sciences              1  ...   \n",
       "2                 2          2          Other              1  ...   \n",
       "3                 3          4  Life Sciences              1  ...   \n",
       "4                 2          1        Medical              1  ...   \n",
       "\n",
       "   RelationshipSatisfaction StandardHours  Shift  TotalWorkingYears  \\\n",
       "0                         1            80      0                  8   \n",
       "1                         4            80      1                 10   \n",
       "2                         2            80      0                  7   \n",
       "3                         3            80      0                  8   \n",
       "4                         4            80      1                  6   \n",
       "\n",
       "   TrainingTimesLastYear WorkLifeBalance  YearsAtCompany YearsInCurrentRole  \\\n",
       "0                      0               1               6                  4   \n",
       "1                      3               3              10                  7   \n",
       "2                      3               3               0                  0   \n",
       "3                      3               3               8                  7   \n",
       "4                      3               3               2                  2   \n",
       "\n",
       "   YearsSinceLastPromotion  YearsWithCurrManager  \n",
       "0                        0                     5  \n",
       "1                        1                     7  \n",
       "2                        0                     0  \n",
       "3                        3                     0  \n",
       "4                        2                     2  \n",
       "\n",
       "[5 rows x 35 columns]"
      ]
     },
     "execution_count": 16,
     "metadata": {},
     "output_type": "execute_result"
    }
   ],
   "source": [
    "# read csv\n",
    "watson_raw_data_df = pd.read_csv(direct_path_watson)\n",
    "watson_raw_data_df.head()"
   ]
  },
  {
   "cell_type": "code",
   "execution_count": 17,
   "id": "3f4bf12b",
   "metadata": {},
   "outputs": [],
   "source": [
    "departments = watson_raw_data_df[\"Department\"]"
   ]
  },
  {
   "cell_type": "code",
   "execution_count": 18,
   "id": "edbd4a21",
   "metadata": {},
   "outputs": [
    {
     "data": {
      "text/plain": [
       "Index(['EmployeeID', 'Age', 'Attrition', 'BusinessTravel', 'DailyRate',\n",
       "       'Department', 'DistanceFromHome', 'Education', 'EducationField',\n",
       "       'EmployeeCount', 'EnvironmentSatisfaction', 'Gender', 'HourlyRate',\n",
       "       'JobInvolvement', 'JobLevel', 'JobRole', 'JobSatisfaction',\n",
       "       'MaritalStatus', 'MonthlyIncome', 'MonthlyRate', 'NumCompaniesWorked',\n",
       "       'Over18', 'OverTime', 'PercentSalaryHike', 'PerformanceRating',\n",
       "       'RelationshipSatisfaction', 'StandardHours', 'Shift',\n",
       "       'TotalWorkingYears', 'TrainingTimesLastYear', 'WorkLifeBalance',\n",
       "       'YearsAtCompany', 'YearsInCurrentRole', 'YearsSinceLastPromotion',\n",
       "       'YearsWithCurrManager'],\n",
       "      dtype='object')"
      ]
     },
     "execution_count": 18,
     "metadata": {},
     "output_type": "execute_result"
    }
   ],
   "source": [
    "watson_raw_data_df.columns"
   ]
  },
  {
   "cell_type": "code",
   "execution_count": 19,
   "id": "f776c711",
   "metadata": {},
   "outputs": [
    {
     "data": {
      "text/html": [
       "<div>\n",
       "<style scoped>\n",
       "    .dataframe tbody tr th:only-of-type {\n",
       "        vertical-align: middle;\n",
       "    }\n",
       "\n",
       "    .dataframe tbody tr th {\n",
       "        vertical-align: top;\n",
       "    }\n",
       "\n",
       "    .dataframe thead th {\n",
       "        text-align: right;\n",
       "    }\n",
       "</style>\n",
       "<table border=\"1\" class=\"dataframe\">\n",
       "  <thead>\n",
       "    <tr style=\"text-align: right;\">\n",
       "      <th></th>\n",
       "      <th>Department</th>\n",
       "      <th>Attrition</th>\n",
       "      <th>EducationField</th>\n",
       "      <th>JobRole</th>\n",
       "      <th>Gender</th>\n",
       "      <th>DistanceFromHome</th>\n",
       "      <th>JobInvolvement</th>\n",
       "      <th>JobLevel</th>\n",
       "      <th>JobSatisfaction</th>\n",
       "      <th>YearsAtCompany</th>\n",
       "      <th>OverTime</th>\n",
       "    </tr>\n",
       "  </thead>\n",
       "  <tbody>\n",
       "    <tr>\n",
       "      <th>0</th>\n",
       "      <td>Cardiology</td>\n",
       "      <td>No</td>\n",
       "      <td>Life Sciences</td>\n",
       "      <td>Nurse</td>\n",
       "      <td>Female</td>\n",
       "      <td>1</td>\n",
       "      <td>3</td>\n",
       "      <td>2</td>\n",
       "      <td>4</td>\n",
       "      <td>6</td>\n",
       "      <td>Yes</td>\n",
       "    </tr>\n",
       "    <tr>\n",
       "      <th>1</th>\n",
       "      <td>Maternity</td>\n",
       "      <td>No</td>\n",
       "      <td>Life Sciences</td>\n",
       "      <td>Other</td>\n",
       "      <td>Male</td>\n",
       "      <td>8</td>\n",
       "      <td>2</td>\n",
       "      <td>2</td>\n",
       "      <td>2</td>\n",
       "      <td>10</td>\n",
       "      <td>No</td>\n",
       "    </tr>\n",
       "    <tr>\n",
       "      <th>2</th>\n",
       "      <td>Maternity</td>\n",
       "      <td>Yes</td>\n",
       "      <td>Other</td>\n",
       "      <td>Nurse</td>\n",
       "      <td>Male</td>\n",
       "      <td>2</td>\n",
       "      <td>2</td>\n",
       "      <td>1</td>\n",
       "      <td>3</td>\n",
       "      <td>0</td>\n",
       "      <td>Yes</td>\n",
       "    </tr>\n",
       "    <tr>\n",
       "      <th>3</th>\n",
       "      <td>Maternity</td>\n",
       "      <td>No</td>\n",
       "      <td>Life Sciences</td>\n",
       "      <td>Other</td>\n",
       "      <td>Female</td>\n",
       "      <td>3</td>\n",
       "      <td>3</td>\n",
       "      <td>1</td>\n",
       "      <td>3</td>\n",
       "      <td>8</td>\n",
       "      <td>Yes</td>\n",
       "    </tr>\n",
       "    <tr>\n",
       "      <th>4</th>\n",
       "      <td>Maternity</td>\n",
       "      <td>No</td>\n",
       "      <td>Medical</td>\n",
       "      <td>Nurse</td>\n",
       "      <td>Male</td>\n",
       "      <td>2</td>\n",
       "      <td>3</td>\n",
       "      <td>1</td>\n",
       "      <td>2</td>\n",
       "      <td>2</td>\n",
       "      <td>No</td>\n",
       "    </tr>\n",
       "    <tr>\n",
       "      <th>...</th>\n",
       "      <td>...</td>\n",
       "      <td>...</td>\n",
       "      <td>...</td>\n",
       "      <td>...</td>\n",
       "      <td>...</td>\n",
       "      <td>...</td>\n",
       "      <td>...</td>\n",
       "      <td>...</td>\n",
       "      <td>...</td>\n",
       "      <td>...</td>\n",
       "      <td>...</td>\n",
       "    </tr>\n",
       "    <tr>\n",
       "      <th>95</th>\n",
       "      <td>Neurology</td>\n",
       "      <td>No</td>\n",
       "      <td>Technical Degree</td>\n",
       "      <td>Other</td>\n",
       "      <td>Female</td>\n",
       "      <td>2</td>\n",
       "      <td>3</td>\n",
       "      <td>3</td>\n",
       "      <td>3</td>\n",
       "      <td>4</td>\n",
       "      <td>No</td>\n",
       "    </tr>\n",
       "    <tr>\n",
       "      <th>96</th>\n",
       "      <td>Cardiology</td>\n",
       "      <td>No</td>\n",
       "      <td>Other</td>\n",
       "      <td>Nurse</td>\n",
       "      <td>Female</td>\n",
       "      <td>3</td>\n",
       "      <td>3</td>\n",
       "      <td>2</td>\n",
       "      <td>3</td>\n",
       "      <td>3</td>\n",
       "      <td>No</td>\n",
       "    </tr>\n",
       "    <tr>\n",
       "      <th>97</th>\n",
       "      <td>Cardiology</td>\n",
       "      <td>No</td>\n",
       "      <td>Medical</td>\n",
       "      <td>Nurse</td>\n",
       "      <td>Male</td>\n",
       "      <td>4</td>\n",
       "      <td>3</td>\n",
       "      <td>2</td>\n",
       "      <td>3</td>\n",
       "      <td>5</td>\n",
       "      <td>No</td>\n",
       "    </tr>\n",
       "    <tr>\n",
       "      <th>98</th>\n",
       "      <td>Cardiology</td>\n",
       "      <td>No</td>\n",
       "      <td>Medical</td>\n",
       "      <td>Nurse</td>\n",
       "      <td>Male</td>\n",
       "      <td>10</td>\n",
       "      <td>3</td>\n",
       "      <td>4</td>\n",
       "      <td>3</td>\n",
       "      <td>37</td>\n",
       "      <td>No</td>\n",
       "    </tr>\n",
       "    <tr>\n",
       "      <th>99</th>\n",
       "      <td>Maternity</td>\n",
       "      <td>No</td>\n",
       "      <td>Medical</td>\n",
       "      <td>Nurse</td>\n",
       "      <td>Male</td>\n",
       "      <td>23</td>\n",
       "      <td>3</td>\n",
       "      <td>2</td>\n",
       "      <td>2</td>\n",
       "      <td>3</td>\n",
       "      <td>No</td>\n",
       "    </tr>\n",
       "  </tbody>\n",
       "</table>\n",
       "<p>100 rows × 11 columns</p>\n",
       "</div>"
      ],
      "text/plain": [
       "    Department Attrition    EducationField JobRole  Gender  DistanceFromHome  \\\n",
       "0   Cardiology        No     Life Sciences   Nurse  Female                 1   \n",
       "1    Maternity        No     Life Sciences   Other    Male                 8   \n",
       "2    Maternity       Yes             Other   Nurse    Male                 2   \n",
       "3    Maternity        No     Life Sciences   Other  Female                 3   \n",
       "4    Maternity        No           Medical   Nurse    Male                 2   \n",
       "..         ...       ...               ...     ...     ...               ...   \n",
       "95   Neurology        No  Technical Degree   Other  Female                 2   \n",
       "96  Cardiology        No             Other   Nurse  Female                 3   \n",
       "97  Cardiology        No           Medical   Nurse    Male                 4   \n",
       "98  Cardiology        No           Medical   Nurse    Male                10   \n",
       "99   Maternity        No           Medical   Nurse    Male                23   \n",
       "\n",
       "    JobInvolvement  JobLevel  JobSatisfaction  YearsAtCompany OverTime  \n",
       "0                3         2                4               6      Yes  \n",
       "1                2         2                2              10       No  \n",
       "2                2         1                3               0      Yes  \n",
       "3                3         1                3               8      Yes  \n",
       "4                3         1                2               2       No  \n",
       "..             ...       ...              ...             ...      ...  \n",
       "95               3         3                3               4       No  \n",
       "96               3         2                3               3       No  \n",
       "97               3         2                3               5       No  \n",
       "98               3         4                3              37       No  \n",
       "99               3         2                2               3       No  \n",
       "\n",
       "[100 rows x 11 columns]"
      ]
     },
     "execution_count": 19,
     "metadata": {},
     "output_type": "execute_result"
    }
   ],
   "source": [
    "attrition_new_df = watson_raw_data_df[[\"Department\", \"Attrition\", \"EducationField\", \"JobRole\", \"Gender\", \"DistanceFromHome\", \"JobInvolvement\", \"JobLevel\", \"JobSatisfaction\", \"YearsAtCompany\", \"OverTime\"]]\n",
    "attrition_new_df.head(100)"
   ]
  },
  {
   "cell_type": "markdown",
   "id": "66c66f12",
   "metadata": {},
   "source": [
    "# Maternity Data #"
   ]
  },
  {
   "cell_type": "code",
   "execution_count": 20,
   "id": "a81a874c",
   "metadata": {},
   "outputs": [
    {
     "data": {
      "text/html": [
       "<div>\n",
       "<style scoped>\n",
       "    .dataframe tbody tr th:only-of-type {\n",
       "        vertical-align: middle;\n",
       "    }\n",
       "\n",
       "    .dataframe tbody tr th {\n",
       "        vertical-align: top;\n",
       "    }\n",
       "\n",
       "    .dataframe thead th {\n",
       "        text-align: right;\n",
       "    }\n",
       "</style>\n",
       "<table border=\"1\" class=\"dataframe\">\n",
       "  <thead>\n",
       "    <tr style=\"text-align: right;\">\n",
       "      <th></th>\n",
       "      <th>Department</th>\n",
       "      <th>Attrition</th>\n",
       "      <th>EducationField</th>\n",
       "      <th>JobRole</th>\n",
       "      <th>Gender</th>\n",
       "      <th>DistanceFromHome</th>\n",
       "      <th>JobInvolvement</th>\n",
       "      <th>JobLevel</th>\n",
       "      <th>JobSatisfaction</th>\n",
       "      <th>YearsAtCompany</th>\n",
       "      <th>OverTime</th>\n",
       "    </tr>\n",
       "  </thead>\n",
       "  <tbody>\n",
       "    <tr>\n",
       "      <th>1</th>\n",
       "      <td>Maternity</td>\n",
       "      <td>No</td>\n",
       "      <td>Life Sciences</td>\n",
       "      <td>Other</td>\n",
       "      <td>Male</td>\n",
       "      <td>8</td>\n",
       "      <td>2</td>\n",
       "      <td>2</td>\n",
       "      <td>2</td>\n",
       "      <td>10</td>\n",
       "      <td>No</td>\n",
       "    </tr>\n",
       "    <tr>\n",
       "      <th>2</th>\n",
       "      <td>Maternity</td>\n",
       "      <td>Yes</td>\n",
       "      <td>Other</td>\n",
       "      <td>Nurse</td>\n",
       "      <td>Male</td>\n",
       "      <td>2</td>\n",
       "      <td>2</td>\n",
       "      <td>1</td>\n",
       "      <td>3</td>\n",
       "      <td>0</td>\n",
       "      <td>Yes</td>\n",
       "    </tr>\n",
       "    <tr>\n",
       "      <th>3</th>\n",
       "      <td>Maternity</td>\n",
       "      <td>No</td>\n",
       "      <td>Life Sciences</td>\n",
       "      <td>Other</td>\n",
       "      <td>Female</td>\n",
       "      <td>3</td>\n",
       "      <td>3</td>\n",
       "      <td>1</td>\n",
       "      <td>3</td>\n",
       "      <td>8</td>\n",
       "      <td>Yes</td>\n",
       "    </tr>\n",
       "    <tr>\n",
       "      <th>4</th>\n",
       "      <td>Maternity</td>\n",
       "      <td>No</td>\n",
       "      <td>Medical</td>\n",
       "      <td>Nurse</td>\n",
       "      <td>Male</td>\n",
       "      <td>2</td>\n",
       "      <td>3</td>\n",
       "      <td>1</td>\n",
       "      <td>2</td>\n",
       "      <td>2</td>\n",
       "      <td>No</td>\n",
       "    </tr>\n",
       "    <tr>\n",
       "      <th>5</th>\n",
       "      <td>Maternity</td>\n",
       "      <td>No</td>\n",
       "      <td>Life Sciences</td>\n",
       "      <td>Nurse</td>\n",
       "      <td>Male</td>\n",
       "      <td>2</td>\n",
       "      <td>3</td>\n",
       "      <td>1</td>\n",
       "      <td>4</td>\n",
       "      <td>7</td>\n",
       "      <td>No</td>\n",
       "    </tr>\n",
       "  </tbody>\n",
       "</table>\n",
       "</div>"
      ],
      "text/plain": [
       "  Department Attrition EducationField JobRole  Gender  DistanceFromHome  \\\n",
       "1  Maternity        No  Life Sciences   Other    Male                 8   \n",
       "2  Maternity       Yes          Other   Nurse    Male                 2   \n",
       "3  Maternity        No  Life Sciences   Other  Female                 3   \n",
       "4  Maternity        No        Medical   Nurse    Male                 2   \n",
       "5  Maternity        No  Life Sciences   Nurse    Male                 2   \n",
       "\n",
       "   JobInvolvement  JobLevel  JobSatisfaction  YearsAtCompany OverTime  \n",
       "1               2         2                2              10       No  \n",
       "2               2         1                3               0      Yes  \n",
       "3               3         1                3               8      Yes  \n",
       "4               3         1                2               2       No  \n",
       "5               3         1                4               7       No  "
      ]
     },
     "execution_count": 20,
     "metadata": {},
     "output_type": "execute_result"
    }
   ],
   "source": [
    "maternity_df = attrition_new_df[(attrition_new_df[\"Department\"] == \"Maternity\")]\n",
    "maternity_df.head()"
   ]
  },
  {
   "cell_type": "code",
   "execution_count": 21,
   "id": "3cb807e2",
   "metadata": {},
   "outputs": [
    {
     "data": {
      "text/html": [
       "<div>\n",
       "<style scoped>\n",
       "    .dataframe tbody tr th:only-of-type {\n",
       "        vertical-align: middle;\n",
       "    }\n",
       "\n",
       "    .dataframe tbody tr th {\n",
       "        vertical-align: top;\n",
       "    }\n",
       "\n",
       "    .dataframe thead th {\n",
       "        text-align: right;\n",
       "    }\n",
       "</style>\n",
       "<table border=\"1\" class=\"dataframe\">\n",
       "  <thead>\n",
       "    <tr style=\"text-align: right;\">\n",
       "      <th></th>\n",
       "      <th>Department</th>\n",
       "      <th>Attrition</th>\n",
       "      <th>EducationField</th>\n",
       "      <th>JobRole</th>\n",
       "      <th>Gender</th>\n",
       "      <th>DistanceFromHome</th>\n",
       "      <th>JobInvolvement</th>\n",
       "      <th>JobLevel</th>\n",
       "      <th>JobSatisfaction</th>\n",
       "      <th>YearsAtCompany</th>\n",
       "      <th>OverTime</th>\n",
       "    </tr>\n",
       "  </thead>\n",
       "  <tbody>\n",
       "    <tr>\n",
       "      <th>2</th>\n",
       "      <td>Maternity</td>\n",
       "      <td>Yes</td>\n",
       "      <td>Other</td>\n",
       "      <td>Nurse</td>\n",
       "      <td>Male</td>\n",
       "      <td>2</td>\n",
       "      <td>2</td>\n",
       "      <td>1</td>\n",
       "      <td>3</td>\n",
       "      <td>0</td>\n",
       "      <td>Yes</td>\n",
       "    </tr>\n",
       "    <tr>\n",
       "      <th>14</th>\n",
       "      <td>Maternity</td>\n",
       "      <td>Yes</td>\n",
       "      <td>Life Sciences</td>\n",
       "      <td>Nurse</td>\n",
       "      <td>Male</td>\n",
       "      <td>24</td>\n",
       "      <td>2</td>\n",
       "      <td>1</td>\n",
       "      <td>3</td>\n",
       "      <td>4</td>\n",
       "      <td>Yes</td>\n",
       "    </tr>\n",
       "    <tr>\n",
       "      <th>26</th>\n",
       "      <td>Maternity</td>\n",
       "      <td>Yes</td>\n",
       "      <td>Life Sciences</td>\n",
       "      <td>Other</td>\n",
       "      <td>Female</td>\n",
       "      <td>16</td>\n",
       "      <td>1</td>\n",
       "      <td>1</td>\n",
       "      <td>1</td>\n",
       "      <td>10</td>\n",
       "      <td>Yes</td>\n",
       "    </tr>\n",
       "    <tr>\n",
       "      <th>34</th>\n",
       "      <td>Maternity</td>\n",
       "      <td>Yes</td>\n",
       "      <td>Medical</td>\n",
       "      <td>Other</td>\n",
       "      <td>Male</td>\n",
       "      <td>1</td>\n",
       "      <td>3</td>\n",
       "      <td>1</td>\n",
       "      <td>4</td>\n",
       "      <td>2</td>\n",
       "      <td>Yes</td>\n",
       "    </tr>\n",
       "    <tr>\n",
       "      <th>42</th>\n",
       "      <td>Maternity</td>\n",
       "      <td>Yes</td>\n",
       "      <td>Life Sciences</td>\n",
       "      <td>Nurse</td>\n",
       "      <td>Male</td>\n",
       "      <td>25</td>\n",
       "      <td>1</td>\n",
       "      <td>1</td>\n",
       "      <td>3</td>\n",
       "      <td>1</td>\n",
       "      <td>No</td>\n",
       "    </tr>\n",
       "    <tr>\n",
       "      <th>...</th>\n",
       "      <td>...</td>\n",
       "      <td>...</td>\n",
       "      <td>...</td>\n",
       "      <td>...</td>\n",
       "      <td>...</td>\n",
       "      <td>...</td>\n",
       "      <td>...</td>\n",
       "      <td>...</td>\n",
       "      <td>...</td>\n",
       "      <td>...</td>\n",
       "      <td>...</td>\n",
       "    </tr>\n",
       "    <tr>\n",
       "      <th>1654</th>\n",
       "      <td>Maternity</td>\n",
       "      <td>Yes</td>\n",
       "      <td>Life Sciences</td>\n",
       "      <td>Nurse</td>\n",
       "      <td>Male</td>\n",
       "      <td>3</td>\n",
       "      <td>2</td>\n",
       "      <td>1</td>\n",
       "      <td>4</td>\n",
       "      <td>0</td>\n",
       "      <td>Yes</td>\n",
       "    </tr>\n",
       "    <tr>\n",
       "      <th>1655</th>\n",
       "      <td>Maternity</td>\n",
       "      <td>Yes</td>\n",
       "      <td>Life Sciences</td>\n",
       "      <td>Nurse</td>\n",
       "      <td>Female</td>\n",
       "      <td>8</td>\n",
       "      <td>2</td>\n",
       "      <td>1</td>\n",
       "      <td>2</td>\n",
       "      <td>1</td>\n",
       "      <td>No</td>\n",
       "    </tr>\n",
       "    <tr>\n",
       "      <th>1661</th>\n",
       "      <td>Maternity</td>\n",
       "      <td>Yes</td>\n",
       "      <td>Life Sciences</td>\n",
       "      <td>Nurse</td>\n",
       "      <td>Female</td>\n",
       "      <td>15</td>\n",
       "      <td>1</td>\n",
       "      <td>1</td>\n",
       "      <td>4</td>\n",
       "      <td>5</td>\n",
       "      <td>Yes</td>\n",
       "    </tr>\n",
       "    <tr>\n",
       "      <th>1669</th>\n",
       "      <td>Maternity</td>\n",
       "      <td>Yes</td>\n",
       "      <td>Medical</td>\n",
       "      <td>Nurse</td>\n",
       "      <td>Male</td>\n",
       "      <td>25</td>\n",
       "      <td>2</td>\n",
       "      <td>1</td>\n",
       "      <td>2</td>\n",
       "      <td>2</td>\n",
       "      <td>Yes</td>\n",
       "    </tr>\n",
       "    <tr>\n",
       "      <th>1670</th>\n",
       "      <td>Maternity</td>\n",
       "      <td>Yes</td>\n",
       "      <td>Life Sciences</td>\n",
       "      <td>Nurse</td>\n",
       "      <td>Female</td>\n",
       "      <td>1</td>\n",
       "      <td>1</td>\n",
       "      <td>1</td>\n",
       "      <td>2</td>\n",
       "      <td>7</td>\n",
       "      <td>Yes</td>\n",
       "    </tr>\n",
       "  </tbody>\n",
       "</table>\n",
       "<p>98 rows × 11 columns</p>\n",
       "</div>"
      ],
      "text/plain": [
       "     Department Attrition EducationField JobRole  Gender  DistanceFromHome  \\\n",
       "2     Maternity       Yes          Other   Nurse    Male                 2   \n",
       "14    Maternity       Yes  Life Sciences   Nurse    Male                24   \n",
       "26    Maternity       Yes  Life Sciences   Other  Female                16   \n",
       "34    Maternity       Yes        Medical   Other    Male                 1   \n",
       "42    Maternity       Yes  Life Sciences   Nurse    Male                25   \n",
       "...         ...       ...            ...     ...     ...               ...   \n",
       "1654  Maternity       Yes  Life Sciences   Nurse    Male                 3   \n",
       "1655  Maternity       Yes  Life Sciences   Nurse  Female                 8   \n",
       "1661  Maternity       Yes  Life Sciences   Nurse  Female                15   \n",
       "1669  Maternity       Yes        Medical   Nurse    Male                25   \n",
       "1670  Maternity       Yes  Life Sciences   Nurse  Female                 1   \n",
       "\n",
       "      JobInvolvement  JobLevel  JobSatisfaction  YearsAtCompany OverTime  \n",
       "2                  2         1                3               0      Yes  \n",
       "14                 2         1                3               4      Yes  \n",
       "26                 1         1                1              10      Yes  \n",
       "34                 3         1                4               2      Yes  \n",
       "42                 1         1                3               1       No  \n",
       "...              ...       ...              ...             ...      ...  \n",
       "1654               2         1                4               0      Yes  \n",
       "1655               2         1                2               1       No  \n",
       "1661               1         1                4               5      Yes  \n",
       "1669               2         1                2               2      Yes  \n",
       "1670               1         1                2               7      Yes  \n",
       "\n",
       "[98 rows x 11 columns]"
      ]
     },
     "execution_count": 21,
     "metadata": {},
     "output_type": "execute_result"
    }
   ],
   "source": [
    "maternity_df_attrition = maternity_df[(maternity_df[\"Attrition\"] == \"Yes\")]\n",
    "maternity_df_attrition                     "
   ]
  },
  {
   "cell_type": "code",
   "execution_count": 22,
   "id": "5ae7142c",
   "metadata": {},
   "outputs": [
    {
     "data": {
      "text/html": [
       "<div>\n",
       "<style scoped>\n",
       "    .dataframe tbody tr th:only-of-type {\n",
       "        vertical-align: middle;\n",
       "    }\n",
       "\n",
       "    .dataframe tbody tr th {\n",
       "        vertical-align: top;\n",
       "    }\n",
       "\n",
       "    .dataframe thead th {\n",
       "        text-align: right;\n",
       "    }\n",
       "</style>\n",
       "<table border=\"1\" class=\"dataframe\">\n",
       "  <thead>\n",
       "    <tr style=\"text-align: right;\">\n",
       "      <th></th>\n",
       "      <th>Department</th>\n",
       "      <th>Attrition</th>\n",
       "      <th>EducationField</th>\n",
       "      <th>JobRole</th>\n",
       "      <th>Gender</th>\n",
       "      <th>DistanceFromHome</th>\n",
       "      <th>JobInvolvement</th>\n",
       "      <th>JobLevel</th>\n",
       "      <th>JobSatisfaction</th>\n",
       "      <th>YearsAtCompany</th>\n",
       "      <th>OverTime</th>\n",
       "    </tr>\n",
       "  </thead>\n",
       "  <tbody>\n",
       "    <tr>\n",
       "      <th>14</th>\n",
       "      <td>Maternity</td>\n",
       "      <td>Yes</td>\n",
       "      <td>Life Sciences</td>\n",
       "      <td>Nurse</td>\n",
       "      <td>Male</td>\n",
       "      <td>24</td>\n",
       "      <td>2</td>\n",
       "      <td>1</td>\n",
       "      <td>3</td>\n",
       "      <td>4</td>\n",
       "      <td>Yes</td>\n",
       "    </tr>\n",
       "    <tr>\n",
       "      <th>26</th>\n",
       "      <td>Maternity</td>\n",
       "      <td>Yes</td>\n",
       "      <td>Life Sciences</td>\n",
       "      <td>Other</td>\n",
       "      <td>Female</td>\n",
       "      <td>16</td>\n",
       "      <td>1</td>\n",
       "      <td>1</td>\n",
       "      <td>1</td>\n",
       "      <td>10</td>\n",
       "      <td>Yes</td>\n",
       "    </tr>\n",
       "    <tr>\n",
       "      <th>34</th>\n",
       "      <td>Maternity</td>\n",
       "      <td>Yes</td>\n",
       "      <td>Medical</td>\n",
       "      <td>Other</td>\n",
       "      <td>Male</td>\n",
       "      <td>1</td>\n",
       "      <td>3</td>\n",
       "      <td>1</td>\n",
       "      <td>4</td>\n",
       "      <td>2</td>\n",
       "      <td>Yes</td>\n",
       "    </tr>\n",
       "    <tr>\n",
       "      <th>42</th>\n",
       "      <td>Maternity</td>\n",
       "      <td>Yes</td>\n",
       "      <td>Life Sciences</td>\n",
       "      <td>Nurse</td>\n",
       "      <td>Male</td>\n",
       "      <td>25</td>\n",
       "      <td>1</td>\n",
       "      <td>1</td>\n",
       "      <td>3</td>\n",
       "      <td>1</td>\n",
       "      <td>No</td>\n",
       "    </tr>\n",
       "    <tr>\n",
       "      <th>50</th>\n",
       "      <td>Maternity</td>\n",
       "      <td>Yes</td>\n",
       "      <td>Life Sciences</td>\n",
       "      <td>Nurse</td>\n",
       "      <td>Male</td>\n",
       "      <td>1</td>\n",
       "      <td>2</td>\n",
       "      <td>3</td>\n",
       "      <td>3</td>\n",
       "      <td>1</td>\n",
       "      <td>Yes</td>\n",
       "    </tr>\n",
       "    <tr>\n",
       "      <th>...</th>\n",
       "      <td>...</td>\n",
       "      <td>...</td>\n",
       "      <td>...</td>\n",
       "      <td>...</td>\n",
       "      <td>...</td>\n",
       "      <td>...</td>\n",
       "      <td>...</td>\n",
       "      <td>...</td>\n",
       "      <td>...</td>\n",
       "      <td>...</td>\n",
       "      <td>...</td>\n",
       "    </tr>\n",
       "    <tr>\n",
       "      <th>1654</th>\n",
       "      <td>Maternity</td>\n",
       "      <td>Yes</td>\n",
       "      <td>Life Sciences</td>\n",
       "      <td>Nurse</td>\n",
       "      <td>Male</td>\n",
       "      <td>3</td>\n",
       "      <td>2</td>\n",
       "      <td>1</td>\n",
       "      <td>4</td>\n",
       "      <td>0</td>\n",
       "      <td>Yes</td>\n",
       "    </tr>\n",
       "    <tr>\n",
       "      <th>1655</th>\n",
       "      <td>Maternity</td>\n",
       "      <td>Yes</td>\n",
       "      <td>Life Sciences</td>\n",
       "      <td>Nurse</td>\n",
       "      <td>Female</td>\n",
       "      <td>8</td>\n",
       "      <td>2</td>\n",
       "      <td>1</td>\n",
       "      <td>2</td>\n",
       "      <td>1</td>\n",
       "      <td>No</td>\n",
       "    </tr>\n",
       "    <tr>\n",
       "      <th>1661</th>\n",
       "      <td>Maternity</td>\n",
       "      <td>Yes</td>\n",
       "      <td>Life Sciences</td>\n",
       "      <td>Nurse</td>\n",
       "      <td>Female</td>\n",
       "      <td>15</td>\n",
       "      <td>1</td>\n",
       "      <td>1</td>\n",
       "      <td>4</td>\n",
       "      <td>5</td>\n",
       "      <td>Yes</td>\n",
       "    </tr>\n",
       "    <tr>\n",
       "      <th>1669</th>\n",
       "      <td>Maternity</td>\n",
       "      <td>Yes</td>\n",
       "      <td>Medical</td>\n",
       "      <td>Nurse</td>\n",
       "      <td>Male</td>\n",
       "      <td>25</td>\n",
       "      <td>2</td>\n",
       "      <td>1</td>\n",
       "      <td>2</td>\n",
       "      <td>2</td>\n",
       "      <td>Yes</td>\n",
       "    </tr>\n",
       "    <tr>\n",
       "      <th>1670</th>\n",
       "      <td>Maternity</td>\n",
       "      <td>Yes</td>\n",
       "      <td>Life Sciences</td>\n",
       "      <td>Nurse</td>\n",
       "      <td>Female</td>\n",
       "      <td>1</td>\n",
       "      <td>1</td>\n",
       "      <td>1</td>\n",
       "      <td>2</td>\n",
       "      <td>7</td>\n",
       "      <td>Yes</td>\n",
       "    </tr>\n",
       "  </tbody>\n",
       "</table>\n",
       "<p>80 rows × 11 columns</p>\n",
       "</div>"
      ],
      "text/plain": [
       "     Department Attrition EducationField JobRole  Gender  DistanceFromHome  \\\n",
       "14    Maternity       Yes  Life Sciences   Nurse    Male                24   \n",
       "26    Maternity       Yes  Life Sciences   Other  Female                16   \n",
       "34    Maternity       Yes        Medical   Other    Male                 1   \n",
       "42    Maternity       Yes  Life Sciences   Nurse    Male                25   \n",
       "50    Maternity       Yes  Life Sciences   Nurse    Male                 1   \n",
       "...         ...       ...            ...     ...     ...               ...   \n",
       "1654  Maternity       Yes  Life Sciences   Nurse    Male                 3   \n",
       "1655  Maternity       Yes  Life Sciences   Nurse  Female                 8   \n",
       "1661  Maternity       Yes  Life Sciences   Nurse  Female                15   \n",
       "1669  Maternity       Yes        Medical   Nurse    Male                25   \n",
       "1670  Maternity       Yes  Life Sciences   Nurse  Female                 1   \n",
       "\n",
       "      JobInvolvement  JobLevel  JobSatisfaction  YearsAtCompany OverTime  \n",
       "14                 2         1                3               4      Yes  \n",
       "26                 1         1                1              10      Yes  \n",
       "34                 3         1                4               2      Yes  \n",
       "42                 1         1                3               1       No  \n",
       "50                 2         3                3               1      Yes  \n",
       "...              ...       ...              ...             ...      ...  \n",
       "1654               2         1                4               0      Yes  \n",
       "1655               2         1                2               1       No  \n",
       "1661               1         1                4               5      Yes  \n",
       "1669               2         1                2               2      Yes  \n",
       "1670               1         1                2               7      Yes  \n",
       "\n",
       "[80 rows x 11 columns]"
      ]
     },
     "execution_count": 22,
     "metadata": {},
     "output_type": "execute_result"
    }
   ],
   "source": [
    "maternity_df_educationfield = maternity_df_attrition[(maternity_df_attrition[\"EducationField\"] == \"Life Sciences\")|(maternity_df_attrition[\"EducationField\"] == \"Medical\")] \n",
    "maternity_df_educationfield"
   ]
  },
  {
   "cell_type": "code",
   "execution_count": 210,
   "id": "90e1d875",
   "metadata": {},
   "outputs": [
    {
     "data": {
      "text/html": [
       "<div>\n",
       "<style scoped>\n",
       "    .dataframe tbody tr th:only-of-type {\n",
       "        vertical-align: middle;\n",
       "    }\n",
       "\n",
       "    .dataframe tbody tr th {\n",
       "        vertical-align: top;\n",
       "    }\n",
       "\n",
       "    .dataframe thead th {\n",
       "        text-align: right;\n",
       "    }\n",
       "</style>\n",
       "<table border=\"1\" class=\"dataframe\">\n",
       "  <thead>\n",
       "    <tr style=\"text-align: right;\">\n",
       "      <th></th>\n",
       "      <th>Department</th>\n",
       "      <th>Attrition</th>\n",
       "      <th>EducationField</th>\n",
       "      <th>JobRole</th>\n",
       "      <th>Gender</th>\n",
       "      <th>DistanceFromHome</th>\n",
       "      <th>JobInvolvement</th>\n",
       "      <th>JobLevel</th>\n",
       "      <th>JobSatisfaction</th>\n",
       "      <th>YearsAtCompany</th>\n",
       "      <th>OverTime</th>\n",
       "    </tr>\n",
       "  </thead>\n",
       "  <tbody>\n",
       "    <tr>\n",
       "      <th>14</th>\n",
       "      <td>Maternity</td>\n",
       "      <td>Yes</td>\n",
       "      <td>Life Sciences</td>\n",
       "      <td>Nurse</td>\n",
       "      <td>Male</td>\n",
       "      <td>24</td>\n",
       "      <td>2</td>\n",
       "      <td>1</td>\n",
       "      <td>3</td>\n",
       "      <td>4</td>\n",
       "      <td>Yes</td>\n",
       "    </tr>\n",
       "    <tr>\n",
       "      <th>42</th>\n",
       "      <td>Maternity</td>\n",
       "      <td>Yes</td>\n",
       "      <td>Life Sciences</td>\n",
       "      <td>Nurse</td>\n",
       "      <td>Male</td>\n",
       "      <td>25</td>\n",
       "      <td>1</td>\n",
       "      <td>1</td>\n",
       "      <td>3</td>\n",
       "      <td>1</td>\n",
       "      <td>No</td>\n",
       "    </tr>\n",
       "    <tr>\n",
       "      <th>50</th>\n",
       "      <td>Maternity</td>\n",
       "      <td>Yes</td>\n",
       "      <td>Life Sciences</td>\n",
       "      <td>Nurse</td>\n",
       "      <td>Male</td>\n",
       "      <td>1</td>\n",
       "      <td>2</td>\n",
       "      <td>3</td>\n",
       "      <td>3</td>\n",
       "      <td>1</td>\n",
       "      <td>Yes</td>\n",
       "    </tr>\n",
       "    <tr>\n",
       "      <th>102</th>\n",
       "      <td>Maternity</td>\n",
       "      <td>Yes</td>\n",
       "      <td>Life Sciences</td>\n",
       "      <td>Nurse</td>\n",
       "      <td>Female</td>\n",
       "      <td>6</td>\n",
       "      <td>2</td>\n",
       "      <td>1</td>\n",
       "      <td>4</td>\n",
       "      <td>1</td>\n",
       "      <td>Yes</td>\n",
       "    </tr>\n",
       "    <tr>\n",
       "      <th>111</th>\n",
       "      <td>Maternity</td>\n",
       "      <td>Yes</td>\n",
       "      <td>Life Sciences</td>\n",
       "      <td>Nurse</td>\n",
       "      <td>Male</td>\n",
       "      <td>7</td>\n",
       "      <td>1</td>\n",
       "      <td>2</td>\n",
       "      <td>3</td>\n",
       "      <td>9</td>\n",
       "      <td>Yes</td>\n",
       "    </tr>\n",
       "  </tbody>\n",
       "</table>\n",
       "</div>"
      ],
      "text/plain": [
       "    Department Attrition EducationField JobRole  Gender  DistanceFromHome  \\\n",
       "14   Maternity       Yes  Life Sciences   Nurse    Male                24   \n",
       "42   Maternity       Yes  Life Sciences   Nurse    Male                25   \n",
       "50   Maternity       Yes  Life Sciences   Nurse    Male                 1   \n",
       "102  Maternity       Yes  Life Sciences   Nurse  Female                 6   \n",
       "111  Maternity       Yes  Life Sciences   Nurse    Male                 7   \n",
       "\n",
       "     JobInvolvement  JobLevel  JobSatisfaction  YearsAtCompany OverTime  \n",
       "14                2         1                3               4      Yes  \n",
       "42                1         1                3               1       No  \n",
       "50                2         3                3               1      Yes  \n",
       "102               2         1                4               1      Yes  \n",
       "111               1         2                3               9      Yes  "
      ]
     },
     "execution_count": 210,
     "metadata": {},
     "output_type": "execute_result"
    }
   ],
   "source": [
    "maternity_final = maternity_df_educationfield[(maternity_df_educationfield[\"JobRole\"] == \"Nurse\")]\n",
    "maternity_final.head()"
   ]
  },
  {
   "cell_type": "markdown",
   "id": "913a10cf",
   "metadata": {},
   "source": [
    "# Total Count of RNs"
   ]
  },
  {
   "cell_type": "code",
   "execution_count": 24,
   "id": "233b0f25",
   "metadata": {},
   "outputs": [
    {
     "data": {
      "text/plain": [
       "48"
      ]
     },
     "execution_count": 24,
     "metadata": {},
     "output_type": "execute_result"
    }
   ],
   "source": [
    "maternity_final_rn = maternity_final[(maternity_final[\"JobRole\"] == \"Nurse\")].count()[\"JobRole\"]\n",
    "maternity_final_rn"
   ]
  },
  {
   "cell_type": "markdown",
   "id": "eb31fe4d",
   "metadata": {},
   "source": [
    "# Female v Male "
   ]
  },
  {
   "cell_type": "code",
   "execution_count": 25,
   "id": "7c889f87",
   "metadata": {},
   "outputs": [
    {
     "data": {
      "text/plain": [
       "17"
      ]
     },
     "execution_count": 25,
     "metadata": {},
     "output_type": "execute_result"
    }
   ],
   "source": [
    "maternity_df_female = maternity_final[(maternity_final[\"Gender\"] == \"Female\")].count()[\"Gender\"]\n",
    "maternity_df_female"
   ]
  },
  {
   "cell_type": "code",
   "execution_count": 26,
   "id": "5d9098c1",
   "metadata": {},
   "outputs": [
    {
     "data": {
      "text/plain": [
       "31"
      ]
     },
     "execution_count": 26,
     "metadata": {},
     "output_type": "execute_result"
    }
   ],
   "source": [
    "maternity_df_male = maternity_final[(maternity_final[\"Gender\"] == \"Male\")].count()[\"Gender\"]\n",
    "maternity_df_male"
   ]
  },
  {
   "cell_type": "code",
   "execution_count": 124,
   "id": "0d1f62a8",
   "metadata": {},
   "outputs": [
    {
     "data": {
      "text/plain": [
       "Text(0.5, 1.0, 'Maternity RN Gender Attrition')"
      ]
     },
     "execution_count": 124,
     "metadata": {},
     "output_type": "execute_result"
    },
    {
     "data": {
      "image/png": "[encoded data removed]",
      "text/plain": [
       "<Figure size 640x480 with 1 Axes>"
      ]
     },
     "metadata": {},
     "output_type": "display_data"
    }
   ],
   "source": [
    "labels = [\"Female\", \"Male\"]\n",
    "\n",
    "gender_breakdown = [35,65]\n",
    "\n",
    "colors = [\"lightblue\", \"orange\"]\n",
    "\n",
    "explode = (0.1, 0)\n",
    "\n",
    "plt.pie(gender_breakdown, explode=explode, labels=labels, colors=colors,\n",
    "        autopct=\"%1.1f%%\", shadow=True, startangle=140)\n",
    "\n",
    "plt.title(\"Maternity RN Gender Attrition\")"
   ]
  },
  {
   "cell_type": "markdown",
   "id": "e8caed8e",
   "metadata": {},
   "source": [
    "# Travel Distance to Work"
   ]
  },
  {
   "cell_type": "code",
   "execution_count": 96,
   "id": "0c4b9405",
   "metadata": {},
   "outputs": [
    {
     "data": {
      "text/plain": [
       "24"
      ]
     },
     "execution_count": 96,
     "metadata": {},
     "output_type": "execute_result"
    }
   ],
   "source": [
    "maternity_dfh_short = maternity_final[(maternity_final[\"DistanceFromHome\"] <=7)].count()[\"DistanceFromHome\"]\n",
    "maternity_dfh_short"
   ]
  },
  {
   "cell_type": "code",
   "execution_count": 30,
   "id": "5f813735",
   "metadata": {},
   "outputs": [
    {
     "data": {
      "text/plain": [
       "24"
      ]
     },
     "execution_count": 30,
     "metadata": {},
     "output_type": "execute_result"
    }
   ],
   "source": [
    "maternity_dfh_long = maternity_final[(maternity_final[\"DistanceFromHome\"] >=8)].count()[\"DistanceFromHome\"]\n",
    "maternity_dfh_long"
   ]
  },
  {
   "cell_type": "code",
   "execution_count": 123,
   "id": "18a4af19",
   "metadata": {},
   "outputs": [
    {
     "data": {
      "text/plain": [
       "Text(0.5, 1.0, 'Maternity RN Travel Distance to Work')"
      ]
     },
     "execution_count": 123,
     "metadata": {},
     "output_type": "execute_result"
    },
    {
     "data": {
      "image/png": "[encoded data removed]",
      "text/plain": [
       "<Figure size 640x480 with 1 Axes>"
      ]
     },
     "metadata": {},
     "output_type": "display_data"
    }
   ],
   "source": [
    "labels = [\"Commutes 1-7 miles\", \"Commutes 8+ miles\"]\n",
    "\n",
    "gender_breakdown = [50,50]\n",
    "\n",
    "colors = [\"lightblue\", \"orange\"]\n",
    "\n",
    "explode = (0.1, 0)\n",
    "\n",
    "plt.pie(gender_breakdown, explode=explode, labels=labels, colors=colors,\n",
    "        autopct=\"%1.1f%%\", shadow=True, startangle=140)\n",
    "\n",
    "plt.title(\"Maternity RN Travel Distance to Work\")"
   ]
  },
  {
   "cell_type": "markdown",
   "id": "4e8efaeb",
   "metadata": {},
   "source": [
    "# Level of Job Involvement "
   ]
  },
  {
   "cell_type": "code",
   "execution_count": 31,
   "id": "f96ac792",
   "metadata": {},
   "outputs": [
    {
     "data": {
      "text/plain": [
       "6"
      ]
     },
     "execution_count": 31,
     "metadata": {},
     "output_type": "execute_result"
    }
   ],
   "source": [
    "maternity_job_involvement_low = maternity_final[(maternity_final[\"JobInvolvement\"] == 1)].count()[\"JobInvolvement\"]\n",
    "maternity_job_involvement_low"
   ]
  },
  {
   "cell_type": "code",
   "execution_count": 32,
   "id": "8451dcf8",
   "metadata": {},
   "outputs": [
    {
     "data": {
      "text/plain": [
       "42"
      ]
     },
     "execution_count": 32,
     "metadata": {},
     "output_type": "execute_result"
    }
   ],
   "source": [
    "maternity_job_involvement_high = maternity_final[(maternity_final[\"JobInvolvement\"] > 1)].count()[\"JobInvolvement\"]\n",
    "maternity_job_involvement_high"
   ]
  },
  {
   "cell_type": "code",
   "execution_count": 206,
   "id": "84e1c319",
   "metadata": {},
   "outputs": [
    {
     "data": {
      "text/plain": [
       "Text(0.5, 1.0, 'Maternity RN Job Involvement')"
      ]
     },
     "execution_count": 206,
     "metadata": {},
     "output_type": "execute_result"
    },
    {
     "data": {
      "image/png": "[encoded data removed]",
      "text/plain": [
       "<Figure size 640x480 with 1 Axes>"
      ]
     },
     "metadata": {},
     "output_type": "display_data"
    }
   ],
   "source": [
    "labels = [\"Low Job Involvement (=1)\", \"High Job Involvement (>1)\"]\n",
    "\n",
    "gender_breakdown = [12,88]\n",
    "\n",
    "colors = [\"lightblue\", \"orange\"]\n",
    "\n",
    "explode = (0.1, 0)\n",
    "\n",
    "plt.pie(gender_breakdown, explode=explode, labels=labels, colors=colors,\n",
    "        autopct=\"%1.1f%%\", shadow=True, startangle=140)\n",
    "\n",
    "plt.title(\"Maternity RN Job Involvement\")"
   ]
  },
  {
   "cell_type": "markdown",
   "id": "669ad9d1",
   "metadata": {},
   "source": [
    "# Job Level (1-3)"
   ]
  },
  {
   "cell_type": "code",
   "execution_count": 33,
   "id": "12825863",
   "metadata": {},
   "outputs": [
    {
     "data": {
      "text/plain": [
       "43"
      ]
     },
     "execution_count": 33,
     "metadata": {},
     "output_type": "execute_result"
    }
   ],
   "source": [
    "maternity_job_level_1 = maternity_final[(maternity_final[\"JobLevel\"] == 1)].count()[\"JobLevel\"]\n",
    "maternity_job_level_1"
   ]
  },
  {
   "cell_type": "code",
   "execution_count": 34,
   "id": "e56b0d27",
   "metadata": {},
   "outputs": [
    {
     "data": {
      "text/plain": [
       "3"
      ]
     },
     "execution_count": 34,
     "metadata": {},
     "output_type": "execute_result"
    }
   ],
   "source": [
    "maternity_job_level_2 = maternity_final[(maternity_final[\"JobLevel\"] == 2)].count()[\"JobLevel\"]\n",
    "maternity_job_level_2"
   ]
  },
  {
   "cell_type": "code",
   "execution_count": 35,
   "id": "10d1cf7f",
   "metadata": {},
   "outputs": [
    {
     "data": {
      "text/plain": [
       "2"
      ]
     },
     "execution_count": 35,
     "metadata": {},
     "output_type": "execute_result"
    }
   ],
   "source": [
    "maternity_job_level_3 = maternity_final[(maternity_final[\"JobLevel\"] == 3)].count()[\"JobLevel\"]\n",
    "maternity_job_level_3"
   ]
  },
  {
   "cell_type": "code",
   "execution_count": 193,
   "id": "f9f381a2",
   "metadata": {},
   "outputs": [
    {
     "data": {
      "text/plain": [
       "Text(0, 0.5, 'Total Percentage of RNs in Job Level')"
      ]
     },
     "execution_count": 193,
     "metadata": {},
     "output_type": "execute_result"
    },
    {
     "data": {
      "image/png": "[encoded data removed]",
      "text/plain": [
       "<Figure size 640x480 with 1 Axes>"
      ]
     },
     "metadata": {},
     "output_type": "display_data"
    }
   ],
   "source": [
    "levels = [\"Level 1\", \"Level 2\", \"Level 3\"]\n",
    "level_percentages = [89.5,6.25,4.25]\n",
    "x_axis = np.arange(len(level_percentages))\n",
    "\n",
    "plt.bar(x_axis, level_percentages, color=\"lightblue\", align=\"center\")\n",
    "\n",
    "tick_locations = [level for level in x_axis]\n",
    "plt.xticks(tick_locations, levels)\n",
    "\n",
    "\n",
    "plt.title(\"Maternity RN Job Levels\")\n",
    "plt.ylabel(\"Total Percentage of RNs in Job Level\")"
   ]
  },
  {
   "cell_type": "markdown",
   "id": "723e74ce",
   "metadata": {},
   "source": [
    "# Job Satisfaction (1-4)"
   ]
  },
  {
   "cell_type": "code",
   "execution_count": 36,
   "id": "8944deca",
   "metadata": {},
   "outputs": [
    {
     "data": {
      "text/plain": [
       "22"
      ]
     },
     "execution_count": 36,
     "metadata": {},
     "output_type": "execute_result"
    }
   ],
   "source": [
    "maternity_job_satisfaction_low = maternity_final[(maternity_final[\"JobSatisfaction\"] <= 2)].count()[\"JobSatisfaction\"]\n",
    "maternity_job_satisfaction_low"
   ]
  },
  {
   "cell_type": "code",
   "execution_count": 37,
   "id": "e146a84d",
   "metadata": {},
   "outputs": [
    {
     "data": {
      "text/plain": [
       "26"
      ]
     },
     "execution_count": 37,
     "metadata": {},
     "output_type": "execute_result"
    }
   ],
   "source": [
    "maternity_job_satisfaction_high = maternity_final[(maternity_final[\"JobSatisfaction\"] >= 3)].count()[\"JobSatisfaction\"]\n",
    "maternity_job_satisfaction_high"
   ]
  },
  {
   "cell_type": "code",
   "execution_count": 126,
   "id": "8f73b903",
   "metadata": {},
   "outputs": [
    {
     "data": {
      "text/plain": [
       "Text(0.5, 1.0, 'Maternity RN Job Satisfaction')"
      ]
     },
     "execution_count": 126,
     "metadata": {},
     "output_type": "execute_result"
    },
    {
     "data": {
      "image/png": "[encoded data removed]",
      "text/plain": [
       "<Figure size 640x480 with 1 Axes>"
      ]
     },
     "metadata": {},
     "output_type": "display_data"
    }
   ],
   "source": [
    "labels = [\"Low Job Satisfaction (<=2)\", \"High Job Satisfaction (>=3)\"]\n",
    "\n",
    "gender_breakdown = [46,54]\n",
    "\n",
    "colors = [\"lightblue\", \"orange\"]\n",
    "\n",
    "explode = (0.1, 0)\n",
    "\n",
    "plt.pie(gender_breakdown, explode=explode, labels=labels, colors=colors,\n",
    "        autopct=\"%1.1f%%\", shadow=True, startangle=140)\n",
    "\n",
    "plt.title(\"Maternity RN Job Satisfaction\")"
   ]
  },
  {
   "cell_type": "markdown",
   "id": "cef3052c",
   "metadata": {},
   "source": [
    "# Tenure"
   ]
  },
  {
   "cell_type": "code",
   "execution_count": 38,
   "id": "923d52bc",
   "metadata": {},
   "outputs": [
    {
     "data": {
      "text/plain": [
       "32"
      ]
     },
     "execution_count": 38,
     "metadata": {},
     "output_type": "execute_result"
    }
   ],
   "source": [
    "maternity_tenure_low = maternity_final[(maternity_final[\"YearsAtCompany\"] <= 2)].count()[\"YearsAtCompany\"]\n",
    "maternity_tenure_low"
   ]
  },
  {
   "cell_type": "code",
   "execution_count": 39,
   "id": "c3a1105f",
   "metadata": {},
   "outputs": [
    {
     "data": {
      "text/plain": [
       "16"
      ]
     },
     "execution_count": 39,
     "metadata": {},
     "output_type": "execute_result"
    }
   ],
   "source": [
    "maternity_tenure_high = maternity_final[(maternity_final[\"YearsAtCompany\"] >=3)].count()[\"YearsAtCompany\"]\n",
    "maternity_tenure_high"
   ]
  },
  {
   "cell_type": "code",
   "execution_count": 202,
   "id": "5f7e95df",
   "metadata": {},
   "outputs": [
    {
     "data": {
      "text/plain": [
       "Text(0.5, 1.0, 'Maternity RN Tenure')"
      ]
     },
     "execution_count": 202,
     "metadata": {},
     "output_type": "execute_result"
    },
    {
     "data": {
      "image/png": "[encoded data removed]",
      "text/plain": [
       "<Figure size 640x480 with 1 Axes>"
      ]
     },
     "metadata": {},
     "output_type": "display_data"
    }
   ],
   "source": [
    "labels = [\"Tenure less than 2 Years\", \"Tenure 3+ Years\"]\n",
    "\n",
    "gender_breakdown = [67,33]\n",
    "\n",
    "colors = [\"lightblue\", \"orange\"]\n",
    "\n",
    "explode = (0, 0.1)\n",
    "\n",
    "plt.pie(gender_breakdown, explode=explode, labels=labels, colors=colors,\n",
    "        autopct=\"%1.1f%%\", shadow=True, startangle=140)\n",
    "\n",
    "plt.title(\"Maternity RN Tenure\")"
   ]
  },
  {
   "cell_type": "markdown",
   "id": "b18bf973",
   "metadata": {},
   "source": [
    "# Overtime"
   ]
  },
  {
   "cell_type": "code",
   "execution_count": 40,
   "id": "a4bb494a",
   "metadata": {},
   "outputs": [
    {
     "data": {
      "text/plain": [
       "31"
      ]
     },
     "execution_count": 40,
     "metadata": {},
     "output_type": "execute_result"
    }
   ],
   "source": [
    "maternity_overtime = maternity_final[(maternity_final[\"OverTime\"] == \"Yes\")].count()[\"OverTime\"]\n",
    "maternity_overtime"
   ]
  },
  {
   "cell_type": "code",
   "execution_count": 133,
   "id": "a172258b",
   "metadata": {},
   "outputs": [
    {
     "data": {
      "text/plain": [
       "Text(0.5, 1.0, 'Maternity RN Overtime')"
      ]
     },
     "execution_count": 133,
     "metadata": {},
     "output_type": "execute_result"
    },
    {
     "data": {
      "image/png": "[encoded data removed]",
      "text/plain": [
       "<Figure size 640x480 with 1 Axes>"
      ]
     },
     "metadata": {},
     "output_type": "display_data"
    }
   ],
   "source": [
    "labels = [\"Works Overtime\", \"Does not work Overtime\"]\n",
    "\n",
    "gender_breakdown = [65,35]\n",
    "\n",
    "colors = [\"lightblue\", \"orange\"]\n",
    "\n",
    "explode = (0.1, 0)\n",
    "\n",
    "plt.pie(gender_breakdown, explode=explode, labels=labels, colors=colors,\n",
    "        autopct=\"%1.1f%%\", shadow=True, startangle=140)\n",
    "\n",
    "plt.title(\"Maternity RN Overtime\")"
   ]
  },
  {
   "cell_type": "markdown",
   "id": "70501fa2",
   "metadata": {},
   "source": [
    "# Neurology Data #"
   ]
  },
  {
   "cell_type": "code",
   "execution_count": 134,
   "id": "29074766",
   "metadata": {},
   "outputs": [
    {
     "data": {
      "text/html": [
       "<div>\n",
       "<style scoped>\n",
       "    .dataframe tbody tr th:only-of-type {\n",
       "        vertical-align: middle;\n",
       "    }\n",
       "\n",
       "    .dataframe tbody tr th {\n",
       "        vertical-align: top;\n",
       "    }\n",
       "\n",
       "    .dataframe thead th {\n",
       "        text-align: right;\n",
       "    }\n",
       "</style>\n",
       "<table border=\"1\" class=\"dataframe\">\n",
       "  <thead>\n",
       "    <tr style=\"text-align: right;\">\n",
       "      <th></th>\n",
       "      <th>Department</th>\n",
       "      <th>Attrition</th>\n",
       "      <th>EducationField</th>\n",
       "      <th>JobRole</th>\n",
       "      <th>Gender</th>\n",
       "      <th>DistanceFromHome</th>\n",
       "      <th>JobInvolvement</th>\n",
       "      <th>JobLevel</th>\n",
       "      <th>JobSatisfaction</th>\n",
       "      <th>YearsAtCompany</th>\n",
       "      <th>OverTime</th>\n",
       "    </tr>\n",
       "  </thead>\n",
       "  <tbody>\n",
       "    <tr>\n",
       "      <th>22</th>\n",
       "      <td>Neurology</td>\n",
       "      <td>No</td>\n",
       "      <td>Life Sciences</td>\n",
       "      <td>Other</td>\n",
       "      <td>Female</td>\n",
       "      <td>7</td>\n",
       "      <td>3</td>\n",
       "      <td>3</td>\n",
       "      <td>2</td>\n",
       "      <td>12</td>\n",
       "      <td>No</td>\n",
       "    </tr>\n",
       "    <tr>\n",
       "      <th>25</th>\n",
       "      <td>Neurology</td>\n",
       "      <td>No</td>\n",
       "      <td>Other</td>\n",
       "      <td>Other</td>\n",
       "      <td>Female</td>\n",
       "      <td>5</td>\n",
       "      <td>3</td>\n",
       "      <td>5</td>\n",
       "      <td>3</td>\n",
       "      <td>14</td>\n",
       "      <td>No</td>\n",
       "    </tr>\n",
       "    <tr>\n",
       "      <th>45</th>\n",
       "      <td>Neurology</td>\n",
       "      <td>No</td>\n",
       "      <td>Technical Degree</td>\n",
       "      <td>Other</td>\n",
       "      <td>Female</td>\n",
       "      <td>12</td>\n",
       "      <td>3</td>\n",
       "      <td>5</td>\n",
       "      <td>3</td>\n",
       "      <td>22</td>\n",
       "      <td>No</td>\n",
       "    </tr>\n",
       "    <tr>\n",
       "      <th>55</th>\n",
       "      <td>Neurology</td>\n",
       "      <td>No</td>\n",
       "      <td>Life Sciences</td>\n",
       "      <td>Other</td>\n",
       "      <td>Female</td>\n",
       "      <td>1</td>\n",
       "      <td>3</td>\n",
       "      <td>3</td>\n",
       "      <td>4</td>\n",
       "      <td>15</td>\n",
       "      <td>Yes</td>\n",
       "    </tr>\n",
       "    <tr>\n",
       "      <th>59</th>\n",
       "      <td>Neurology</td>\n",
       "      <td>No</td>\n",
       "      <td>Life Sciences</td>\n",
       "      <td>Therapist</td>\n",
       "      <td>Male</td>\n",
       "      <td>1</td>\n",
       "      <td>2</td>\n",
       "      <td>2</td>\n",
       "      <td>3</td>\n",
       "      <td>7</td>\n",
       "      <td>No</td>\n",
       "    </tr>\n",
       "  </tbody>\n",
       "</table>\n",
       "</div>"
      ],
      "text/plain": [
       "   Department Attrition    EducationField    JobRole  Gender  \\\n",
       "22  Neurology        No     Life Sciences      Other  Female   \n",
       "25  Neurology        No             Other      Other  Female   \n",
       "45  Neurology        No  Technical Degree      Other  Female   \n",
       "55  Neurology        No     Life Sciences      Other  Female   \n",
       "59  Neurology        No     Life Sciences  Therapist    Male   \n",
       "\n",
       "    DistanceFromHome  JobInvolvement  JobLevel  JobSatisfaction  \\\n",
       "22                 7               3         3                2   \n",
       "25                 5               3         5                3   \n",
       "45                12               3         5                3   \n",
       "55                 1               3         3                4   \n",
       "59                 1               2         2                3   \n",
       "\n",
       "    YearsAtCompany OverTime  \n",
       "22              12       No  \n",
       "25              14       No  \n",
       "45              22       No  \n",
       "55              15      Yes  \n",
       "59               7       No  "
      ]
     },
     "execution_count": 134,
     "metadata": {},
     "output_type": "execute_result"
    }
   ],
   "source": [
    "neurology_df = attrition_new_df[(attrition_new_df[\"Department\"] == \"Neurology\")]\n",
    "neurology_df.head()"
   ]
  },
  {
   "cell_type": "code",
   "execution_count": 135,
   "id": "03da8272",
   "metadata": {},
   "outputs": [
    {
     "data": {
      "text/html": [
       "<div>\n",
       "<style scoped>\n",
       "    .dataframe tbody tr th:only-of-type {\n",
       "        vertical-align: middle;\n",
       "    }\n",
       "\n",
       "    .dataframe tbody tr th {\n",
       "        vertical-align: top;\n",
       "    }\n",
       "\n",
       "    .dataframe thead th {\n",
       "        text-align: right;\n",
       "    }\n",
       "</style>\n",
       "<table border=\"1\" class=\"dataframe\">\n",
       "  <thead>\n",
       "    <tr style=\"text-align: right;\">\n",
       "      <th></th>\n",
       "      <th>Department</th>\n",
       "      <th>Attrition</th>\n",
       "      <th>EducationField</th>\n",
       "      <th>JobRole</th>\n",
       "      <th>Gender</th>\n",
       "      <th>DistanceFromHome</th>\n",
       "      <th>JobInvolvement</th>\n",
       "      <th>JobLevel</th>\n",
       "      <th>JobSatisfaction</th>\n",
       "      <th>YearsAtCompany</th>\n",
       "      <th>OverTime</th>\n",
       "    </tr>\n",
       "  </thead>\n",
       "  <tbody>\n",
       "    <tr>\n",
       "      <th>100</th>\n",
       "      <td>Neurology</td>\n",
       "      <td>Yes</td>\n",
       "      <td>Human Resources</td>\n",
       "      <td>Other</td>\n",
       "      <td>Male</td>\n",
       "      <td>6</td>\n",
       "      <td>3</td>\n",
       "      <td>1</td>\n",
       "      <td>1</td>\n",
       "      <td>3</td>\n",
       "      <td>Yes</td>\n",
       "    </tr>\n",
       "    <tr>\n",
       "      <th>271</th>\n",
       "      <td>Neurology</td>\n",
       "      <td>Yes</td>\n",
       "      <td>Life Sciences</td>\n",
       "      <td>Other</td>\n",
       "      <td>Male</td>\n",
       "      <td>29</td>\n",
       "      <td>3</td>\n",
       "      <td>3</td>\n",
       "      <td>2</td>\n",
       "      <td>10</td>\n",
       "      <td>Yes</td>\n",
       "    </tr>\n",
       "    <tr>\n",
       "      <th>422</th>\n",
       "      <td>Neurology</td>\n",
       "      <td>Yes</td>\n",
       "      <td>Technical Degree</td>\n",
       "      <td>Other</td>\n",
       "      <td>Male</td>\n",
       "      <td>2</td>\n",
       "      <td>2</td>\n",
       "      <td>1</td>\n",
       "      <td>4</td>\n",
       "      <td>1</td>\n",
       "      <td>No</td>\n",
       "    </tr>\n",
       "    <tr>\n",
       "      <th>434</th>\n",
       "      <td>Neurology</td>\n",
       "      <td>Yes</td>\n",
       "      <td>Medical</td>\n",
       "      <td>Other</td>\n",
       "      <td>Male</td>\n",
       "      <td>15</td>\n",
       "      <td>3</td>\n",
       "      <td>3</td>\n",
       "      <td>3</td>\n",
       "      <td>7</td>\n",
       "      <td>Yes</td>\n",
       "    </tr>\n",
       "    <tr>\n",
       "      <th>439</th>\n",
       "      <td>Neurology</td>\n",
       "      <td>Yes</td>\n",
       "      <td>Human Resources</td>\n",
       "      <td>Other</td>\n",
       "      <td>Female</td>\n",
       "      <td>23</td>\n",
       "      <td>3</td>\n",
       "      <td>3</td>\n",
       "      <td>1</td>\n",
       "      <td>3</td>\n",
       "      <td>Yes</td>\n",
       "    </tr>\n",
       "  </tbody>\n",
       "</table>\n",
       "</div>"
      ],
      "text/plain": [
       "    Department Attrition    EducationField JobRole  Gender  DistanceFromHome  \\\n",
       "100  Neurology       Yes   Human Resources   Other    Male                 6   \n",
       "271  Neurology       Yes     Life Sciences   Other    Male                29   \n",
       "422  Neurology       Yes  Technical Degree   Other    Male                 2   \n",
       "434  Neurology       Yes           Medical   Other    Male                15   \n",
       "439  Neurology       Yes   Human Resources   Other  Female                23   \n",
       "\n",
       "     JobInvolvement  JobLevel  JobSatisfaction  YearsAtCompany OverTime  \n",
       "100               3         1                1               3      Yes  \n",
       "271               3         3                2              10      Yes  \n",
       "422               2         1                4               1       No  \n",
       "434               3         3                3               7      Yes  \n",
       "439               3         3                1               3      Yes  "
      ]
     },
     "execution_count": 135,
     "metadata": {},
     "output_type": "execute_result"
    }
   ],
   "source": [
    "neurology_df_attrition = neurology_df[(neurology_df[\"Attrition\"] == \"Yes\")]\n",
    "neurology_df_attrition.head() "
   ]
  },
  {
   "cell_type": "code",
   "execution_count": 136,
   "id": "289102a0",
   "metadata": {},
   "outputs": [
    {
     "data": {
      "text/html": [
       "<div>\n",
       "<style scoped>\n",
       "    .dataframe tbody tr th:only-of-type {\n",
       "        vertical-align: middle;\n",
       "    }\n",
       "\n",
       "    .dataframe tbody tr th {\n",
       "        vertical-align: top;\n",
       "    }\n",
       "\n",
       "    .dataframe thead th {\n",
       "        text-align: right;\n",
       "    }\n",
       "</style>\n",
       "<table border=\"1\" class=\"dataframe\">\n",
       "  <thead>\n",
       "    <tr style=\"text-align: right;\">\n",
       "      <th></th>\n",
       "      <th>Department</th>\n",
       "      <th>Attrition</th>\n",
       "      <th>EducationField</th>\n",
       "      <th>JobRole</th>\n",
       "      <th>Gender</th>\n",
       "      <th>DistanceFromHome</th>\n",
       "      <th>JobInvolvement</th>\n",
       "      <th>JobLevel</th>\n",
       "      <th>JobSatisfaction</th>\n",
       "      <th>YearsAtCompany</th>\n",
       "      <th>OverTime</th>\n",
       "    </tr>\n",
       "  </thead>\n",
       "  <tbody>\n",
       "    <tr>\n",
       "      <th>271</th>\n",
       "      <td>Neurology</td>\n",
       "      <td>Yes</td>\n",
       "      <td>Life Sciences</td>\n",
       "      <td>Other</td>\n",
       "      <td>Male</td>\n",
       "      <td>29</td>\n",
       "      <td>3</td>\n",
       "      <td>3</td>\n",
       "      <td>2</td>\n",
       "      <td>10</td>\n",
       "      <td>Yes</td>\n",
       "    </tr>\n",
       "    <tr>\n",
       "      <th>434</th>\n",
       "      <td>Neurology</td>\n",
       "      <td>Yes</td>\n",
       "      <td>Medical</td>\n",
       "      <td>Other</td>\n",
       "      <td>Male</td>\n",
       "      <td>15</td>\n",
       "      <td>3</td>\n",
       "      <td>3</td>\n",
       "      <td>3</td>\n",
       "      <td>7</td>\n",
       "      <td>Yes</td>\n",
       "    </tr>\n",
       "    <tr>\n",
       "      <th>452</th>\n",
       "      <td>Neurology</td>\n",
       "      <td>Yes</td>\n",
       "      <td>Life Sciences</td>\n",
       "      <td>Other</td>\n",
       "      <td>Female</td>\n",
       "      <td>17</td>\n",
       "      <td>3</td>\n",
       "      <td>1</td>\n",
       "      <td>3</td>\n",
       "      <td>7</td>\n",
       "      <td>Yes</td>\n",
       "    </tr>\n",
       "    <tr>\n",
       "      <th>566</th>\n",
       "      <td>Neurology</td>\n",
       "      <td>Yes</td>\n",
       "      <td>Medical</td>\n",
       "      <td>Other</td>\n",
       "      <td>Male</td>\n",
       "      <td>2</td>\n",
       "      <td>3</td>\n",
       "      <td>5</td>\n",
       "      <td>1</td>\n",
       "      <td>5</td>\n",
       "      <td>Yes</td>\n",
       "    </tr>\n",
       "    <tr>\n",
       "      <th>1308</th>\n",
       "      <td>Neurology</td>\n",
       "      <td>Yes</td>\n",
       "      <td>Medical</td>\n",
       "      <td>Other</td>\n",
       "      <td>Female</td>\n",
       "      <td>14</td>\n",
       "      <td>3</td>\n",
       "      <td>1</td>\n",
       "      <td>3</td>\n",
       "      <td>0</td>\n",
       "      <td>No</td>\n",
       "    </tr>\n",
       "  </tbody>\n",
       "</table>\n",
       "</div>"
      ],
      "text/plain": [
       "     Department Attrition EducationField JobRole  Gender  DistanceFromHome  \\\n",
       "271   Neurology       Yes  Life Sciences   Other    Male                29   \n",
       "434   Neurology       Yes        Medical   Other    Male                15   \n",
       "452   Neurology       Yes  Life Sciences   Other  Female                17   \n",
       "566   Neurology       Yes        Medical   Other    Male                 2   \n",
       "1308  Neurology       Yes        Medical   Other  Female                14   \n",
       "\n",
       "      JobInvolvement  JobLevel  JobSatisfaction  YearsAtCompany OverTime  \n",
       "271                3         3                2              10      Yes  \n",
       "434                3         3                3               7      Yes  \n",
       "452                3         1                3               7      Yes  \n",
       "566                3         5                1               5      Yes  \n",
       "1308               3         1                3               0       No  "
      ]
     },
     "execution_count": 136,
     "metadata": {},
     "output_type": "execute_result"
    }
   ],
   "source": [
    "neurology_df_educationfield = neurology_df_attrition[(neurology_df_attrition[\"EducationField\"] == \"Life Sciences\")|(neurology_df_attrition[\"EducationField\"] == \"Medical\")] \n",
    "neurology_df_educationfield.head()"
   ]
  },
  {
   "cell_type": "code",
   "execution_count": 137,
   "id": "87472248",
   "metadata": {},
   "outputs": [
    {
     "data": {
      "text/html": [
       "<div>\n",
       "<style scoped>\n",
       "    .dataframe tbody tr th:only-of-type {\n",
       "        vertical-align: middle;\n",
       "    }\n",
       "\n",
       "    .dataframe tbody tr th {\n",
       "        vertical-align: top;\n",
       "    }\n",
       "\n",
       "    .dataframe thead th {\n",
       "        text-align: right;\n",
       "    }\n",
       "</style>\n",
       "<table border=\"1\" class=\"dataframe\">\n",
       "  <thead>\n",
       "    <tr style=\"text-align: right;\">\n",
       "      <th></th>\n",
       "      <th>Department</th>\n",
       "      <th>Attrition</th>\n",
       "      <th>EducationField</th>\n",
       "      <th>JobRole</th>\n",
       "      <th>Gender</th>\n",
       "      <th>DistanceFromHome</th>\n",
       "      <th>JobInvolvement</th>\n",
       "      <th>JobLevel</th>\n",
       "      <th>JobSatisfaction</th>\n",
       "      <th>YearsAtCompany</th>\n",
       "      <th>OverTime</th>\n",
       "    </tr>\n",
       "  </thead>\n",
       "  <tbody>\n",
       "    <tr>\n",
       "      <th>1350</th>\n",
       "      <td>Neurology</td>\n",
       "      <td>Yes</td>\n",
       "      <td>Life Sciences</td>\n",
       "      <td>Nurse</td>\n",
       "      <td>Male</td>\n",
       "      <td>24</td>\n",
       "      <td>3</td>\n",
       "      <td>1</td>\n",
       "      <td>4</td>\n",
       "      <td>4</td>\n",
       "      <td>No</td>\n",
       "    </tr>\n",
       "    <tr>\n",
       "      <th>1651</th>\n",
       "      <td>Neurology</td>\n",
       "      <td>Yes</td>\n",
       "      <td>Life Sciences</td>\n",
       "      <td>Nurse</td>\n",
       "      <td>Male</td>\n",
       "      <td>2</td>\n",
       "      <td>2</td>\n",
       "      <td>1</td>\n",
       "      <td>4</td>\n",
       "      <td>1</td>\n",
       "      <td>No</td>\n",
       "    </tr>\n",
       "    <tr>\n",
       "      <th>1656</th>\n",
       "      <td>Neurology</td>\n",
       "      <td>Yes</td>\n",
       "      <td>Life Sciences</td>\n",
       "      <td>Nurse</td>\n",
       "      <td>Female</td>\n",
       "      <td>5</td>\n",
       "      <td>3</td>\n",
       "      <td>1</td>\n",
       "      <td>4</td>\n",
       "      <td>5</td>\n",
       "      <td>Yes</td>\n",
       "    </tr>\n",
       "    <tr>\n",
       "      <th>1663</th>\n",
       "      <td>Neurology</td>\n",
       "      <td>Yes</td>\n",
       "      <td>Life Sciences</td>\n",
       "      <td>Nurse</td>\n",
       "      <td>Male</td>\n",
       "      <td>6</td>\n",
       "      <td>4</td>\n",
       "      <td>1</td>\n",
       "      <td>1</td>\n",
       "      <td>0</td>\n",
       "      <td>Yes</td>\n",
       "    </tr>\n",
       "    <tr>\n",
       "      <th>1665</th>\n",
       "      <td>Neurology</td>\n",
       "      <td>Yes</td>\n",
       "      <td>Life Sciences</td>\n",
       "      <td>Nurse</td>\n",
       "      <td>Female</td>\n",
       "      <td>10</td>\n",
       "      <td>2</td>\n",
       "      <td>1</td>\n",
       "      <td>3</td>\n",
       "      <td>2</td>\n",
       "      <td>No</td>\n",
       "    </tr>\n",
       "  </tbody>\n",
       "</table>\n",
       "</div>"
      ],
      "text/plain": [
       "     Department Attrition EducationField JobRole  Gender  DistanceFromHome  \\\n",
       "1350  Neurology       Yes  Life Sciences   Nurse    Male                24   \n",
       "1651  Neurology       Yes  Life Sciences   Nurse    Male                 2   \n",
       "1656  Neurology       Yes  Life Sciences   Nurse  Female                 5   \n",
       "1663  Neurology       Yes  Life Sciences   Nurse    Male                 6   \n",
       "1665  Neurology       Yes  Life Sciences   Nurse  Female                10   \n",
       "\n",
       "      JobInvolvement  JobLevel  JobSatisfaction  YearsAtCompany OverTime  \n",
       "1350               3         1                4               4       No  \n",
       "1651               2         1                4               1       No  \n",
       "1656               3         1                4               5      Yes  \n",
       "1663               4         1                1               0      Yes  \n",
       "1665               2         1                3               2       No  "
      ]
     },
     "execution_count": 137,
     "metadata": {},
     "output_type": "execute_result"
    }
   ],
   "source": [
    "neurology_final = neurology_df_educationfield[(neurology_df_educationfield[\"JobRole\"] == \"Nurse\")]\n",
    "neurology_final.head()"
   ]
  },
  {
   "cell_type": "markdown",
   "id": "a8885119",
   "metadata": {},
   "source": [
    "# Total Count of RNs"
   ]
  },
  {
   "cell_type": "code",
   "execution_count": 139,
   "id": "87778f82",
   "metadata": {},
   "outputs": [
    {
     "data": {
      "text/plain": [
       "8"
      ]
     },
     "execution_count": 139,
     "metadata": {},
     "output_type": "execute_result"
    }
   ],
   "source": [
    "neurology_df_RN = neurology_final[(neurology_final[\"JobRole\"] == \"Nurse\")].count()[\"JobRole\"]\n",
    "neurology_df_RN"
   ]
  },
  {
   "cell_type": "markdown",
   "id": "4f284735",
   "metadata": {},
   "source": [
    "# Female v Male"
   ]
  },
  {
   "cell_type": "code",
   "execution_count": 140,
   "id": "4f13de8a",
   "metadata": {},
   "outputs": [
    {
     "data": {
      "text/plain": [
       "4"
      ]
     },
     "execution_count": 140,
     "metadata": {},
     "output_type": "execute_result"
    }
   ],
   "source": [
    "neurology_df_female = neurology_final[(neurology_final[\"Gender\"] == \"Female\")].count()[\"Gender\"]\n",
    "neurology_df_female"
   ]
  },
  {
   "cell_type": "code",
   "execution_count": 141,
   "id": "2ae4bbcc",
   "metadata": {},
   "outputs": [
    {
     "name": "stderr",
     "output_type": "stream",
     "text": [
      "/var/folders/xh/ng1p8msd4q79nym6tw79d_j00000gn/T/ipykernel_5759/847738561.py:1: UserWarning: Boolean Series key will be reindexed to match DataFrame index.\n",
      "  neurology_df_male = neurology_final[(neurology_df[\"Gender\"] == \"Male\")].count()[\"Gender\"]\n"
     ]
    },
    {
     "data": {
      "text/plain": [
       "4"
      ]
     },
     "execution_count": 141,
     "metadata": {},
     "output_type": "execute_result"
    }
   ],
   "source": [
    "neurology_df_male = neurology_final[(neurology_df[\"Gender\"] == \"Male\")].count()[\"Gender\"]\n",
    "neurology_df_male"
   ]
  },
  {
   "cell_type": "code",
   "execution_count": 147,
   "id": "e32ee310",
   "metadata": {},
   "outputs": [
    {
     "data": {
      "text/plain": [
       "Text(0.5, 1.0, 'Neurology RN Gender Attrition')"
      ]
     },
     "execution_count": 147,
     "metadata": {},
     "output_type": "execute_result"
    },
    {
     "data": {
      "image/png": "[encoded data removed]",
      "text/plain": [
       "<Figure size 640x480 with 1 Axes>"
      ]
     },
     "metadata": {},
     "output_type": "display_data"
    }
   ],
   "source": [
    "labels = [\"Female\", \"Male\"]\n",
    "\n",
    "gender_breakdown = [50,50]\n",
    "\n",
    "colors = [\"purple\", \"lightgreen\"]\n",
    "\n",
    "explode = (0.1, 0)\n",
    "\n",
    "plt.pie(gender_breakdown, explode=explode, labels=labels, colors=colors,\n",
    "        autopct=\"%1.1f%%\", shadow=True, startangle=140)\n",
    "\n",
    "plt.title(\"Neurology RN Gender Attrition\")"
   ]
  },
  {
   "cell_type": "markdown",
   "id": "b4fb8387",
   "metadata": {},
   "source": [
    "# Travel Distance to Work"
   ]
  },
  {
   "cell_type": "code",
   "execution_count": 148,
   "id": "301cdf5e",
   "metadata": {},
   "outputs": [
    {
     "data": {
      "text/plain": [
       "5"
      ]
     },
     "execution_count": 148,
     "metadata": {},
     "output_type": "execute_result"
    }
   ],
   "source": [
    "neurology_dfh_short = neurology_final[(neurology_final[\"DistanceFromHome\"] <=7)].count()[\"DistanceFromHome\"]\n",
    "neurology_dfh_short"
   ]
  },
  {
   "cell_type": "code",
   "execution_count": 149,
   "id": "72069439",
   "metadata": {},
   "outputs": [
    {
     "data": {
      "text/plain": [
       "3"
      ]
     },
     "execution_count": 149,
     "metadata": {},
     "output_type": "execute_result"
    }
   ],
   "source": [
    "neurology_dfh_long = neurology_final[(neurology_final[\"DistanceFromHome\"] >=8 )].count()[\"DistanceFromHome\"]\n",
    "neurology_dfh_long"
   ]
  },
  {
   "cell_type": "code",
   "execution_count": 151,
   "id": "92f3edb3",
   "metadata": {},
   "outputs": [
    {
     "data": {
      "text/plain": [
       "Text(0.5, 1.0, 'Neurology RN Travel Distance to Work')"
      ]
     },
     "execution_count": 151,
     "metadata": {},
     "output_type": "execute_result"
    },
    {
     "data": {
      "image/png": "[encoded data removed]",
      "text/plain": [
       "<Figure size 640x480 with 1 Axes>"
      ]
     },
     "metadata": {},
     "output_type": "display_data"
    }
   ],
   "source": [
    "labels = [\"Commutes 1-7 miles\", \"Commutes 8+ miles\"]\n",
    "\n",
    "gender_breakdown = [62.5,37.5]\n",
    "\n",
    "colors = [\"purple\", \"lightgreen\"]\n",
    "\n",
    "explode = (0.1, 0)\n",
    "\n",
    "plt.pie(gender_breakdown, explode=explode, labels=labels, colors=colors,\n",
    "        autopct=\"%1.1f%%\", shadow=True, startangle=140)\n",
    "\n",
    "plt.title(\"Neurology RN Travel Distance to Work\")"
   ]
  },
  {
   "cell_type": "markdown",
   "id": "9371faf9",
   "metadata": {},
   "source": [
    "# Level of Job Involvement"
   ]
  },
  {
   "cell_type": "code",
   "execution_count": 152,
   "id": "d3860e6b",
   "metadata": {},
   "outputs": [
    {
     "data": {
      "text/plain": [
       "1"
      ]
     },
     "execution_count": 152,
     "metadata": {},
     "output_type": "execute_result"
    }
   ],
   "source": [
    "neurology_job_involvement_low = neurology_final[(neurology_final[\"JobInvolvement\"] == 1)].count()[\"JobInvolvement\"]\n",
    "neurology_job_involvement_low"
   ]
  },
  {
   "cell_type": "code",
   "execution_count": 153,
   "id": "43e2e923",
   "metadata": {},
   "outputs": [
    {
     "data": {
      "text/plain": [
       "7"
      ]
     },
     "execution_count": 153,
     "metadata": {},
     "output_type": "execute_result"
    }
   ],
   "source": [
    "neurology_job_involvement_high = neurology_final[(neurology_final[\"JobInvolvement\"] > 1)].count()[\"JobInvolvement\"]\n",
    "neurology_job_involvement_high"
   ]
  },
  {
   "cell_type": "code",
   "execution_count": 212,
   "id": "fa7ade6d",
   "metadata": {},
   "outputs": [
    {
     "data": {
      "text/plain": [
       "Text(0.5, 1.0, 'Neurology RN Job Involvement')"
      ]
     },
     "execution_count": 212,
     "metadata": {},
     "output_type": "execute_result"
    },
    {
     "data": {
      "image/png": "[encoded data removed]",
      "text/plain": [
       "<Figure size 640x480 with 1 Axes>"
      ]
     },
     "metadata": {},
     "output_type": "display_data"
    }
   ],
   "source": [
    "labels = [\"Low Job Involvement (=1)\", \"High Job Involvement (>1)\"]\n",
    "\n",
    "gender_breakdown = [12.5,87.5]\n",
    "\n",
    "colors = [\"lightgreen\", \"purple\"]\n",
    "\n",
    "explode = (0.1, 0)\n",
    "\n",
    "plt.pie(gender_breakdown, explode=explode, labels=labels, colors=colors,\n",
    "        autopct=\"%1.1f%%\", shadow=True, startangle=140)\n",
    "\n",
    "plt.title(\"Neurology RN Job Involvement\")"
   ]
  },
  {
   "cell_type": "markdown",
   "id": "a7e22caa",
   "metadata": {},
   "source": [
    "# Job Level (1-2)"
   ]
  },
  {
   "cell_type": "code",
   "execution_count": 155,
   "id": "4907e63a",
   "metadata": {},
   "outputs": [
    {
     "data": {
      "text/plain": [
       "8"
      ]
     },
     "execution_count": 155,
     "metadata": {},
     "output_type": "execute_result"
    }
   ],
   "source": [
    "neurology_job_level_1 = neurology_final[(neurology_final[\"JobLevel\"] == 1)].count()[\"JobLevel\"]\n",
    "neurology_job_level_1"
   ]
  },
  {
   "cell_type": "code",
   "execution_count": 156,
   "id": "13238b2f",
   "metadata": {},
   "outputs": [
    {
     "data": {
      "text/plain": [
       "0"
      ]
     },
     "execution_count": 156,
     "metadata": {},
     "output_type": "execute_result"
    }
   ],
   "source": [
    "neurology_job_level_2 = neurology_final[(neurology_final[\"JobLevel\"] == 2)].count()[\"JobLevel\"]\n",
    "neurology_job_level_2"
   ]
  },
  {
   "cell_type": "code",
   "execution_count": 192,
   "id": "0307aab2",
   "metadata": {},
   "outputs": [
    {
     "data": {
      "text/plain": [
       "Text(0, 0.5, 'Total Percentage of RNs in Job Level')"
      ]
     },
     "execution_count": 192,
     "metadata": {},
     "output_type": "execute_result"
    },
    {
     "data": {
      "image/png": "[encoded data removed]",
      "text/plain": [
       "<Figure size 640x480 with 1 Axes>"
      ]
     },
     "metadata": {},
     "output_type": "display_data"
    }
   ],
   "source": [
    "levels = [\"Level 1\", \"Level 2\"]\n",
    "level_percentages = [100,0]\n",
    "x_axis = np.arange(len(level_percentages))\n",
    "\n",
    "plt.bar(x_axis, level_percentages, color=\"lightgreen\", align=\"center\")\n",
    "\n",
    "tick_locations = [level for level in x_axis]\n",
    "plt.xticks(tick_locations, levels)\n",
    "\n",
    "\n",
    "plt.title(\"Neurology RN Job Levels\")\n",
    "plt.ylabel(\"Total Percentage of RNs in Job Level\")"
   ]
  },
  {
   "cell_type": "markdown",
   "id": "0b28f1c0",
   "metadata": {},
   "source": [
    "# Job Satisfaction"
   ]
  },
  {
   "cell_type": "code",
   "execution_count": 162,
   "id": "8c74122a",
   "metadata": {},
   "outputs": [
    {
     "data": {
      "text/plain": [
       "2"
      ]
     },
     "execution_count": 162,
     "metadata": {},
     "output_type": "execute_result"
    }
   ],
   "source": [
    "neurology_job_satisfaction_low = neurology_final[(neurology_final[\"JobSatisfaction\"] <= 2)].count()[\"JobSatisfaction\"]\n",
    "neurology_job_satisfaction_low"
   ]
  },
  {
   "cell_type": "code",
   "execution_count": 163,
   "id": "40a12701",
   "metadata": {},
   "outputs": [
    {
     "data": {
      "text/plain": [
       "6"
      ]
     },
     "execution_count": 163,
     "metadata": {},
     "output_type": "execute_result"
    }
   ],
   "source": [
    "neurology_job_satisfaction_high = neurology_final[(neurology_final[\"JobSatisfaction\"] >= 3)].count()[\"JobSatisfaction\"]\n",
    "neurology_job_satisfaction_high"
   ]
  },
  {
   "cell_type": "code",
   "execution_count": 164,
   "id": "36ffd612",
   "metadata": {},
   "outputs": [
    {
     "data": {
      "text/plain": [
       "Text(0.5, 1.0, 'Neurology RN Job Satisfaction')"
      ]
     },
     "execution_count": 164,
     "metadata": {},
     "output_type": "execute_result"
    },
    {
     "data": {
      "image/png": "[encoded data removed]",
      "text/plain": [
       "<Figure size 640x480 with 1 Axes>"
      ]
     },
     "metadata": {},
     "output_type": "display_data"
    }
   ],
   "source": [
    "labels = [\"Low Job Satisfaction (<=2)\", \"High Job Satisfaction (>=3)\"]\n",
    "\n",
    "gender_breakdown = [25,75]\n",
    "\n",
    "colors = [\"lightgreen\", \"purple\"]\n",
    "\n",
    "explode = (0.1, 0)\n",
    "\n",
    "plt.pie(gender_breakdown, explode=explode, labels=labels, colors=colors,\n",
    "        autopct=\"%1.1f%%\", shadow=True, startangle=140)\n",
    "\n",
    "plt.title(\"Neurology RN Job Satisfaction\")"
   ]
  },
  {
   "cell_type": "markdown",
   "id": "140041bd",
   "metadata": {},
   "source": [
    "# Tenure"
   ]
  },
  {
   "cell_type": "code",
   "execution_count": 165,
   "id": "60348e2a",
   "metadata": {},
   "outputs": [
    {
     "data": {
      "text/plain": [
       "6"
      ]
     },
     "execution_count": 165,
     "metadata": {},
     "output_type": "execute_result"
    }
   ],
   "source": [
    "neurology_tenure_low = neurology_final[(neurology_final[\"YearsAtCompany\"] <= 2)].count()[\"YearsAtCompany\"]\n",
    "neurology_tenure_low"
   ]
  },
  {
   "cell_type": "code",
   "execution_count": 166,
   "id": "480db490",
   "metadata": {},
   "outputs": [
    {
     "data": {
      "text/plain": [
       "2"
      ]
     },
     "execution_count": 166,
     "metadata": {},
     "output_type": "execute_result"
    }
   ],
   "source": [
    "neurology_tenure_high = neurology_final[(neurology_final[\"YearsAtCompany\"] >=3)].count()[\"YearsAtCompany\"]\n",
    "neurology_tenure_high"
   ]
  },
  {
   "cell_type": "code",
   "execution_count": 167,
   "id": "796717cc",
   "metadata": {},
   "outputs": [
    {
     "data": {
      "text/plain": [
       "Text(0.5, 1.0, 'Neurology RN Tenure')"
      ]
     },
     "execution_count": 167,
     "metadata": {},
     "output_type": "execute_result"
    },
    {
     "data": {
      "image/png": "[encoded data removed]",
      "text/plain": [
       "<Figure size 640x480 with 1 Axes>"
      ]
     },
     "metadata": {},
     "output_type": "display_data"
    }
   ],
   "source": [
    "labels = [\"Tenure less than 2 Years\", \"Tenure 3+ Years\"]\n",
    "\n",
    "gender_breakdown = [75,25]\n",
    "\n",
    "colors = [\"lightgreen\", \"purple\"]\n",
    "\n",
    "explode = (0.1, 0)\n",
    "\n",
    "plt.pie(gender_breakdown, explode=explode, labels=labels, colors=colors,\n",
    "        autopct=\"%1.1f%%\", shadow=True, startangle=140)\n",
    "\n",
    "plt.title(\"Neurology RN Tenure\")"
   ]
  },
  {
   "cell_type": "markdown",
   "id": "021e3e17",
   "metadata": {},
   "source": [
    "# Overtime"
   ]
  },
  {
   "cell_type": "code",
   "execution_count": 58,
   "id": "04a4b3a1",
   "metadata": {},
   "outputs": [
    {
     "data": {
      "text/plain": [
       "5"
      ]
     },
     "execution_count": 58,
     "metadata": {},
     "output_type": "execute_result"
    }
   ],
   "source": [
    "neurology_overtime = neurology_final[(neurology_final[\"OverTime\"] == \"Yes\")].count()[\"OverTime\"]\n",
    "neurology_overtime"
   ]
  },
  {
   "cell_type": "code",
   "execution_count": 168,
   "id": "644ef769",
   "metadata": {},
   "outputs": [
    {
     "data": {
      "text/plain": [
       "Text(0.5, 1.0, 'Neurology RN Overtime')"
      ]
     },
     "execution_count": 168,
     "metadata": {},
     "output_type": "execute_result"
    },
    {
     "data": {
      "image/png": "[encoded data removed]",
      "text/plain": [
       "<Figure size 640x480 with 1 Axes>"
      ]
     },
     "metadata": {},
     "output_type": "display_data"
    }
   ],
   "source": [
    "labels = [\"Works Overtime\", \"Does not work Overtime\"]\n",
    "\n",
    "gender_breakdown = [62.5,37.5]\n",
    "\n",
    "colors = [\"lightgreen\", \"purple\"]\n",
    "\n",
    "explode = (0.1, 0)\n",
    "\n",
    "plt.pie(gender_breakdown, explode=explode, labels=labels, colors=colors,\n",
    "        autopct=\"%1.1f%%\", shadow=True, startangle=140)\n",
    "\n",
    "plt.title(\"Neurology RN Overtime\")"
   ]
  },
  {
   "cell_type": "markdown",
   "id": "c24fb3d4",
   "metadata": {},
   "source": [
    "# Cardiology Data #"
   ]
  },
  {
   "cell_type": "code",
   "execution_count": 169,
   "id": "f9bfe944",
   "metadata": {},
   "outputs": [
    {
     "data": {
      "text/html": [
       "<div>\n",
       "<style scoped>\n",
       "    .dataframe tbody tr th:only-of-type {\n",
       "        vertical-align: middle;\n",
       "    }\n",
       "\n",
       "    .dataframe tbody tr th {\n",
       "        vertical-align: top;\n",
       "    }\n",
       "\n",
       "    .dataframe thead th {\n",
       "        text-align: right;\n",
       "    }\n",
       "</style>\n",
       "<table border=\"1\" class=\"dataframe\">\n",
       "  <thead>\n",
       "    <tr style=\"text-align: right;\">\n",
       "      <th></th>\n",
       "      <th>Department</th>\n",
       "      <th>Attrition</th>\n",
       "      <th>EducationField</th>\n",
       "      <th>JobRole</th>\n",
       "      <th>Gender</th>\n",
       "      <th>DistanceFromHome</th>\n",
       "      <th>JobInvolvement</th>\n",
       "      <th>JobLevel</th>\n",
       "      <th>JobSatisfaction</th>\n",
       "      <th>YearsAtCompany</th>\n",
       "      <th>OverTime</th>\n",
       "    </tr>\n",
       "  </thead>\n",
       "  <tbody>\n",
       "    <tr>\n",
       "      <th>0</th>\n",
       "      <td>Cardiology</td>\n",
       "      <td>No</td>\n",
       "      <td>Life Sciences</td>\n",
       "      <td>Nurse</td>\n",
       "      <td>Female</td>\n",
       "      <td>1</td>\n",
       "      <td>3</td>\n",
       "      <td>2</td>\n",
       "      <td>4</td>\n",
       "      <td>6</td>\n",
       "      <td>Yes</td>\n",
       "    </tr>\n",
       "    <tr>\n",
       "      <th>18</th>\n",
       "      <td>Cardiology</td>\n",
       "      <td>No</td>\n",
       "      <td>Life Sciences</td>\n",
       "      <td>Administrative</td>\n",
       "      <td>Female</td>\n",
       "      <td>2</td>\n",
       "      <td>2</td>\n",
       "      <td>4</td>\n",
       "      <td>4</td>\n",
       "      <td>25</td>\n",
       "      <td>No</td>\n",
       "    </tr>\n",
       "    <tr>\n",
       "      <th>21</th>\n",
       "      <td>Cardiology</td>\n",
       "      <td>No</td>\n",
       "      <td>Life Sciences</td>\n",
       "      <td>Other</td>\n",
       "      <td>Male</td>\n",
       "      <td>9</td>\n",
       "      <td>2</td>\n",
       "      <td>1</td>\n",
       "      <td>1</td>\n",
       "      <td>5</td>\n",
       "      <td>No</td>\n",
       "    </tr>\n",
       "    <tr>\n",
       "      <th>27</th>\n",
       "      <td>Cardiology</td>\n",
       "      <td>No</td>\n",
       "      <td>Marketing</td>\n",
       "      <td>Nurse</td>\n",
       "      <td>Male</td>\n",
       "      <td>8</td>\n",
       "      <td>3</td>\n",
       "      <td>2</td>\n",
       "      <td>2</td>\n",
       "      <td>9</td>\n",
       "      <td>No</td>\n",
       "    </tr>\n",
       "    <tr>\n",
       "      <th>29</th>\n",
       "      <td>Cardiology</td>\n",
       "      <td>No</td>\n",
       "      <td>Marketing</td>\n",
       "      <td>Administrative</td>\n",
       "      <td>Female</td>\n",
       "      <td>2</td>\n",
       "      <td>3</td>\n",
       "      <td>5</td>\n",
       "      <td>1</td>\n",
       "      <td>2</td>\n",
       "      <td>No</td>\n",
       "    </tr>\n",
       "  </tbody>\n",
       "</table>\n",
       "</div>"
      ],
      "text/plain": [
       "    Department Attrition EducationField         JobRole  Gender  \\\n",
       "0   Cardiology        No  Life Sciences           Nurse  Female   \n",
       "18  Cardiology        No  Life Sciences  Administrative  Female   \n",
       "21  Cardiology        No  Life Sciences           Other    Male   \n",
       "27  Cardiology        No      Marketing           Nurse    Male   \n",
       "29  Cardiology        No      Marketing  Administrative  Female   \n",
       "\n",
       "    DistanceFromHome  JobInvolvement  JobLevel  JobSatisfaction  \\\n",
       "0                  1               3         2                4   \n",
       "18                 2               2         4                4   \n",
       "21                 9               2         1                1   \n",
       "27                 8               3         2                2   \n",
       "29                 2               3         5                1   \n",
       "\n",
       "    YearsAtCompany OverTime  \n",
       "0                6      Yes  \n",
       "18              25       No  \n",
       "21               5       No  \n",
       "27               9       No  \n",
       "29               2       No  "
      ]
     },
     "execution_count": 169,
     "metadata": {},
     "output_type": "execute_result"
    }
   ],
   "source": [
    "cardiology_df = attrition_new_df[(attrition_new_df[\"Department\"] == \"Cardiology\")]\n",
    "cardiology_df.head()"
   ]
  },
  {
   "cell_type": "code",
   "execution_count": 170,
   "id": "f7cc776a",
   "metadata": {},
   "outputs": [
    {
     "data": {
      "text/html": [
       "<div>\n",
       "<style scoped>\n",
       "    .dataframe tbody tr th:only-of-type {\n",
       "        vertical-align: middle;\n",
       "    }\n",
       "\n",
       "    .dataframe tbody tr th {\n",
       "        vertical-align: top;\n",
       "    }\n",
       "\n",
       "    .dataframe thead th {\n",
       "        text-align: right;\n",
       "    }\n",
       "</style>\n",
       "<table border=\"1\" class=\"dataframe\">\n",
       "  <thead>\n",
       "    <tr style=\"text-align: right;\">\n",
       "      <th></th>\n",
       "      <th>Department</th>\n",
       "      <th>Attrition</th>\n",
       "      <th>EducationField</th>\n",
       "      <th>JobRole</th>\n",
       "      <th>Gender</th>\n",
       "      <th>DistanceFromHome</th>\n",
       "      <th>JobInvolvement</th>\n",
       "      <th>JobLevel</th>\n",
       "      <th>JobSatisfaction</th>\n",
       "      <th>YearsAtCompany</th>\n",
       "      <th>OverTime</th>\n",
       "    </tr>\n",
       "  </thead>\n",
       "  <tbody>\n",
       "    <tr>\n",
       "      <th>36</th>\n",
       "      <td>Cardiology</td>\n",
       "      <td>Yes</td>\n",
       "      <td>Marketing</td>\n",
       "      <td>Other</td>\n",
       "      <td>Male</td>\n",
       "      <td>3</td>\n",
       "      <td>2</td>\n",
       "      <td>1</td>\n",
       "      <td>3</td>\n",
       "      <td>3</td>\n",
       "      <td>Yes</td>\n",
       "    </tr>\n",
       "    <tr>\n",
       "      <th>54</th>\n",
       "      <td>Cardiology</td>\n",
       "      <td>Yes</td>\n",
       "      <td>Marketing</td>\n",
       "      <td>Nurse</td>\n",
       "      <td>Female</td>\n",
       "      <td>23</td>\n",
       "      <td>2</td>\n",
       "      <td>2</td>\n",
       "      <td>4</td>\n",
       "      <td>2</td>\n",
       "      <td>Yes</td>\n",
       "    </tr>\n",
       "    <tr>\n",
       "      <th>107</th>\n",
       "      <td>Cardiology</td>\n",
       "      <td>Yes</td>\n",
       "      <td>Marketing</td>\n",
       "      <td>Nurse</td>\n",
       "      <td>Male</td>\n",
       "      <td>5</td>\n",
       "      <td>2</td>\n",
       "      <td>2</td>\n",
       "      <td>3</td>\n",
       "      <td>6</td>\n",
       "      <td>Yes</td>\n",
       "    </tr>\n",
       "    <tr>\n",
       "      <th>124</th>\n",
       "      <td>Cardiology</td>\n",
       "      <td>Yes</td>\n",
       "      <td>Life Sciences</td>\n",
       "      <td>Nurse</td>\n",
       "      <td>Male</td>\n",
       "      <td>6</td>\n",
       "      <td>1</td>\n",
       "      <td>2</td>\n",
       "      <td>3</td>\n",
       "      <td>7</td>\n",
       "      <td>Yes</td>\n",
       "    </tr>\n",
       "    <tr>\n",
       "      <th>127</th>\n",
       "      <td>Cardiology</td>\n",
       "      <td>Yes</td>\n",
       "      <td>Marketing</td>\n",
       "      <td>Other</td>\n",
       "      <td>Male</td>\n",
       "      <td>22</td>\n",
       "      <td>3</td>\n",
       "      <td>1</td>\n",
       "      <td>3</td>\n",
       "      <td>0</td>\n",
       "      <td>Yes</td>\n",
       "    </tr>\n",
       "  </tbody>\n",
       "</table>\n",
       "</div>"
      ],
      "text/plain": [
       "     Department Attrition EducationField JobRole  Gender  DistanceFromHome  \\\n",
       "36   Cardiology       Yes      Marketing   Other    Male                 3   \n",
       "54   Cardiology       Yes      Marketing   Nurse  Female                23   \n",
       "107  Cardiology       Yes      Marketing   Nurse    Male                 5   \n",
       "124  Cardiology       Yes  Life Sciences   Nurse    Male                 6   \n",
       "127  Cardiology       Yes      Marketing   Other    Male                22   \n",
       "\n",
       "     JobInvolvement  JobLevel  JobSatisfaction  YearsAtCompany OverTime  \n",
       "36                2         1                3               3      Yes  \n",
       "54                2         2                4               2      Yes  \n",
       "107               2         2                3               6      Yes  \n",
       "124               1         2                3               7      Yes  \n",
       "127               3         1                3               0      Yes  "
      ]
     },
     "execution_count": 170,
     "metadata": {},
     "output_type": "execute_result"
    }
   ],
   "source": [
    "cardiology_df_attrition = cardiology_df[(cardiology_df[\"Attrition\"] == \"Yes\")]\n",
    "cardiology_df_attrition.head() "
   ]
  },
  {
   "cell_type": "code",
   "execution_count": 171,
   "id": "f43f257a",
   "metadata": {},
   "outputs": [
    {
     "data": {
      "text/html": [
       "<div>\n",
       "<style scoped>\n",
       "    .dataframe tbody tr th:only-of-type {\n",
       "        vertical-align: middle;\n",
       "    }\n",
       "\n",
       "    .dataframe tbody tr th {\n",
       "        vertical-align: top;\n",
       "    }\n",
       "\n",
       "    .dataframe thead th {\n",
       "        text-align: right;\n",
       "    }\n",
       "</style>\n",
       "<table border=\"1\" class=\"dataframe\">\n",
       "  <thead>\n",
       "    <tr style=\"text-align: right;\">\n",
       "      <th></th>\n",
       "      <th>Department</th>\n",
       "      <th>Attrition</th>\n",
       "      <th>EducationField</th>\n",
       "      <th>JobRole</th>\n",
       "      <th>Gender</th>\n",
       "      <th>DistanceFromHome</th>\n",
       "      <th>JobInvolvement</th>\n",
       "      <th>JobLevel</th>\n",
       "      <th>JobSatisfaction</th>\n",
       "      <th>YearsAtCompany</th>\n",
       "      <th>OverTime</th>\n",
       "    </tr>\n",
       "  </thead>\n",
       "  <tbody>\n",
       "    <tr>\n",
       "      <th>124</th>\n",
       "      <td>Cardiology</td>\n",
       "      <td>Yes</td>\n",
       "      <td>Life Sciences</td>\n",
       "      <td>Nurse</td>\n",
       "      <td>Male</td>\n",
       "      <td>6</td>\n",
       "      <td>1</td>\n",
       "      <td>2</td>\n",
       "      <td>3</td>\n",
       "      <td>7</td>\n",
       "      <td>Yes</td>\n",
       "    </tr>\n",
       "    <tr>\n",
       "      <th>132</th>\n",
       "      <td>Cardiology</td>\n",
       "      <td>Yes</td>\n",
       "      <td>Life Sciences</td>\n",
       "      <td>Nurse</td>\n",
       "      <td>Female</td>\n",
       "      <td>20</td>\n",
       "      <td>1</td>\n",
       "      <td>2</td>\n",
       "      <td>3</td>\n",
       "      <td>2</td>\n",
       "      <td>Yes</td>\n",
       "    </tr>\n",
       "    <tr>\n",
       "      <th>136</th>\n",
       "      <td>Cardiology</td>\n",
       "      <td>Yes</td>\n",
       "      <td>Life Sciences</td>\n",
       "      <td>Therapist</td>\n",
       "      <td>Male</td>\n",
       "      <td>8</td>\n",
       "      <td>1</td>\n",
       "      <td>3</td>\n",
       "      <td>4</td>\n",
       "      <td>4</td>\n",
       "      <td>No</td>\n",
       "    </tr>\n",
       "    <tr>\n",
       "      <th>301</th>\n",
       "      <td>Cardiology</td>\n",
       "      <td>Yes</td>\n",
       "      <td>Medical</td>\n",
       "      <td>Other</td>\n",
       "      <td>Female</td>\n",
       "      <td>10</td>\n",
       "      <td>2</td>\n",
       "      <td>1</td>\n",
       "      <td>3</td>\n",
       "      <td>0</td>\n",
       "      <td>No</td>\n",
       "    </tr>\n",
       "    <tr>\n",
       "      <th>327</th>\n",
       "      <td>Cardiology</td>\n",
       "      <td>Yes</td>\n",
       "      <td>Medical</td>\n",
       "      <td>Nurse</td>\n",
       "      <td>Female</td>\n",
       "      <td>3</td>\n",
       "      <td>3</td>\n",
       "      <td>2</td>\n",
       "      <td>3</td>\n",
       "      <td>1</td>\n",
       "      <td>Yes</td>\n",
       "    </tr>\n",
       "  </tbody>\n",
       "</table>\n",
       "</div>"
      ],
      "text/plain": [
       "     Department Attrition EducationField    JobRole  Gender  DistanceFromHome  \\\n",
       "124  Cardiology       Yes  Life Sciences      Nurse    Male                 6   \n",
       "132  Cardiology       Yes  Life Sciences      Nurse  Female                20   \n",
       "136  Cardiology       Yes  Life Sciences  Therapist    Male                 8   \n",
       "301  Cardiology       Yes        Medical      Other  Female                10   \n",
       "327  Cardiology       Yes        Medical      Nurse  Female                 3   \n",
       "\n",
       "     JobInvolvement  JobLevel  JobSatisfaction  YearsAtCompany OverTime  \n",
       "124               1         2                3               7      Yes  \n",
       "132               1         2                3               2      Yes  \n",
       "136               1         3                4               4       No  \n",
       "301               2         1                3               0       No  \n",
       "327               3         2                3               1      Yes  "
      ]
     },
     "execution_count": 171,
     "metadata": {},
     "output_type": "execute_result"
    }
   ],
   "source": [
    "cardiology_df_educationfield = cardiology_df_attrition[(cardiology_df_attrition[\"EducationField\"] == \"Life Sciences\")|(cardiology_df_attrition[\"EducationField\"] == \"Medical\")] \n",
    "cardiology_df_educationfield.head()"
   ]
  },
  {
   "cell_type": "code",
   "execution_count": 172,
   "id": "9de38fa3",
   "metadata": {},
   "outputs": [
    {
     "data": {
      "text/html": [
       "<div>\n",
       "<style scoped>\n",
       "    .dataframe tbody tr th:only-of-type {\n",
       "        vertical-align: middle;\n",
       "    }\n",
       "\n",
       "    .dataframe tbody tr th {\n",
       "        vertical-align: top;\n",
       "    }\n",
       "\n",
       "    .dataframe thead th {\n",
       "        text-align: right;\n",
       "    }\n",
       "</style>\n",
       "<table border=\"1\" class=\"dataframe\">\n",
       "  <thead>\n",
       "    <tr style=\"text-align: right;\">\n",
       "      <th></th>\n",
       "      <th>Department</th>\n",
       "      <th>Attrition</th>\n",
       "      <th>EducationField</th>\n",
       "      <th>JobRole</th>\n",
       "      <th>Gender</th>\n",
       "      <th>DistanceFromHome</th>\n",
       "      <th>JobInvolvement</th>\n",
       "      <th>JobLevel</th>\n",
       "      <th>JobSatisfaction</th>\n",
       "      <th>YearsAtCompany</th>\n",
       "      <th>OverTime</th>\n",
       "    </tr>\n",
       "  </thead>\n",
       "  <tbody>\n",
       "    <tr>\n",
       "      <th>124</th>\n",
       "      <td>Cardiology</td>\n",
       "      <td>Yes</td>\n",
       "      <td>Life Sciences</td>\n",
       "      <td>Nurse</td>\n",
       "      <td>Male</td>\n",
       "      <td>6</td>\n",
       "      <td>1</td>\n",
       "      <td>2</td>\n",
       "      <td>3</td>\n",
       "      <td>7</td>\n",
       "      <td>Yes</td>\n",
       "    </tr>\n",
       "    <tr>\n",
       "      <th>132</th>\n",
       "      <td>Cardiology</td>\n",
       "      <td>Yes</td>\n",
       "      <td>Life Sciences</td>\n",
       "      <td>Nurse</td>\n",
       "      <td>Female</td>\n",
       "      <td>20</td>\n",
       "      <td>1</td>\n",
       "      <td>2</td>\n",
       "      <td>3</td>\n",
       "      <td>2</td>\n",
       "      <td>Yes</td>\n",
       "    </tr>\n",
       "    <tr>\n",
       "      <th>327</th>\n",
       "      <td>Cardiology</td>\n",
       "      <td>Yes</td>\n",
       "      <td>Medical</td>\n",
       "      <td>Nurse</td>\n",
       "      <td>Female</td>\n",
       "      <td>3</td>\n",
       "      <td>3</td>\n",
       "      <td>2</td>\n",
       "      <td>3</td>\n",
       "      <td>1</td>\n",
       "      <td>Yes</td>\n",
       "    </tr>\n",
       "    <tr>\n",
       "      <th>502</th>\n",
       "      <td>Cardiology</td>\n",
       "      <td>Yes</td>\n",
       "      <td>Life Sciences</td>\n",
       "      <td>Nurse</td>\n",
       "      <td>Female</td>\n",
       "      <td>26</td>\n",
       "      <td>3</td>\n",
       "      <td>2</td>\n",
       "      <td>1</td>\n",
       "      <td>1</td>\n",
       "      <td>No</td>\n",
       "    </tr>\n",
       "    <tr>\n",
       "      <th>564</th>\n",
       "      <td>Cardiology</td>\n",
       "      <td>Yes</td>\n",
       "      <td>Life Sciences</td>\n",
       "      <td>Nurse</td>\n",
       "      <td>Female</td>\n",
       "      <td>27</td>\n",
       "      <td>4</td>\n",
       "      <td>2</td>\n",
       "      <td>3</td>\n",
       "      <td>5</td>\n",
       "      <td>Yes</td>\n",
       "    </tr>\n",
       "    <tr>\n",
       "      <th>693</th>\n",
       "      <td>Cardiology</td>\n",
       "      <td>Yes</td>\n",
       "      <td>Life Sciences</td>\n",
       "      <td>Nurse</td>\n",
       "      <td>Male</td>\n",
       "      <td>1</td>\n",
       "      <td>2</td>\n",
       "      <td>3</td>\n",
       "      <td>3</td>\n",
       "      <td>14</td>\n",
       "      <td>No</td>\n",
       "    </tr>\n",
       "    <tr>\n",
       "      <th>704</th>\n",
       "      <td>Cardiology</td>\n",
       "      <td>Yes</td>\n",
       "      <td>Life Sciences</td>\n",
       "      <td>Nurse</td>\n",
       "      <td>Female</td>\n",
       "      <td>24</td>\n",
       "      <td>4</td>\n",
       "      <td>4</td>\n",
       "      <td>2</td>\n",
       "      <td>1</td>\n",
       "      <td>Yes</td>\n",
       "    </tr>\n",
       "    <tr>\n",
       "      <th>745</th>\n",
       "      <td>Cardiology</td>\n",
       "      <td>Yes</td>\n",
       "      <td>Medical</td>\n",
       "      <td>Nurse</td>\n",
       "      <td>Male</td>\n",
       "      <td>29</td>\n",
       "      <td>1</td>\n",
       "      <td>2</td>\n",
       "      <td>1</td>\n",
       "      <td>2</td>\n",
       "      <td>No</td>\n",
       "    </tr>\n",
       "    <tr>\n",
       "      <th>833</th>\n",
       "      <td>Cardiology</td>\n",
       "      <td>Yes</td>\n",
       "      <td>Life Sciences</td>\n",
       "      <td>Nurse</td>\n",
       "      <td>Female</td>\n",
       "      <td>23</td>\n",
       "      <td>2</td>\n",
       "      <td>3</td>\n",
       "      <td>1</td>\n",
       "      <td>11</td>\n",
       "      <td>No</td>\n",
       "    </tr>\n",
       "    <tr>\n",
       "      <th>944</th>\n",
       "      <td>Cardiology</td>\n",
       "      <td>Yes</td>\n",
       "      <td>Life Sciences</td>\n",
       "      <td>Nurse</td>\n",
       "      <td>Male</td>\n",
       "      <td>5</td>\n",
       "      <td>3</td>\n",
       "      <td>3</td>\n",
       "      <td>2</td>\n",
       "      <td>8</td>\n",
       "      <td>Yes</td>\n",
       "    </tr>\n",
       "    <tr>\n",
       "      <th>1055</th>\n",
       "      <td>Cardiology</td>\n",
       "      <td>Yes</td>\n",
       "      <td>Medical</td>\n",
       "      <td>Nurse</td>\n",
       "      <td>Female</td>\n",
       "      <td>24</td>\n",
       "      <td>2</td>\n",
       "      <td>2</td>\n",
       "      <td>2</td>\n",
       "      <td>15</td>\n",
       "      <td>Yes</td>\n",
       "    </tr>\n",
       "    <tr>\n",
       "      <th>1164</th>\n",
       "      <td>Cardiology</td>\n",
       "      <td>Yes</td>\n",
       "      <td>Medical</td>\n",
       "      <td>Nurse</td>\n",
       "      <td>Male</td>\n",
       "      <td>15</td>\n",
       "      <td>1</td>\n",
       "      <td>2</td>\n",
       "      <td>4</td>\n",
       "      <td>2</td>\n",
       "      <td>Yes</td>\n",
       "    </tr>\n",
       "    <tr>\n",
       "      <th>1220</th>\n",
       "      <td>Cardiology</td>\n",
       "      <td>Yes</td>\n",
       "      <td>Life Sciences</td>\n",
       "      <td>Nurse</td>\n",
       "      <td>Male</td>\n",
       "      <td>9</td>\n",
       "      <td>1</td>\n",
       "      <td>4</td>\n",
       "      <td>3</td>\n",
       "      <td>23</td>\n",
       "      <td>No</td>\n",
       "    </tr>\n",
       "    <tr>\n",
       "      <th>1234</th>\n",
       "      <td>Cardiology</td>\n",
       "      <td>Yes</td>\n",
       "      <td>Life Sciences</td>\n",
       "      <td>Nurse</td>\n",
       "      <td>Male</td>\n",
       "      <td>1</td>\n",
       "      <td>1</td>\n",
       "      <td>2</td>\n",
       "      <td>2</td>\n",
       "      <td>0</td>\n",
       "      <td>No</td>\n",
       "    </tr>\n",
       "    <tr>\n",
       "      <th>1252</th>\n",
       "      <td>Cardiology</td>\n",
       "      <td>Yes</td>\n",
       "      <td>Life Sciences</td>\n",
       "      <td>Nurse</td>\n",
       "      <td>Female</td>\n",
       "      <td>16</td>\n",
       "      <td>3</td>\n",
       "      <td>3</td>\n",
       "      <td>1</td>\n",
       "      <td>0</td>\n",
       "      <td>Yes</td>\n",
       "    </tr>\n",
       "    <tr>\n",
       "      <th>1278</th>\n",
       "      <td>Cardiology</td>\n",
       "      <td>Yes</td>\n",
       "      <td>Life Sciences</td>\n",
       "      <td>Nurse</td>\n",
       "      <td>Male</td>\n",
       "      <td>27</td>\n",
       "      <td>3</td>\n",
       "      <td>2</td>\n",
       "      <td>4</td>\n",
       "      <td>10</td>\n",
       "      <td>Yes</td>\n",
       "    </tr>\n",
       "    <tr>\n",
       "      <th>1392</th>\n",
       "      <td>Cardiology</td>\n",
       "      <td>Yes</td>\n",
       "      <td>Life Sciences</td>\n",
       "      <td>Nurse</td>\n",
       "      <td>Male</td>\n",
       "      <td>24</td>\n",
       "      <td>3</td>\n",
       "      <td>3</td>\n",
       "      <td>1</td>\n",
       "      <td>2</td>\n",
       "      <td>Yes</td>\n",
       "    </tr>\n",
       "    <tr>\n",
       "      <th>1653</th>\n",
       "      <td>Cardiology</td>\n",
       "      <td>Yes</td>\n",
       "      <td>Medical</td>\n",
       "      <td>Nurse</td>\n",
       "      <td>Male</td>\n",
       "      <td>19</td>\n",
       "      <td>3</td>\n",
       "      <td>3</td>\n",
       "      <td>2</td>\n",
       "      <td>10</td>\n",
       "      <td>Yes</td>\n",
       "    </tr>\n",
       "    <tr>\n",
       "      <th>1659</th>\n",
       "      <td>Cardiology</td>\n",
       "      <td>Yes</td>\n",
       "      <td>Medical</td>\n",
       "      <td>Nurse</td>\n",
       "      <td>Male</td>\n",
       "      <td>29</td>\n",
       "      <td>1</td>\n",
       "      <td>2</td>\n",
       "      <td>1</td>\n",
       "      <td>2</td>\n",
       "      <td>No</td>\n",
       "    </tr>\n",
       "    <tr>\n",
       "      <th>1664</th>\n",
       "      <td>Cardiology</td>\n",
       "      <td>Yes</td>\n",
       "      <td>Medical</td>\n",
       "      <td>Nurse</td>\n",
       "      <td>Female</td>\n",
       "      <td>24</td>\n",
       "      <td>2</td>\n",
       "      <td>2</td>\n",
       "      <td>2</td>\n",
       "      <td>15</td>\n",
       "      <td>Yes</td>\n",
       "    </tr>\n",
       "  </tbody>\n",
       "</table>\n",
       "</div>"
      ],
      "text/plain": [
       "      Department Attrition EducationField JobRole  Gender  DistanceFromHome  \\\n",
       "124   Cardiology       Yes  Life Sciences   Nurse    Male                 6   \n",
       "132   Cardiology       Yes  Life Sciences   Nurse  Female                20   \n",
       "327   Cardiology       Yes        Medical   Nurse  Female                 3   \n",
       "502   Cardiology       Yes  Life Sciences   Nurse  Female                26   \n",
       "564   Cardiology       Yes  Life Sciences   Nurse  Female                27   \n",
       "693   Cardiology       Yes  Life Sciences   Nurse    Male                 1   \n",
       "704   Cardiology       Yes  Life Sciences   Nurse  Female                24   \n",
       "745   Cardiology       Yes        Medical   Nurse    Male                29   \n",
       "833   Cardiology       Yes  Life Sciences   Nurse  Female                23   \n",
       "944   Cardiology       Yes  Life Sciences   Nurse    Male                 5   \n",
       "1055  Cardiology       Yes        Medical   Nurse  Female                24   \n",
       "1164  Cardiology       Yes        Medical   Nurse    Male                15   \n",
       "1220  Cardiology       Yes  Life Sciences   Nurse    Male                 9   \n",
       "1234  Cardiology       Yes  Life Sciences   Nurse    Male                 1   \n",
       "1252  Cardiology       Yes  Life Sciences   Nurse  Female                16   \n",
       "1278  Cardiology       Yes  Life Sciences   Nurse    Male                27   \n",
       "1392  Cardiology       Yes  Life Sciences   Nurse    Male                24   \n",
       "1653  Cardiology       Yes        Medical   Nurse    Male                19   \n",
       "1659  Cardiology       Yes        Medical   Nurse    Male                29   \n",
       "1664  Cardiology       Yes        Medical   Nurse  Female                24   \n",
       "\n",
       "      JobInvolvement  JobLevel  JobSatisfaction  YearsAtCompany OverTime  \n",
       "124                1         2                3               7      Yes  \n",
       "132                1         2                3               2      Yes  \n",
       "327                3         2                3               1      Yes  \n",
       "502                3         2                1               1       No  \n",
       "564                4         2                3               5      Yes  \n",
       "693                2         3                3              14       No  \n",
       "704                4         4                2               1      Yes  \n",
       "745                1         2                1               2       No  \n",
       "833                2         3                1              11       No  \n",
       "944                3         3                2               8      Yes  \n",
       "1055               2         2                2              15      Yes  \n",
       "1164               1         2                4               2      Yes  \n",
       "1220               1         4                3              23       No  \n",
       "1234               1         2                2               0       No  \n",
       "1252               3         3                1               0      Yes  \n",
       "1278               3         2                4              10      Yes  \n",
       "1392               3         3                1               2      Yes  \n",
       "1653               3         3                2              10      Yes  \n",
       "1659               1         2                1               2       No  \n",
       "1664               2         2                2              15      Yes  "
      ]
     },
     "execution_count": 172,
     "metadata": {},
     "output_type": "execute_result"
    }
   ],
   "source": [
    "cardiology_final = cardiology_df_educationfield[(cardiology_df_educationfield[\"JobRole\"] == \"Nurse\")]\n",
    "cardiology_final.head(25)"
   ]
  },
  {
   "cell_type": "markdown",
   "id": "3f7298e3",
   "metadata": {},
   "source": [
    "# Total Count of RNs"
   ]
  },
  {
   "cell_type": "code",
   "execution_count": 174,
   "id": "206f214b",
   "metadata": {},
   "outputs": [
    {
     "data": {
      "text/plain": [
       "20"
      ]
     },
     "execution_count": 174,
     "metadata": {},
     "output_type": "execute_result"
    }
   ],
   "source": [
    "cardiology_df_RN = cardiology_final[(cardiology_final[\"JobRole\"] == \"Nurse\")].count()[\"JobRole\"]\n",
    "cardiology_df_RN"
   ]
  },
  {
   "cell_type": "markdown",
   "id": "d87b9eba",
   "metadata": {},
   "source": [
    "# Female v Male"
   ]
  },
  {
   "cell_type": "code",
   "execution_count": 175,
   "id": "405db68c",
   "metadata": {},
   "outputs": [
    {
     "data": {
      "text/plain": [
       "9"
      ]
     },
     "execution_count": 175,
     "metadata": {},
     "output_type": "execute_result"
    }
   ],
   "source": [
    "cardiology_df_female = cardiology_final[(cardiology_final[\"Gender\"] == \"Female\")].count()[\"Gender\"]\n",
    "cardiology_df_female"
   ]
  },
  {
   "cell_type": "code",
   "execution_count": 176,
   "id": "bbd659eb",
   "metadata": {},
   "outputs": [
    {
     "data": {
      "text/plain": [
       "11"
      ]
     },
     "execution_count": 176,
     "metadata": {},
     "output_type": "execute_result"
    }
   ],
   "source": [
    "cardiology_df_male = cardiology_final[(cardiology_final[\"Gender\"] == \"Male\")].count()[\"Gender\"]\n",
    "cardiology_df_male"
   ]
  },
  {
   "cell_type": "code",
   "execution_count": 178,
   "id": "36331f0a",
   "metadata": {},
   "outputs": [
    {
     "data": {
      "text/plain": [
       "Text(0.5, 1.0, 'Cardiology RN Gender Attrition')"
      ]
     },
     "execution_count": 178,
     "metadata": {},
     "output_type": "execute_result"
    },
    {
     "data": {
      "image/png": "[encoded data removed]",
      "text/plain": [
       "<Figure size 640x480 with 1 Axes>"
      ]
     },
     "metadata": {},
     "output_type": "display_data"
    }
   ],
   "source": [
    "labels = [\"Female\", \"Male\"]\n",
    "\n",
    "gender_breakdown = [45,55]\n",
    "\n",
    "colors = [\"yellow\", \"green\"]\n",
    "\n",
    "explode = (0.1, 0)\n",
    "\n",
    "plt.pie(gender_breakdown, explode=explode, labels=labels, colors=colors,\n",
    "        autopct=\"%1.1f%%\", shadow=True, startangle=140)\n",
    "\n",
    "plt.title(\"Cardiology RN Gender Attrition\")"
   ]
  },
  {
   "cell_type": "markdown",
   "id": "2cfced35",
   "metadata": {},
   "source": [
    "# Travel Distance to Work"
   ]
  },
  {
   "cell_type": "code",
   "execution_count": 179,
   "id": "d1cb18e9",
   "metadata": {},
   "outputs": [
    {
     "data": {
      "text/plain": [
       "5"
      ]
     },
     "execution_count": 179,
     "metadata": {},
     "output_type": "execute_result"
    }
   ],
   "source": [
    "cardiology_dfh_short = cardiology_final[(cardiology_final[\"DistanceFromHome\"] <=7)].count()[\"DistanceFromHome\"]\n",
    "cardiology_dfh_short"
   ]
  },
  {
   "cell_type": "code",
   "execution_count": 180,
   "id": "96fddd0e",
   "metadata": {},
   "outputs": [
    {
     "data": {
      "text/plain": [
       "15"
      ]
     },
     "execution_count": 180,
     "metadata": {},
     "output_type": "execute_result"
    }
   ],
   "source": [
    "cardiology_dfh_long = cardiology_final[(cardiology_final[\"DistanceFromHome\"] >=8)].count()[\"DistanceFromHome\"]\n",
    "cardiology_dfh_long"
   ]
  },
  {
   "cell_type": "code",
   "execution_count": 181,
   "id": "3ce20fa4",
   "metadata": {},
   "outputs": [
    {
     "data": {
      "text/plain": [
       "Text(0.5, 1.0, 'Cardiology RN Travel Distance to Work')"
      ]
     },
     "execution_count": 181,
     "metadata": {},
     "output_type": "execute_result"
    },
    {
     "data": {
      "image/png": "[encoded data removed]",
      "text/plain": [
       "<Figure size 640x480 with 1 Axes>"
      ]
     },
     "metadata": {},
     "output_type": "display_data"
    }
   ],
   "source": [
    "labels = [\"Commutes 1-7 miles\", \"Commutes 8+ miles\"]\n",
    "\n",
    "gender_breakdown = [25,75]\n",
    "\n",
    "colors = [\"yellow\", \"green\"]\n",
    "\n",
    "explode = (0.1, 0)\n",
    "\n",
    "plt.pie(gender_breakdown, explode=explode, labels=labels, colors=colors,\n",
    "        autopct=\"%1.1f%%\", shadow=True, startangle=140)\n",
    "\n",
    "plt.title(\"Cardiology RN Travel Distance to Work\")"
   ]
  },
  {
   "cell_type": "markdown",
   "id": "24ea4a3a",
   "metadata": {},
   "source": [
    "# Level of Job Involvement"
   ]
  },
  {
   "cell_type": "code",
   "execution_count": 182,
   "id": "924650db",
   "metadata": {},
   "outputs": [
    {
     "data": {
      "text/plain": [
       "7"
      ]
     },
     "execution_count": 182,
     "metadata": {},
     "output_type": "execute_result"
    }
   ],
   "source": [
    "cardiology_job_involvement_low = cardiology_final[(cardiology_final[\"JobInvolvement\"] == 1)].count()[\"JobInvolvement\"]\n",
    "cardiology_job_involvement_low"
   ]
  },
  {
   "cell_type": "code",
   "execution_count": 183,
   "id": "d1cd9549",
   "metadata": {},
   "outputs": [
    {
     "data": {
      "text/plain": [
       "13"
      ]
     },
     "execution_count": 183,
     "metadata": {},
     "output_type": "execute_result"
    }
   ],
   "source": [
    "cardiology_job_involvement_high = cardiology_final[(cardiology_final[\"JobInvolvement\"] > 1)].count()[\"JobInvolvement\"]\n",
    "cardiology_job_involvement_high"
   ]
  },
  {
   "cell_type": "code",
   "execution_count": 211,
   "id": "125ec4f9",
   "metadata": {},
   "outputs": [
    {
     "data": {
      "text/plain": [
       "Text(0.5, 1.0, 'Cardiology RN Job Involvement')"
      ]
     },
     "execution_count": 211,
     "metadata": {},
     "output_type": "execute_result"
    },
    {
     "data": {
      "image/png": "[encoded data removed]",
      "text/plain": [
       "<Figure size 640x480 with 1 Axes>"
      ]
     },
     "metadata": {},
     "output_type": "display_data"
    }
   ],
   "source": [
    "labels = [\"Low Job Involvement (=1)\", \"High Job Involvement (>1)\"]\n",
    "\n",
    "gender_breakdown = [35,65]\n",
    "\n",
    "colors = [\"yellow\", \"green\"]\n",
    "\n",
    "explode = (0.1, 0)\n",
    "\n",
    "plt.pie(gender_breakdown, explode=explode, labels=labels, colors=colors,\n",
    "        autopct=\"%1.1f%%\", shadow=True, startangle=140)\n",
    "\n",
    "plt.title(\"Cardiology RN Job Involvement\")"
   ]
  },
  {
   "cell_type": "markdown",
   "id": "1063a925",
   "metadata": {},
   "source": [
    "# Job Level (1-4)"
   ]
  },
  {
   "cell_type": "code",
   "execution_count": 186,
   "id": "c43fc5f9",
   "metadata": {},
   "outputs": [
    {
     "data": {
      "text/plain": [
       "0"
      ]
     },
     "execution_count": 186,
     "metadata": {},
     "output_type": "execute_result"
    }
   ],
   "source": [
    "cardiology_job_level_1 = cardiology_final[(cardiology_final[\"JobLevel\"] == 1)].count()[\"JobLevel\"]\n",
    "cardiology_job_level_1"
   ]
  },
  {
   "cell_type": "code",
   "execution_count": 187,
   "id": "3e7bcb3f",
   "metadata": {},
   "outputs": [
    {
     "data": {
      "text/plain": [
       "12"
      ]
     },
     "execution_count": 187,
     "metadata": {},
     "output_type": "execute_result"
    }
   ],
   "source": [
    "cardiology_job_level_2 = cardiology_final[(cardiology_final[\"JobLevel\"] == 2)].count()[\"JobLevel\"]\n",
    "cardiology_job_level_2"
   ]
  },
  {
   "cell_type": "code",
   "execution_count": 188,
   "id": "1609ce68",
   "metadata": {},
   "outputs": [
    {
     "data": {
      "text/plain": [
       "6"
      ]
     },
     "execution_count": 188,
     "metadata": {},
     "output_type": "execute_result"
    }
   ],
   "source": [
    "cardiology_job_level_3 = cardiology_final[(cardiology_final[\"JobLevel\"] == 3)].count()[\"JobLevel\"]\n",
    "cardiology_job_level_3"
   ]
  },
  {
   "cell_type": "code",
   "execution_count": 189,
   "id": "b3b9d373",
   "metadata": {},
   "outputs": [
    {
     "data": {
      "text/plain": [
       "2"
      ]
     },
     "execution_count": 189,
     "metadata": {},
     "output_type": "execute_result"
    }
   ],
   "source": [
    "cardiology_job_level_4 = cardiology_final[(cardiology_final[\"JobLevel\"] == 4)].count()[\"JobLevel\"]\n",
    "cardiology_job_level_4"
   ]
  },
  {
   "cell_type": "code",
   "execution_count": 191,
   "id": "a51d7274",
   "metadata": {},
   "outputs": [
    {
     "data": {
      "text/plain": [
       "Text(0, 0.5, 'Total Percentage of RNs in Job Level')"
      ]
     },
     "execution_count": 191,
     "metadata": {},
     "output_type": "execute_result"
    },
    {
     "data": {
      "image/png": "[encoded data removed]",
      "text/plain": [
       "<Figure size 640x480 with 1 Axes>"
      ]
     },
     "metadata": {},
     "output_type": "display_data"
    }
   ],
   "source": [
    "levels = [\"Level 1\", \"Level 2\", \"Level 3\", \"Level 4\"]\n",
    "level_percentages = [0, 60, 30, 10]\n",
    "x_axis = np.arange(len(level_percentages))\n",
    "\n",
    "plt.bar(x_axis, level_percentages, color=\"green\", align=\"center\")\n",
    "\n",
    "tick_locations = [level for level in x_axis]\n",
    "plt.xticks(tick_locations, levels)\n",
    "\n",
    "\n",
    "plt.title(\"Cardiology RN Job Levels\")\n",
    "plt.ylabel(\"Total Percentage of RNs in Job Level\")"
   ]
  },
  {
   "cell_type": "markdown",
   "id": "27f1dfb7",
   "metadata": {},
   "source": [
    "# Job Satisfaction"
   ]
  },
  {
   "cell_type": "code",
   "execution_count": 194,
   "id": "ff3fe8fc",
   "metadata": {},
   "outputs": [
    {
     "data": {
      "text/plain": [
       "12"
      ]
     },
     "execution_count": 194,
     "metadata": {},
     "output_type": "execute_result"
    }
   ],
   "source": [
    "cardiology_job_satisfaction_low = cardiology_final[(cardiology_final[\"JobSatisfaction\"] <= 2)].count()[\"JobSatisfaction\"]\n",
    "cardiology_job_satisfaction_low"
   ]
  },
  {
   "cell_type": "code",
   "execution_count": 195,
   "id": "3744ae00",
   "metadata": {},
   "outputs": [
    {
     "data": {
      "text/plain": [
       "8"
      ]
     },
     "execution_count": 195,
     "metadata": {},
     "output_type": "execute_result"
    }
   ],
   "source": [
    "cardiology_job_satisfaction_high = cardiology_final[(cardiology_final[\"JobSatisfaction\"] >= 3)].count()[\"JobSatisfaction\"]\n",
    "cardiology_job_satisfaction_high"
   ]
  },
  {
   "cell_type": "code",
   "execution_count": 196,
   "id": "45d094e0",
   "metadata": {},
   "outputs": [
    {
     "data": {
      "text/plain": [
       "Text(0.5, 1.0, 'Cardiology RN Job Satisfaction')"
      ]
     },
     "execution_count": 196,
     "metadata": {},
     "output_type": "execute_result"
    },
    {
     "data": {
      "image/png": "[encoded data removed]",
      "text/plain": [
       "<Figure size 640x480 with 1 Axes>"
      ]
     },
     "metadata": {},
     "output_type": "display_data"
    }
   ],
   "source": [
    "labels = [\"Low Job Satisfaction (<=2)\", \"High Job Satisfaction (>=3)\"]\n",
    "\n",
    "gender_breakdown = [60,40]\n",
    "\n",
    "colors = [\"yellow\", \"green\"]\n",
    "\n",
    "explode = (0.1, 0)\n",
    "\n",
    "plt.pie(gender_breakdown, explode=explode, labels=labels, colors=colors,\n",
    "        autopct=\"%1.1f%%\", shadow=True, startangle=140)\n",
    "\n",
    "plt.title(\"Cardiology RN Job Satisfaction\")"
   ]
  },
  {
   "cell_type": "markdown",
   "id": "f2fc2d1f",
   "metadata": {},
   "source": [
    "# Tenure"
   ]
  },
  {
   "cell_type": "code",
   "execution_count": 197,
   "id": "901f5a4b",
   "metadata": {},
   "outputs": [
    {
     "data": {
      "text/plain": [
       "10"
      ]
     },
     "execution_count": 197,
     "metadata": {},
     "output_type": "execute_result"
    }
   ],
   "source": [
    "cardiology_tenure_low = cardiology_final[(cardiology_final[\"YearsAtCompany\"] <= 2)].count()[\"YearsAtCompany\"]\n",
    "cardiology_tenure_low"
   ]
  },
  {
   "cell_type": "code",
   "execution_count": 198,
   "id": "120e58dc",
   "metadata": {},
   "outputs": [
    {
     "data": {
      "text/plain": [
       "10"
      ]
     },
     "execution_count": 198,
     "metadata": {},
     "output_type": "execute_result"
    }
   ],
   "source": [
    "cardiology_tenure_high = cardiology_final[(cardiology_final[\"YearsAtCompany\"] >= 3)].count()[\"YearsAtCompany\"]\n",
    "cardiology_tenure_high"
   ]
  },
  {
   "cell_type": "code",
   "execution_count": 199,
   "id": "b6b79dc2",
   "metadata": {},
   "outputs": [
    {
     "data": {
      "text/plain": [
       "Text(0.5, 1.0, 'Cardiology RN Tenure')"
      ]
     },
     "execution_count": 199,
     "metadata": {},
     "output_type": "execute_result"
    },
    {
     "data": {
      "image/png": "[encoded data removed]",
      "text/plain": [
       "<Figure size 640x480 with 1 Axes>"
      ]
     },
     "metadata": {},
     "output_type": "display_data"
    }
   ],
   "source": [
    "labels = [\"Tenure less than 2 Years\", \"Tenure 3+ Years\"]\n",
    "\n",
    "gender_breakdown = [50,50]\n",
    "\n",
    "colors = [\"yellow\", \"green\"]\n",
    "\n",
    "explode = (0.1, 0)\n",
    "\n",
    "plt.pie(gender_breakdown, explode=explode, labels=labels, colors=colors,\n",
    "        autopct=\"%1.1f%%\", shadow=True, startangle=140)\n",
    "\n",
    "plt.title(\"Cardiology RN Tenure\")"
   ]
  },
  {
   "cell_type": "markdown",
   "id": "df1ad76c",
   "metadata": {},
   "source": [
    "# Overtime"
   ]
  },
  {
   "cell_type": "code",
   "execution_count": 200,
   "id": "609b393b",
   "metadata": {},
   "outputs": [
    {
     "data": {
      "text/plain": [
       "13"
      ]
     },
     "execution_count": 200,
     "metadata": {},
     "output_type": "execute_result"
    }
   ],
   "source": [
    "cardiology_overtime = cardiology_final[(cardiology_final[\"OverTime\"] == \"Yes\")].count()[\"OverTime\"]\n",
    "cardiology_overtime"
   ]
  },
  {
   "cell_type": "code",
   "execution_count": 201,
   "id": "211ec12d",
   "metadata": {},
   "outputs": [
    {
     "data": {
      "text/plain": [
       "Text(0.5, 1.0, 'Cardiology RN Overtime')"
      ]
     },
     "execution_count": 201,
     "metadata": {},
     "output_type": "execute_result"
    },
    {
     "data": {
      "image/png": "[encoded data removed]",
      "text/plain": [
       "<Figure size 640x480 with 1 Axes>"
      ]
     },
     "metadata": {},
     "output_type": "display_data"
    }
   ],
   "source": [
    "labels = [\"Works Overtime\", \"Does not work Overtime\"]\n",
    "\n",
    "gender_breakdown = [65,35]\n",
    "\n",
    "colors = [\"yellow\", \"green\"]\n",
    "\n",
    "explode = (0.1, 0)\n",
    "\n",
    "plt.pie(gender_breakdown, explode=explode, labels=labels, colors=colors,\n",
    "        autopct=\"%1.1f%%\", shadow=True, startangle=140)\n",
    "\n",
    "plt.title(\"Cardiology RN Overtime\")"
   ]
  },
  {
   "cell_type": "markdown",
   "id": "ff476096",
   "metadata": {},
   "source": [
    "# Total RN Count included in the Sample (Maternity, Neurology, Cardiology)-BAR"
   ]
  },
  {
   "cell_type": "code",
   "execution_count": 205,
   "id": "e038ac08",
   "metadata": {},
   "outputs": [
    {
     "data": {
      "text/plain": [
       "Text(0, 0.5, 'Total N0 of RNs')"
      ]
     },
     "execution_count": 205,
     "metadata": {},
     "output_type": "execute_result"
    },
    {
     "data": {
      "image/png": "[encoded data removed]",
      "text/plain": [
       "<Figure size 640x480 with 1 Axes>"
      ]
     },
     "metadata": {},
     "output_type": "display_data"
    }
   ],
   "source": [
    "levels = [\"Maternity\", \"Neurology\", \"Cardiology\"]\n",
    "level_percentages = [48, 8, 20]\n",
    "x_axis = np.arange(len(level_percentages))\n",
    "\n",
    "plt.bar(x_axis, level_percentages, color=\"red\", align=\"center\")\n",
    "\n",
    "tick_locations = [level for level in x_axis]\n",
    "plt.xticks(tick_locations, levels)\n",
    "\n",
    "\n",
    "plt.title(\"Total RN Counts included in Study\")\n",
    "plt.xlabel(\"RN Specialties\")\n",
    "plt.ylabel(\"Total N0 of RNs\")"
   ]
  },
  {
   "cell_type": "markdown",
   "id": "b9faa649",
   "metadata": {},
   "source": [
    "# Total RN Count included in the Sample (Maternity, Neurology, Cardiology)-PIE"
   ]
  },
  {
   "cell_type": "code",
   "execution_count": 217,
   "id": "7caebb7c",
   "metadata": {},
   "outputs": [
    {
     "data": {
      "text/plain": [
       "Text(0.5, 1.0, 'Total RN Counts by Specialty included in Study')"
      ]
     },
     "execution_count": 217,
     "metadata": {},
     "output_type": "execute_result"
    },
    {
     "data": {
      "image/png": "[encoded data removed]",
      "text/plain": [
       "<Figure size 640x480 with 1 Axes>"
      ]
     },
     "metadata": {},
     "output_type": "display_data"
    }
   ],
   "source": [
    "labels = [\"Maternity\", \"Neurology\", \"Cardiology\"]\n",
    "\n",
    "gender_breakdown = [48, 8, 20]\n",
    "\n",
    "colors = [\"lightblue\", \"yellow\", \"green\"]\n",
    "\n",
    "explode = (0, 0.1, 0)\n",
    "\n",
    "plt.pie(gender_breakdown, explode=explode, labels=labels, colors=colors,\n",
    "        autopct=\"%1.1f%%\", shadow=True, startangle=140)\n",
    "\n",
    "plt.title(\"Total RN Counts by Specialty included in Study\")"
   ]
  },
  {
   "cell_type": "code",
   "execution_count": null,
   "id": "22f8e4e4",
   "metadata": {},
   "outputs": [],
   "source": []
  }
 ],
 "metadata": {
  "kernelspec": {
   "display_name": "Python 3 (ipykernel)",
   "language": "python",
   "name": "python3"
  },
  "language_info": {
   "codemirror_mode": {
    "name": "ipython",
    "version": 3
   },
   "file_extension": ".py",
   "mimetype": "text/x-python",
   "name": "python",
   "nbconvert_exporter": "python",
   "pygments_lexer": "ipython3",
   "version": "3.9.16"
  }
 },
 "nbformat": 4,
 "nbformat_minor": 5
}
