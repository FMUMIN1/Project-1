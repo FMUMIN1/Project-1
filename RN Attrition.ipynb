{
 "cells": [
  {
   "cell_type": "code",
   "execution_count": 1,
   "id": "cb38335a",
   "metadata": {},
   "outputs": [],
   "source": [
    "import pandas as pd"
   ]
  },
  {
   "cell_type": "code",
   "execution_count": 2,
   "id": "be3f8101",
   "metadata": {
    "scrolled": true
   },
   "outputs": [
    {
     "data": {
      "text/html": [
       "<div>\n",
       "<style scoped>\n",
       "    .dataframe tbody tr th:only-of-type {\n",
       "        vertical-align: middle;\n",
       "    }\n",
       "\n",
       "    .dataframe tbody tr th {\n",
       "        vertical-align: top;\n",
       "    }\n",
       "\n",
       "    .dataframe thead th {\n",
       "        text-align: right;\n",
       "    }\n",
       "</style>\n",
       "<table border=\"1\" class=\"dataframe\">\n",
       "  <thead>\n",
       "    <tr style=\"text-align: right;\">\n",
       "      <th></th>\n",
       "      <th>EmployeeID</th>\n",
       "      <th>Age</th>\n",
       "      <th>Attrition</th>\n",
       "      <th>BusinessTravel</th>\n",
       "      <th>DailyRate</th>\n",
       "      <th>Department</th>\n",
       "      <th>DistanceFromHome</th>\n",
       "      <th>Education</th>\n",
       "      <th>EducationField</th>\n",
       "      <th>EmployeeCount</th>\n",
       "      <th>...</th>\n",
       "      <th>RelationshipSatisfaction</th>\n",
       "      <th>StandardHours</th>\n",
       "      <th>Shift</th>\n",
       "      <th>TotalWorkingYears</th>\n",
       "      <th>TrainingTimesLastYear</th>\n",
       "      <th>WorkLifeBalance</th>\n",
       "      <th>YearsAtCompany</th>\n",
       "      <th>YearsInCurrentRole</th>\n",
       "      <th>YearsSinceLastPromotion</th>\n",
       "      <th>YearsWithCurrManager</th>\n",
       "    </tr>\n",
       "  </thead>\n",
       "  <tbody>\n",
       "    <tr>\n",
       "      <th>0</th>\n",
       "      <td>1313919</td>\n",
       "      <td>41</td>\n",
       "      <td>No</td>\n",
       "      <td>Travel_Rarely</td>\n",
       "      <td>1102</td>\n",
       "      <td>Cardiology</td>\n",
       "      <td>1</td>\n",
       "      <td>2</td>\n",
       "      <td>Life Sciences</td>\n",
       "      <td>1</td>\n",
       "      <td>...</td>\n",
       "      <td>1</td>\n",
       "      <td>80</td>\n",
       "      <td>0</td>\n",
       "      <td>8</td>\n",
       "      <td>0</td>\n",
       "      <td>1</td>\n",
       "      <td>6</td>\n",
       "      <td>4</td>\n",
       "      <td>0</td>\n",
       "      <td>5</td>\n",
       "    </tr>\n",
       "    <tr>\n",
       "      <th>1</th>\n",
       "      <td>1200302</td>\n",
       "      <td>49</td>\n",
       "      <td>No</td>\n",
       "      <td>Travel_Frequently</td>\n",
       "      <td>279</td>\n",
       "      <td>Maternity</td>\n",
       "      <td>8</td>\n",
       "      <td>1</td>\n",
       "      <td>Life Sciences</td>\n",
       "      <td>1</td>\n",
       "      <td>...</td>\n",
       "      <td>4</td>\n",
       "      <td>80</td>\n",
       "      <td>1</td>\n",
       "      <td>10</td>\n",
       "      <td>3</td>\n",
       "      <td>3</td>\n",
       "      <td>10</td>\n",
       "      <td>7</td>\n",
       "      <td>1</td>\n",
       "      <td>7</td>\n",
       "    </tr>\n",
       "    <tr>\n",
       "      <th>2</th>\n",
       "      <td>1060315</td>\n",
       "      <td>37</td>\n",
       "      <td>Yes</td>\n",
       "      <td>Travel_Rarely</td>\n",
       "      <td>1373</td>\n",
       "      <td>Maternity</td>\n",
       "      <td>2</td>\n",
       "      <td>2</td>\n",
       "      <td>Other</td>\n",
       "      <td>1</td>\n",
       "      <td>...</td>\n",
       "      <td>2</td>\n",
       "      <td>80</td>\n",
       "      <td>0</td>\n",
       "      <td>7</td>\n",
       "      <td>3</td>\n",
       "      <td>3</td>\n",
       "      <td>0</td>\n",
       "      <td>0</td>\n",
       "      <td>0</td>\n",
       "      <td>0</td>\n",
       "    </tr>\n",
       "    <tr>\n",
       "      <th>3</th>\n",
       "      <td>1272912</td>\n",
       "      <td>33</td>\n",
       "      <td>No</td>\n",
       "      <td>Travel_Frequently</td>\n",
       "      <td>1392</td>\n",
       "      <td>Maternity</td>\n",
       "      <td>3</td>\n",
       "      <td>4</td>\n",
       "      <td>Life Sciences</td>\n",
       "      <td>1</td>\n",
       "      <td>...</td>\n",
       "      <td>3</td>\n",
       "      <td>80</td>\n",
       "      <td>0</td>\n",
       "      <td>8</td>\n",
       "      <td>3</td>\n",
       "      <td>3</td>\n",
       "      <td>8</td>\n",
       "      <td>7</td>\n",
       "      <td>3</td>\n",
       "      <td>0</td>\n",
       "    </tr>\n",
       "    <tr>\n",
       "      <th>4</th>\n",
       "      <td>1414939</td>\n",
       "      <td>27</td>\n",
       "      <td>No</td>\n",
       "      <td>Travel_Rarely</td>\n",
       "      <td>591</td>\n",
       "      <td>Maternity</td>\n",
       "      <td>2</td>\n",
       "      <td>1</td>\n",
       "      <td>Medical</td>\n",
       "      <td>1</td>\n",
       "      <td>...</td>\n",
       "      <td>4</td>\n",
       "      <td>80</td>\n",
       "      <td>1</td>\n",
       "      <td>6</td>\n",
       "      <td>3</td>\n",
       "      <td>3</td>\n",
       "      <td>2</td>\n",
       "      <td>2</td>\n",
       "      <td>2</td>\n",
       "      <td>2</td>\n",
       "    </tr>\n",
       "    <tr>\n",
       "      <th>...</th>\n",
       "      <td>...</td>\n",
       "      <td>...</td>\n",
       "      <td>...</td>\n",
       "      <td>...</td>\n",
       "      <td>...</td>\n",
       "      <td>...</td>\n",
       "      <td>...</td>\n",
       "      <td>...</td>\n",
       "      <td>...</td>\n",
       "      <td>...</td>\n",
       "      <td>...</td>\n",
       "      <td>...</td>\n",
       "      <td>...</td>\n",
       "      <td>...</td>\n",
       "      <td>...</td>\n",
       "      <td>...</td>\n",
       "      <td>...</td>\n",
       "      <td>...</td>\n",
       "      <td>...</td>\n",
       "      <td>...</td>\n",
       "      <td>...</td>\n",
       "    </tr>\n",
       "    <tr>\n",
       "      <th>1671</th>\n",
       "      <td>1117656</td>\n",
       "      <td>26</td>\n",
       "      <td>Yes</td>\n",
       "      <td>Travel_Rarely</td>\n",
       "      <td>471</td>\n",
       "      <td>Neurology</td>\n",
       "      <td>24</td>\n",
       "      <td>3</td>\n",
       "      <td>Technical Degree</td>\n",
       "      <td>1</td>\n",
       "      <td>...</td>\n",
       "      <td>2</td>\n",
       "      <td>80</td>\n",
       "      <td>0</td>\n",
       "      <td>1</td>\n",
       "      <td>3</td>\n",
       "      <td>1</td>\n",
       "      <td>1</td>\n",
       "      <td>0</td>\n",
       "      <td>0</td>\n",
       "      <td>0</td>\n",
       "    </tr>\n",
       "    <tr>\n",
       "      <th>1672</th>\n",
       "      <td>1152327</td>\n",
       "      <td>46</td>\n",
       "      <td>No</td>\n",
       "      <td>Travel_Rarely</td>\n",
       "      <td>1125</td>\n",
       "      <td>Cardiology</td>\n",
       "      <td>10</td>\n",
       "      <td>3</td>\n",
       "      <td>Marketing</td>\n",
       "      <td>1</td>\n",
       "      <td>...</td>\n",
       "      <td>3</td>\n",
       "      <td>80</td>\n",
       "      <td>1</td>\n",
       "      <td>15</td>\n",
       "      <td>3</td>\n",
       "      <td>3</td>\n",
       "      <td>3</td>\n",
       "      <td>2</td>\n",
       "      <td>1</td>\n",
       "      <td>2</td>\n",
       "    </tr>\n",
       "    <tr>\n",
       "      <th>1673</th>\n",
       "      <td>1812428</td>\n",
       "      <td>20</td>\n",
       "      <td>No</td>\n",
       "      <td>Travel_Rarely</td>\n",
       "      <td>959</td>\n",
       "      <td>Maternity</td>\n",
       "      <td>1</td>\n",
       "      <td>3</td>\n",
       "      <td>Life Sciences</td>\n",
       "      <td>1</td>\n",
       "      <td>...</td>\n",
       "      <td>4</td>\n",
       "      <td>80</td>\n",
       "      <td>0</td>\n",
       "      <td>1</td>\n",
       "      <td>0</td>\n",
       "      <td>4</td>\n",
       "      <td>1</td>\n",
       "      <td>0</td>\n",
       "      <td>0</td>\n",
       "      <td>0</td>\n",
       "    </tr>\n",
       "    <tr>\n",
       "      <th>1674</th>\n",
       "      <td>1812429</td>\n",
       "      <td>39</td>\n",
       "      <td>No</td>\n",
       "      <td>Travel_Rarely</td>\n",
       "      <td>466</td>\n",
       "      <td>Neurology</td>\n",
       "      <td>1</td>\n",
       "      <td>1</td>\n",
       "      <td>Life Sciences</td>\n",
       "      <td>1</td>\n",
       "      <td>...</td>\n",
       "      <td>3</td>\n",
       "      <td>80</td>\n",
       "      <td>1</td>\n",
       "      <td>21</td>\n",
       "      <td>3</td>\n",
       "      <td>3</td>\n",
       "      <td>21</td>\n",
       "      <td>6</td>\n",
       "      <td>11</td>\n",
       "      <td>8</td>\n",
       "    </tr>\n",
       "    <tr>\n",
       "      <th>1675</th>\n",
       "      <td>1152329</td>\n",
       "      <td>27</td>\n",
       "      <td>No</td>\n",
       "      <td>Travel_Rarely</td>\n",
       "      <td>511</td>\n",
       "      <td>Cardiology</td>\n",
       "      <td>2</td>\n",
       "      <td>2</td>\n",
       "      <td>Medical</td>\n",
       "      <td>1</td>\n",
       "      <td>...</td>\n",
       "      <td>2</td>\n",
       "      <td>80</td>\n",
       "      <td>0</td>\n",
       "      <td>9</td>\n",
       "      <td>5</td>\n",
       "      <td>2</td>\n",
       "      <td>8</td>\n",
       "      <td>7</td>\n",
       "      <td>0</td>\n",
       "      <td>7</td>\n",
       "    </tr>\n",
       "  </tbody>\n",
       "</table>\n",
       "<p>1676 rows × 35 columns</p>\n",
       "</div>"
      ],
      "text/plain": [
       "      EmployeeID  Age Attrition     BusinessTravel  DailyRate  Department  \\\n",
       "0        1313919   41        No      Travel_Rarely       1102  Cardiology   \n",
       "1        1200302   49        No  Travel_Frequently        279   Maternity   \n",
       "2        1060315   37       Yes      Travel_Rarely       1373   Maternity   \n",
       "3        1272912   33        No  Travel_Frequently       1392   Maternity   \n",
       "4        1414939   27        No      Travel_Rarely        591   Maternity   \n",
       "...          ...  ...       ...                ...        ...         ...   \n",
       "1671     1117656   26       Yes      Travel_Rarely        471   Neurology   \n",
       "1672     1152327   46        No      Travel_Rarely       1125  Cardiology   \n",
       "1673     1812428   20        No      Travel_Rarely        959   Maternity   \n",
       "1674     1812429   39        No      Travel_Rarely        466   Neurology   \n",
       "1675     1152329   27        No      Travel_Rarely        511  Cardiology   \n",
       "\n",
       "      DistanceFromHome  Education    EducationField  EmployeeCount  ...  \\\n",
       "0                    1          2     Life Sciences              1  ...   \n",
       "1                    8          1     Life Sciences              1  ...   \n",
       "2                    2          2             Other              1  ...   \n",
       "3                    3          4     Life Sciences              1  ...   \n",
       "4                    2          1           Medical              1  ...   \n",
       "...                ...        ...               ...            ...  ...   \n",
       "1671                24          3  Technical Degree              1  ...   \n",
       "1672                10          3         Marketing              1  ...   \n",
       "1673                 1          3     Life Sciences              1  ...   \n",
       "1674                 1          1     Life Sciences              1  ...   \n",
       "1675                 2          2           Medical              1  ...   \n",
       "\n",
       "      RelationshipSatisfaction StandardHours  Shift  TotalWorkingYears  \\\n",
       "0                            1            80      0                  8   \n",
       "1                            4            80      1                 10   \n",
       "2                            2            80      0                  7   \n",
       "3                            3            80      0                  8   \n",
       "4                            4            80      1                  6   \n",
       "...                        ...           ...    ...                ...   \n",
       "1671                         2            80      0                  1   \n",
       "1672                         3            80      1                 15   \n",
       "1673                         4            80      0                  1   \n",
       "1674                         3            80      1                 21   \n",
       "1675                         2            80      0                  9   \n",
       "\n",
       "      TrainingTimesLastYear WorkLifeBalance  YearsAtCompany  \\\n",
       "0                         0               1               6   \n",
       "1                         3               3              10   \n",
       "2                         3               3               0   \n",
       "3                         3               3               8   \n",
       "4                         3               3               2   \n",
       "...                     ...             ...             ...   \n",
       "1671                      3               1               1   \n",
       "1672                      3               3               3   \n",
       "1673                      0               4               1   \n",
       "1674                      3               3              21   \n",
       "1675                      5               2               8   \n",
       "\n",
       "     YearsInCurrentRole  YearsSinceLastPromotion  YearsWithCurrManager  \n",
       "0                     4                        0                     5  \n",
       "1                     7                        1                     7  \n",
       "2                     0                        0                     0  \n",
       "3                     7                        3                     0  \n",
       "4                     2                        2                     2  \n",
       "...                 ...                      ...                   ...  \n",
       "1671                  0                        0                     0  \n",
       "1672                  2                        1                     2  \n",
       "1673                  0                        0                     0  \n",
       "1674                  6                       11                     8  \n",
       "1675                  7                        0                     7  \n",
       "\n",
       "[1676 rows x 35 columns]"
      ]
     },
     "execution_count": 2,
     "metadata": {},
     "output_type": "execute_result"
    }
   ],
   "source": [
    "tenureData=\"Employee Attrition for Healthcare/watson_healthcare_modified.csv\"\n",
    "tenureDataDF=pd.read_csv(tenureData)\n",
    "tenureDataDF"
   ]
  },
  {
   "cell_type": "markdown",
   "id": "f217fed1",
   "metadata": {},
   "source": [
    "Attrition Rate (Yes/No) Pie Graphs"
   ]
  },
  {
   "cell_type": "code",
   "execution_count": 3,
   "id": "7416aeeb",
   "metadata": {},
   "outputs": [
    {
     "data": {
      "image/png": "[encoded data removed]",
      "text/plain": [
       "<Figure size 640x480 with 1 Axes>"
      ]
     },
     "metadata": {},
     "output_type": "display_data"
    }
   ],
   "source": [
    "\n",
    "yes=tenureDataDF.groupby([\"Attrition\"]).count()[\"EmployeeID\"]\n",
    "colors= \"pink\", \"#99ff99\"\n",
    "explode= .05, .05\n",
    "graph=yes.plot(kind=\"pie\", title= \"Attrition Rate\", autopct=\"%1.2f%%\", colors=colors, explode= explode)\n"
   ]
  },
  {
   "cell_type": "code",
   "execution_count": 4,
   "id": "493fd918",
   "metadata": {},
   "outputs": [
    {
     "data": {
      "text/plain": [
       "<matplotlib.patches.Circle at 0x21cb2371190>"
      ]
     },
     "execution_count": 4,
     "metadata": {},
     "output_type": "execute_result"
    },
    {
     "data": {
      "image/png": "[encoded data removed]",
      "text/plain": [
       "<Figure size 640x480 with 1 Axes>"
      ]
     },
     "metadata": {},
     "output_type": "display_data"
    }
   ],
   "source": [
    "import matplotlib.pyplot as plt\n",
    "\n",
    "yes=tenureDataDF.groupby([\"Attrition\"]).count()[\"EmployeeID\"]\n",
    "colors=  \"#99ff99\" , \"pink\"\n",
    "explode= .05, .05\n",
    "autopct=\"%1.2f%%\"\n",
    "labels= [\"No\", \"Yes\"]\n",
    "plt.pie(yes,colors=colors,explode=explode, autopct=autopct,labels=labels)\n",
    "plt.title (\"Attrition Rate\")\n",
    "centre_circle = plt.Circle((0, 0), 0.50, fc='white')\n",
    "fig = plt.gcf() \n",
    "fig.gca().add_artist(centre_circle)"
   ]
  },
  {
   "cell_type": "markdown",
   "id": "af88130e",
   "metadata": {},
   "source": [
    "Yes attrition values"
   ]
  },
  {
   "cell_type": "code",
   "execution_count": 5,
   "id": "df52fd24",
   "metadata": {},
   "outputs": [
    {
     "data": {
      "text/plain": [
       "18"
      ]
     },
     "execution_count": 5,
     "metadata": {},
     "output_type": "execute_result"
    }
   ],
   "source": [
    "tenureDF1 =  tenureDataDF[(tenureDataDF[\"Attrition\"] == \"Yes\") & (tenureDataDF[\"YearsAtCompany\"] <= 0)]\n",
    "tenureResults1=  tenureDF1[(tenureDF1[\"Attrition\"] == \"Yes\")].count()[\"YearsAtCompany\"]\n",
    "tenureResults1"
   ]
  },
  {
   "cell_type": "code",
   "execution_count": 6,
   "id": "f49169da",
   "metadata": {},
   "outputs": [
    {
     "data": {
      "text/plain": [
       "59"
      ]
     },
     "execution_count": 6,
     "metadata": {},
     "output_type": "execute_result"
    }
   ],
   "source": [
    "tenureDF2 =  tenureDataDF[(tenureDataDF[\"Attrition\"] == \"Yes\") & (tenureDataDF[\"YearsAtCompany\"] >0) & (tenureDataDF[\"YearsAtCompany\"] <=1)]\n",
    "tenureResults2=  tenureDF2[(tenureDF2[\"Attrition\"] == \"Yes\")].count()[\"YearsAtCompany\"]\n",
    "tenureResults2"
   ]
  },
  {
   "cell_type": "code",
   "execution_count": 7,
   "id": "58364d33",
   "metadata": {},
   "outputs": [
    {
     "data": {
      "text/plain": [
       "30"
      ]
     },
     "execution_count": 7,
     "metadata": {},
     "output_type": "execute_result"
    }
   ],
   "source": [
    "tenureDF3 =  tenureDataDF[(tenureDataDF[\"Attrition\"] == \"Yes\") & (tenureDataDF[\"YearsAtCompany\"] >1) & (tenureDataDF[\"YearsAtCompany\"] <=2)]\n",
    "tenureResults3=  tenureDF3[(tenureDF3[\"Attrition\"] == \"Yes\")].count()[\"YearsAtCompany\"]\n",
    "tenureResults3"
   ]
  },
  {
   "cell_type": "code",
   "execution_count": 8,
   "id": "af1bd2ac",
   "metadata": {},
   "outputs": [
    {
     "data": {
      "text/plain": [
       "17"
      ]
     },
     "execution_count": 8,
     "metadata": {},
     "output_type": "execute_result"
    }
   ],
   "source": [
    "tenureDF4 =  tenureDataDF[(tenureDataDF[\"Attrition\"] == \"Yes\") & (tenureDataDF[\"YearsAtCompany\"] >2) & (tenureDataDF[\"YearsAtCompany\"] <=3)]\n",
    "tenureResults4= tenureDF4[(tenureDF4[\"Attrition\"] == \"Yes\")].count()[\"YearsAtCompany\"]\n",
    "tenureResults4"
   ]
  },
  {
   "cell_type": "code",
   "execution_count": 9,
   "id": "b34931d9",
   "metadata": {},
   "outputs": [
    {
     "data": {
      "text/plain": [
       "14"
      ]
     },
     "execution_count": 9,
     "metadata": {},
     "output_type": "execute_result"
    }
   ],
   "source": [
    "tenureDF5 =  tenureDataDF[(tenureDataDF[\"Attrition\"] == \"Yes\") & (tenureDataDF[\"YearsAtCompany\"] >3) & (tenureDataDF[\"YearsAtCompany\"] <=4)]\n",
    "tenureResults5= tenureDF5[(tenureDF5[\"Attrition\"] == \"Yes\")].count()[\"YearsAtCompany\"]\n",
    "tenureResults5"
   ]
  },
  {
   "cell_type": "code",
   "execution_count": 10,
   "id": "a5fee014",
   "metadata": {},
   "outputs": [
    {
     "data": {
      "text/plain": [
       "19"
      ]
     },
     "execution_count": 10,
     "metadata": {},
     "output_type": "execute_result"
    }
   ],
   "source": [
    "tenureDF6 =  tenureDataDF[(tenureDataDF[\"Attrition\"] == \"Yes\") & (tenureDataDF[\"YearsAtCompany\"] >4) & (tenureDataDF[\"YearsAtCompany\"] <=5)]\n",
    "tenureResults6= tenureDF6[(tenureDF6[\"Attrition\"] == \"Yes\")].count()[\"YearsAtCompany\"]\n",
    "tenureResults6"
   ]
  },
  {
   "cell_type": "code",
   "execution_count": 11,
   "id": "193634da",
   "metadata": {},
   "outputs": [
    {
     "data": {
      "text/plain": [
       "5"
      ]
     },
     "execution_count": 11,
     "metadata": {},
     "output_type": "execute_result"
    }
   ],
   "source": [
    "tenureDF7 = tenureDataDF[(tenureDataDF[\"Attrition\"] == \"Yes\") & (tenureDataDF[\"YearsAtCompany\"] >5) & (tenureDataDF[\"YearsAtCompany\"] <=6)]\n",
    "tenureResults7= tenureDF7[(tenureDF7[\"Attrition\"] == \"Yes\")].count()[\"YearsAtCompany\"]\n",
    "tenureResults7"
   ]
  },
  {
   "cell_type": "code",
   "execution_count": 12,
   "id": "92a56bf0",
   "metadata": {},
   "outputs": [
    {
     "data": {
      "text/plain": [
       "10"
      ]
     },
     "execution_count": 12,
     "metadata": {},
     "output_type": "execute_result"
    }
   ],
   "source": [
    "tenureDF8 = tenureDataDF[(tenureDataDF[\"Attrition\"] == \"Yes\") & (tenureDataDF[\"YearsAtCompany\"] >6) & (tenureDataDF[\"YearsAtCompany\"] <=7)]\n",
    "tenureResults8= tenureDF8[(tenureDF8[\"Attrition\"] == \"Yes\")].count()[\"YearsAtCompany\"]\n",
    "tenureResults8"
   ]
  },
  {
   "cell_type": "code",
   "execution_count": 13,
   "id": "082d8ade",
   "metadata": {},
   "outputs": [
    {
     "data": {
      "text/plain": [
       "6"
      ]
     },
     "execution_count": 13,
     "metadata": {},
     "output_type": "execute_result"
    }
   ],
   "source": [
    "tenureDF9 = tenureDataDF[(tenureDataDF[\"Attrition\"] == \"Yes\") & (tenureDataDF[\"YearsAtCompany\"] >7) & (tenureDataDF[\"YearsAtCompany\"] <=8)]\n",
    "tenureResults9= tenureDF9[(tenureDF9[\"Attrition\"] == \"Yes\")].count()[\"YearsAtCompany\"]\n",
    "tenureResults9"
   ]
  },
  {
   "cell_type": "code",
   "execution_count": 14,
   "id": "41319398",
   "metadata": {},
   "outputs": [
    {
     "data": {
      "text/plain": [
       "3"
      ]
     },
     "execution_count": 14,
     "metadata": {},
     "output_type": "execute_result"
    }
   ],
   "source": [
    "tenureDF10 = tenureDataDF[(tenureDataDF[\"Attrition\"] == \"Yes\") & (tenureDataDF[\"YearsAtCompany\"] >8) & (tenureDataDF[\"YearsAtCompany\"] <=9)]\n",
    "tenureResults10= tenureDF10[(tenureDF10[\"Attrition\"] == \"Yes\")].count()[\"YearsAtCompany\"]\n",
    "tenureResults10"
   ]
  },
  {
   "cell_type": "code",
   "execution_count": 15,
   "id": "99b959ea",
   "metadata": {},
   "outputs": [
    {
     "data": {
      "text/plain": [
       "11"
      ]
     },
     "execution_count": 15,
     "metadata": {},
     "output_type": "execute_result"
    }
   ],
   "source": [
    "tenureDF11 = tenureDataDF[(tenureDataDF[\"Attrition\"] == \"Yes\") & (tenureDataDF[\"YearsAtCompany\"] >9) & (tenureDataDF[\"YearsAtCompany\"] <=10)]\n",
    "tenureResults11= tenureDF11[(tenureDF11[\"Attrition\"] == \"Yes\")].count()[\"YearsAtCompany\"]\n",
    "tenureResults11"
   ]
  },
  {
   "cell_type": "code",
   "execution_count": 16,
   "id": "afef50a4",
   "metadata": {},
   "outputs": [
    {
     "data": {
      "text/plain": [
       "1"
      ]
     },
     "execution_count": 16,
     "metadata": {},
     "output_type": "execute_result"
    }
   ],
   "source": [
    "tenureDF12 = tenureDataDF[(tenureDataDF[\"Attrition\"] == \"Yes\") & (tenureDataDF[\"YearsAtCompany\"] >10) & (tenureDataDF[\"YearsAtCompany\"] <=11)]\n",
    "tenureResults12= tenureDF12[(tenureDF12[\"Attrition\"] == \"Yes\")].count()[\"YearsAtCompany\"]\n",
    "tenureResults12"
   ]
  },
  {
   "cell_type": "code",
   "execution_count": 17,
   "id": "f7b26827",
   "metadata": {},
   "outputs": [
    {
     "data": {
      "text/plain": [
       "1"
      ]
     },
     "execution_count": 17,
     "metadata": {},
     "output_type": "execute_result"
    }
   ],
   "source": [
    "tenureDF13 = tenureDataDF[(tenureDataDF[\"Attrition\"] == \"Yes\") & (tenureDataDF[\"YearsAtCompany\"] >12) & (tenureDataDF[\"YearsAtCompany\"] <=14)]\n",
    "tenureResults13= tenureDF13[(tenureDF13[\"Attrition\"] == \"Yes\")].count()[\"YearsAtCompany\"]\n",
    "tenureResults13"
   ]
  },
  {
   "cell_type": "code",
   "execution_count": 18,
   "id": "1484e02a",
   "metadata": {},
   "outputs": [
    {
     "data": {
      "text/plain": [
       "2"
      ]
     },
     "execution_count": 18,
     "metadata": {},
     "output_type": "execute_result"
    }
   ],
   "source": [
    "tenureDF14 = tenureDataDF[(tenureDataDF[\"Attrition\"] == \"Yes\") & (tenureDataDF[\"YearsAtCompany\"] >14) & (tenureDataDF[\"YearsAtCompany\"] <=15)]\n",
    "tenureResults14= tenureDF14[(tenureDF14[\"Attrition\"] == \"Yes\")].count()[\"YearsAtCompany\"]\n",
    "tenureResults14"
   ]
  },
  {
   "cell_type": "code",
   "execution_count": 19,
   "id": "41047297",
   "metadata": {},
   "outputs": [
    {
     "data": {
      "text/plain": [
       "1"
      ]
     },
     "execution_count": 19,
     "metadata": {},
     "output_type": "execute_result"
    }
   ],
   "source": [
    "tenureDF15 = tenureDataDF[(tenureDataDF[\"Attrition\"] == \"Yes\") & (tenureDataDF[\"YearsAtCompany\"] >15) & (tenureDataDF[\"YearsAtCompany\"] <=19)]\n",
    "tenureResults15= tenureDF15[(tenureDF15[\"Attrition\"] == \"Yes\")].count()[\"YearsAtCompany\"]\n",
    "tenureResults15"
   ]
  },
  {
   "cell_type": "code",
   "execution_count": 20,
   "id": "aee68c40",
   "metadata": {},
   "outputs": [
    {
     "data": {
      "text/plain": [
       "1"
      ]
     },
     "execution_count": 20,
     "metadata": {},
     "output_type": "execute_result"
    }
   ],
   "source": [
    "tenureDF16 = tenureDataDF[(tenureDataDF[\"Attrition\"] == \"Yes\") & (tenureDataDF[\"YearsAtCompany\"] >19) & (tenureDataDF[\"YearsAtCompany\"] <=23)]\n",
    "tenureResults16= tenureDF16[(tenureDF16[\"Attrition\"] == \"Yes\")].count()[\"YearsAtCompany\"]\n",
    "tenureResults16"
   ]
  },
  {
   "cell_type": "code",
   "execution_count": 21,
   "id": "a8560615",
   "metadata": {},
   "outputs": [
    {
     "data": {
      "text/plain": [
       "1"
      ]
     },
     "execution_count": 21,
     "metadata": {},
     "output_type": "execute_result"
    }
   ],
   "source": [
    "tenureDF17 = tenureDataDF[(tenureDataDF[\"Attrition\"] == \"Yes\") & (tenureDataDF[\"YearsAtCompany\"] >23) & (tenureDataDF[\"YearsAtCompany\"] <=31)]\n",
    "tenureResults17= tenureDF17[(tenureDF17[\"Attrition\"] == \"Yes\")].count()[\"YearsAtCompany\"]\n",
    "tenureResults17"
   ]
  },
  {
   "cell_type": "markdown",
   "id": "4b077843",
   "metadata": {},
   "source": [
    "Dataframe for number of employees who left after x number of years working"
   ]
  },
  {
   "cell_type": "code",
   "execution_count": 22,
   "id": "15c8d77d",
   "metadata": {},
   "outputs": [
    {
     "data": {
      "text/html": [
       "<div>\n",
       "<style scoped>\n",
       "    .dataframe tbody tr th:only-of-type {\n",
       "        vertical-align: middle;\n",
       "    }\n",
       "\n",
       "    .dataframe tbody tr th {\n",
       "        vertical-align: top;\n",
       "    }\n",
       "\n",
       "    .dataframe thead th {\n",
       "        text-align: right;\n",
       "    }\n",
       "</style>\n",
       "<table border=\"1\" class=\"dataframe\">\n",
       "  <thead>\n",
       "    <tr style=\"text-align: right;\">\n",
       "      <th></th>\n",
       "      <th>0 Years at company</th>\n",
       "      <th>1 Years at company</th>\n",
       "      <th>2 Years at company</th>\n",
       "      <th>3 Years at company</th>\n",
       "      <th>4 Years at company</th>\n",
       "      <th>5 Years at company</th>\n",
       "      <th>6 Years at company</th>\n",
       "      <th>7 Years at company</th>\n",
       "      <th>8 Years at company</th>\n",
       "      <th>9 Years at company</th>\n",
       "      <th>10 Years at company</th>\n",
       "      <th>11 Years at company</th>\n",
       "      <th>14 Years at company</th>\n",
       "      <th>15 Years at company</th>\n",
       "      <th>19 Years at company</th>\n",
       "      <th>23 Years at company</th>\n",
       "      <th>31 Years at company</th>\n",
       "    </tr>\n",
       "  </thead>\n",
       "  <tbody>\n",
       "    <tr>\n",
       "      <th>0</th>\n",
       "      <td>18</td>\n",
       "      <td>59</td>\n",
       "      <td>30</td>\n",
       "      <td>17</td>\n",
       "      <td>14</td>\n",
       "      <td>19</td>\n",
       "      <td>5</td>\n",
       "      <td>10</td>\n",
       "      <td>6</td>\n",
       "      <td>3</td>\n",
       "      <td>11</td>\n",
       "      <td>1</td>\n",
       "      <td>1</td>\n",
       "      <td>2</td>\n",
       "      <td>1</td>\n",
       "      <td>1</td>\n",
       "      <td>1</td>\n",
       "    </tr>\n",
       "  </tbody>\n",
       "</table>\n",
       "</div>"
      ],
      "text/plain": [
       "   0 Years at company  1 Years at company  2 Years at company  \\\n",
       "0                  18                  59                  30   \n",
       "\n",
       "   3 Years at company  4 Years at company  5 Years at company  \\\n",
       "0                  17                  14                  19   \n",
       "\n",
       "   6 Years at company  7 Years at company  8 Years at company  \\\n",
       "0                   5                  10                   6   \n",
       "\n",
       "   9 Years at company  10 Years at company  11 Years at company  \\\n",
       "0                   3                   11                    1   \n",
       "\n",
       "   14 Years at company  15 Years at company  19 Years at company  \\\n",
       "0                    1                    2                    1   \n",
       "\n",
       "   23 Years at company  31 Years at company  \n",
       "0                    1                    1  "
      ]
     },
     "execution_count": 22,
     "metadata": {},
     "output_type": "execute_result"
    }
   ],
   "source": [
    "attritionDF = pd.DataFrame({\"0 Years at company\": [tenureResults1],\n",
    "                           \"1 Years at company\": [tenureResults2],\n",
    "                            \"2 Years at company\": [tenureResults3],\n",
    "                            \"3 Years at company\": [tenureResults4],\n",
    "                            \"4 Years at company\": [tenureResults5],\n",
    "                            \"5 Years at company\": [tenureResults6],\n",
    "                            \"6 Years at company\": [tenureResults7],\n",
    "                            \"7 Years at company\": [tenureResults8],\n",
    "                            \"8 Years at company\": [tenureResults9],\n",
    "                            \"9 Years at company\": [tenureResults10],\n",
    "                            \"10 Years at company\": [tenureResults11],\n",
    "                            \"11 Years at company\": [tenureResults12],\n",
    "                            \"14 Years at company\": [tenureResults13],\n",
    "                            \"15 Years at company\": [tenureResults14],\n",
    "                            \"19 Years at company\": [tenureResults15],\n",
    "                            \"23 Years at company\": [tenureResults16],\n",
    "                            \"31 Years at company\": [tenureResults17]\n",
    "                           })\n",
    "attritionDF"
   ]
  },
  {
   "cell_type": "code",
   "execution_count": 23,
   "id": "0e5a4db1",
   "metadata": {},
   "outputs": [
    {
     "data": {
      "text/plain": [
       "<BarContainer object of 4 artists>"
      ]
     },
     "execution_count": 23,
     "metadata": {},
     "output_type": "execute_result"
    },
    {
     "data": {
      "image/png": "[encoded data removed]",
      "text/plain": [
       "<Figure size 640x480 with 1 Axes>"
      ]
     },
     "metadata": {},
     "output_type": "display_data"
    }
   ],
   "source": [
    "import matplotlib.pyplot as plt \n",
    "import numpy as np \n",
    "\n",
    "employees=[157,35,4,2]\n",
    "xAxisPoints=np.arange(len(employees))\n",
    "ticks3= [x for x in xAxisPoints]\n",
    "plt.xticks(ticks3,[\"0-5 Years\",\"6-10 Years\", \"10-15 Years\", \"15-20 Years\"])\n",
    "plt.xlabel(\"Years At Company\")\n",
    "plt.ylabel(\"Number of Employees\")\n",
    "plt.title(\"Number of Employees Departed vs. Number of Years Worked\")\n",
    "plt.bar(xAxisPoints, employees, align=\"center\", color= [\"darkseagreen\",\"forestgreen\",\"forestgreen\",\"forestgreen\"], width=.5)"
   ]
  },
  {
   "cell_type": "code",
   "execution_count": 24,
   "id": "21631da5",
   "metadata": {},
   "outputs": [
    {
     "data": {
      "text/plain": [
       "<BarContainer object of 6 artists>"
      ]
     },
     "execution_count": 24,
     "metadata": {},
     "output_type": "execute_result"
    },
    {
     "data": {
      "image/png": "[encoded data removed]",
      "text/plain": [
       "<Figure size 640x480 with 1 Axes>"
      ]
     },
     "metadata": {},
     "output_type": "display_data"
    }
   ],
   "source": [
    "\n",
    "import matplotlib.pyplot as plt \n",
    "import numpy as np \n",
    "\n",
    "employees3=[18,59,30,17,14,19]\n",
    "xAxisPoints3=np.arange(len(employees3))\n",
    "ticks3= [x for x in xAxisPoints3]\n",
    "\n",
    "plt.xticks(ticks3,[\"<1 Year\", \"1 Year\", \"2 Years\", \"3 Years\", \"4 Years\", \"5 Years\"])\n",
    "plt.xlabel(\"Years At Company\")\n",
    "plt.ylabel(\"Number of Employees\")\n",
    "plt.title(\"Number of Employees Departed vs. Number of Years Worked\")\n",
    "plt.bar(xAxisPoints3, employees3, align=\"center\", color=[\"lightcoral\",\"lightcoral\",\"mistyrose\",\"mistyrose\",\"mistyrose\",\"mistyrose\"])"
   ]
  },
  {
   "cell_type": "markdown",
   "id": "cfaa73ab",
   "metadata": {},
   "source": [
    "Percentage of employees who left after first year"
   ]
  },
  {
   "cell_type": "code",
   "execution_count": 25,
   "id": "c5aceb7d",
   "metadata": {},
   "outputs": [
    {
     "data": {
      "text/plain": [
       "241"
      ]
     },
     "execution_count": 25,
     "metadata": {},
     "output_type": "execute_result"
    }
   ],
   "source": [
    "tenureAnalysis=tenureDataDF[(tenureDataDF[\"YearsAtCompany\"] <= 1)].count()[\"EmployeeID\"]\n",
    "tenureAnalysis\n",
    "# how many employees there were in 0-1 years\n"
   ]
  },
  {
   "cell_type": "code",
   "execution_count": 26,
   "id": "24a186de",
   "metadata": {},
   "outputs": [
    {
     "data": {
      "text/plain": [
       "59"
      ]
     },
     "execution_count": 26,
     "metadata": {},
     "output_type": "execute_result"
    }
   ],
   "source": [
    "tenureAnalysis1 =  tenureDataDF[(tenureDataDF[\"Attrition\"] == \"Yes\") & (tenureDataDF[\"YearsAtCompany\"] >0) & (tenureDataDF[\"YearsAtCompany\"] <=1)]\n",
    "tenureAnalysis2=  tenureAnalysis1[(tenureAnalysis1[\"Attrition\"] == \"Yes\")].count()[\"YearsAtCompany\"]\n",
    "tenureAnalysis2\n",
    "#how many employees left in 0-1 years"
   ]
  },
  {
   "cell_type": "code",
   "execution_count": 27,
   "id": "21a711d4",
   "metadata": {},
   "outputs": [
    {
     "data": {
      "text/plain": [
       "24.481327800829874"
      ]
     },
     "execution_count": 27,
     "metadata": {},
     "output_type": "execute_result"
    }
   ],
   "source": [
    "firstYear=tenureAnalysis2 / float(tenureAnalysis) * 100\n",
    "firstYear\n",
    "#percentage of those who left 0-1 years"
   ]
  },
  {
   "cell_type": "markdown",
   "id": "f7520f45",
   "metadata": {},
   "source": [
    "NO attrition data  "
   ]
  },
  {
   "cell_type": "code",
   "execution_count": 28,
   "id": "8d1270b2",
   "metadata": {},
   "outputs": [
    {
     "data": {
      "text/plain": [
       "28"
      ]
     },
     "execution_count": 28,
     "metadata": {},
     "output_type": "execute_result"
    }
   ],
   "source": [
    "tenureDF18 =  tenureDataDF[(tenureDataDF[\"Attrition\"] == \"No\") & (tenureDataDF[\"YearsAtCompany\"] <= 0)]\n",
    "tenureResults18=  tenureDF18[(tenureDF18[\"Attrition\"] == \"No\")].count()[\"YearsAtCompany\"]\n",
    "tenureResults18"
   ]
  },
  {
   "cell_type": "code",
   "execution_count": 29,
   "id": "02023ac7",
   "metadata": {},
   "outputs": [
    {
     "data": {
      "text/plain": [
       "136"
      ]
     },
     "execution_count": 29,
     "metadata": {},
     "output_type": "execute_result"
    }
   ],
   "source": [
    "tenureDF19 =  tenureDataDF[(tenureDataDF[\"Attrition\"] == \"No\") & (tenureDataDF[\"YearsAtCompany\"] >0) & (tenureDataDF[\"YearsAtCompany\"] <=1)]\n",
    "tenureResults19=  tenureDF19[(tenureDF19[\"Attrition\"] == \"No\")].count()[\"YearsAtCompany\"]\n",
    "tenureResults19"
   ]
  },
  {
   "cell_type": "code",
   "execution_count": 30,
   "id": "2baaca6f",
   "metadata": {},
   "outputs": [
    {
     "data": {
      "text/plain": [
       "116"
      ]
     },
     "execution_count": 30,
     "metadata": {},
     "output_type": "execute_result"
    }
   ],
   "source": [
    "tenureDF20 =  tenureDataDF[(tenureDataDF[\"Attrition\"] == \"No\") & (tenureDataDF[\"YearsAtCompany\"] >1) & (tenureDataDF[\"YearsAtCompany\"] <=2)]\n",
    "tenureResults20=  tenureDF20[(tenureDF20[\"Attrition\"] == \"No\")].count()[\"YearsAtCompany\"]\n",
    "tenureResults20"
   ]
  },
  {
   "cell_type": "code",
   "execution_count": 31,
   "id": "9f07d664",
   "metadata": {},
   "outputs": [
    {
     "data": {
      "text/plain": [
       "135"
      ]
     },
     "execution_count": 31,
     "metadata": {},
     "output_type": "execute_result"
    }
   ],
   "source": [
    "tenureDF21 =  tenureDataDF[(tenureDataDF[\"Attrition\"] == \"No\") & (tenureDataDF[\"YearsAtCompany\"] >2) & (tenureDataDF[\"YearsAtCompany\"] <=3)]\n",
    "tenureResults21=  tenureDF21[(tenureDF21[\"Attrition\"] == \"No\")].count()[\"YearsAtCompany\"]\n",
    "tenureResults21"
   ]
  },
  {
   "cell_type": "code",
   "execution_count": 32,
   "id": "7a27ebe4",
   "metadata": {},
   "outputs": [
    {
     "data": {
      "text/plain": [
       "106"
      ]
     },
     "execution_count": 32,
     "metadata": {},
     "output_type": "execute_result"
    }
   ],
   "source": [
    "tenureDF22 =  tenureDataDF[(tenureDataDF[\"Attrition\"] == \"No\") & (tenureDataDF[\"YearsAtCompany\"] >3) & (tenureDataDF[\"YearsAtCompany\"] <=4)]\n",
    "tenureResults22=  tenureDF22[(tenureDF22[\"Attrition\"] == \"No\")].count()[\"YearsAtCompany\"]\n",
    "tenureResults22"
   ]
  },
  {
   "cell_type": "code",
   "execution_count": 33,
   "id": "4c6bf338",
   "metadata": {},
   "outputs": [
    {
     "data": {
      "text/plain": [
       "200"
      ]
     },
     "execution_count": 33,
     "metadata": {},
     "output_type": "execute_result"
    }
   ],
   "source": [
    "tenureDF23 =  tenureDataDF[(tenureDataDF[\"Attrition\"] == \"No\") & (tenureDataDF[\"YearsAtCompany\"] >4) & (tenureDataDF[\"YearsAtCompany\"] <=5)]\n",
    "tenureResults23=  tenureDF23[(tenureDF23[\"Attrition\"] == \"No\")].count()[\"YearsAtCompany\"]\n",
    "tenureResults23"
   ]
  },
  {
   "cell_type": "code",
   "execution_count": 34,
   "id": "94149d19",
   "metadata": {},
   "outputs": [
    {
     "data": {
      "text/plain": [
       "81"
      ]
     },
     "execution_count": 34,
     "metadata": {},
     "output_type": "execute_result"
    }
   ],
   "source": [
    "tenureDF24 =  tenureDataDF[(tenureDataDF[\"Attrition\"] == \"No\") & (tenureDataDF[\"YearsAtCompany\"] >5) & (tenureDataDF[\"YearsAtCompany\"] <=6)]\n",
    "tenureResults24=  tenureDF24[(tenureDF24[\"Attrition\"] == \"No\")].count()[\"YearsAtCompany\"]\n",
    "tenureResults24"
   ]
  },
  {
   "cell_type": "code",
   "execution_count": 35,
   "id": "ec5e4eee",
   "metadata": {},
   "outputs": [
    {
     "data": {
      "text/plain": [
       "94"
      ]
     },
     "execution_count": 35,
     "metadata": {},
     "output_type": "execute_result"
    }
   ],
   "source": [
    "tenureDF25 =  tenureDataDF[(tenureDataDF[\"Attrition\"] == \"No\") & (tenureDataDF[\"YearsAtCompany\"] >6) & (tenureDataDF[\"YearsAtCompany\"] <=7)]\n",
    "tenureResults25=  tenureDF25[(tenureDF25[\"Attrition\"] == \"No\")].count()[\"YearsAtCompany\"]\n",
    "tenureResults25"
   ]
  },
  {
   "cell_type": "code",
   "execution_count": 36,
   "id": "fb7d8ffc",
   "metadata": {},
   "outputs": [
    {
     "data": {
      "text/plain": [
       "87"
      ]
     },
     "execution_count": 36,
     "metadata": {},
     "output_type": "execute_result"
    }
   ],
   "source": [
    "tenureDF26 =  tenureDataDF[(tenureDataDF[\"Attrition\"] == \"No\") & (tenureDataDF[\"YearsAtCompany\"] >7) & (tenureDataDF[\"YearsAtCompany\"] <=8)]\n",
    "tenureResults26=  tenureDF26[(tenureDF26[\"Attrition\"] == \"No\")].count()[\"YearsAtCompany\"]\n",
    "tenureResults26"
   ]
  },
  {
   "cell_type": "code",
   "execution_count": 37,
   "id": "18bedb18",
   "metadata": {},
   "outputs": [
    {
     "data": {
      "text/plain": [
       "91"
      ]
     },
     "execution_count": 37,
     "metadata": {},
     "output_type": "execute_result"
    }
   ],
   "source": [
    "tenureDF27 =  tenureDataDF[(tenureDataDF[\"Attrition\"] == \"No\") & (tenureDataDF[\"YearsAtCompany\"] >8) & (tenureDataDF[\"YearsAtCompany\"] <=9)]\n",
    "tenureResults27=  tenureDF27[(tenureDF27[\"Attrition\"] == \"No\")].count()[\"YearsAtCompany\"]\n",
    "tenureResults27"
   ]
  },
  {
   "cell_type": "code",
   "execution_count": 38,
   "id": "f93445d5",
   "metadata": {},
   "outputs": [
    {
     "data": {
      "text/plain": [
       "126"
      ]
     },
     "execution_count": 38,
     "metadata": {},
     "output_type": "execute_result"
    }
   ],
   "source": [
    "tenureDF28 =  tenureDataDF[(tenureDataDF[\"Attrition\"] == \"No\") & (tenureDataDF[\"YearsAtCompany\"] >9) & (tenureDataDF[\"YearsAtCompany\"] <=10)]\n",
    "tenureResults28=  tenureDF28[(tenureDF28[\"Attrition\"] == \"No\")].count()[\"YearsAtCompany\"]\n",
    "tenureResults28"
   ]
  },
  {
   "cell_type": "code",
   "execution_count": 39,
   "id": "641d3894",
   "metadata": {},
   "outputs": [
    {
     "data": {
      "text/plain": [
       "36"
      ]
     },
     "execution_count": 39,
     "metadata": {},
     "output_type": "execute_result"
    }
   ],
   "source": [
    "tenureDF29 =  tenureDataDF[(tenureDataDF[\"Attrition\"] == \"No\") & (tenureDataDF[\"YearsAtCompany\"] >10) & (tenureDataDF[\"YearsAtCompany\"] <=11)]\n",
    "tenureResults29=  tenureDF29[(tenureDF29[\"Attrition\"] == \"No\")].count()[\"YearsAtCompany\"]\n",
    "tenureResults29"
   ]
  },
  {
   "cell_type": "code",
   "execution_count": 40,
   "id": "4aa41120",
   "metadata": {},
   "outputs": [
    {
     "data": {
      "text/plain": [
       "17"
      ]
     },
     "execution_count": 40,
     "metadata": {},
     "output_type": "execute_result"
    }
   ],
   "source": [
    "tenureDF30 =  tenureDataDF[(tenureDataDF[\"Attrition\"] == \"No\") & (tenureDataDF[\"YearsAtCompany\"] >11) & (tenureDataDF[\"YearsAtCompany\"] <=12)]\n",
    "tenureResults30=  tenureDF30[(tenureDF30[\"Attrition\"] == \"No\")].count()[\"YearsAtCompany\"]\n",
    "tenureResults30"
   ]
  },
  {
   "cell_type": "code",
   "execution_count": 41,
   "id": "c4d1ae3c",
   "metadata": {},
   "outputs": [
    {
     "data": {
      "text/plain": [
       "28"
      ]
     },
     "execution_count": 41,
     "metadata": {},
     "output_type": "execute_result"
    }
   ],
   "source": [
    "tenureDF31 =  tenureDataDF[(tenureDataDF[\"Attrition\"] == \"No\") & (tenureDataDF[\"YearsAtCompany\"] >12) & (tenureDataDF[\"YearsAtCompany\"] <=13)]\n",
    "tenureResults31=  tenureDF31[(tenureDF31[\"Attrition\"] == \"No\")].count()[\"YearsAtCompany\"]\n",
    "tenureResults31"
   ]
  },
  {
   "cell_type": "code",
   "execution_count": 42,
   "id": "df8202b3",
   "metadata": {},
   "outputs": [
    {
     "data": {
      "text/plain": [
       "19"
      ]
     },
     "execution_count": 42,
     "metadata": {},
     "output_type": "execute_result"
    }
   ],
   "source": [
    "tenureDF32 =  tenureDataDF[(tenureDataDF[\"Attrition\"] == \"No\") & (tenureDataDF[\"YearsAtCompany\"] >13) & (tenureDataDF[\"YearsAtCompany\"] <=14)]\n",
    "tenureResults32=  tenureDF32[(tenureDF32[\"Attrition\"] == \"No\")].count()[\"YearsAtCompany\"]\n",
    "tenureResults32"
   ]
  },
  {
   "cell_type": "code",
   "execution_count": 43,
   "id": "715c6bda",
   "metadata": {},
   "outputs": [
    {
     "data": {
      "text/plain": [
       "21"
      ]
     },
     "execution_count": 43,
     "metadata": {},
     "output_type": "execute_result"
    }
   ],
   "source": [
    "tenureDF33 =  tenureDataDF[(tenureDataDF[\"Attrition\"] == \"No\") & (tenureDataDF[\"YearsAtCompany\"] >14) & (tenureDataDF[\"YearsAtCompany\"] <=15)]\n",
    "tenureResults33=  tenureDF33[(tenureDF33[\"Attrition\"] == \"No\")].count()[\"YearsAtCompany\"]\n",
    "tenureResults33"
   ]
  },
  {
   "cell_type": "code",
   "execution_count": 44,
   "id": "5d08c098",
   "metadata": {},
   "outputs": [
    {
     "data": {
      "text/plain": [
       "12"
      ]
     },
     "execution_count": 44,
     "metadata": {},
     "output_type": "execute_result"
    }
   ],
   "source": [
    "tenureDF34 =  tenureDataDF[(tenureDataDF[\"Attrition\"] == \"No\") & (tenureDataDF[\"YearsAtCompany\"] >15) & (tenureDataDF[\"YearsAtCompany\"] <=16)]\n",
    "tenureResults34=  tenureDF34[(tenureDF34[\"Attrition\"] == \"No\")].count()[\"YearsAtCompany\"]\n",
    "tenureResults34"
   ]
  },
  {
   "cell_type": "code",
   "execution_count": 45,
   "id": "c88c4942",
   "metadata": {},
   "outputs": [
    {
     "data": {
      "text/plain": [
       "12"
      ]
     },
     "execution_count": 45,
     "metadata": {},
     "output_type": "execute_result"
    }
   ],
   "source": [
    "tenureDF35 =  tenureDataDF[(tenureDataDF[\"Attrition\"] == \"No\") & (tenureDataDF[\"YearsAtCompany\"] >16) & (tenureDataDF[\"YearsAtCompany\"] <=17)]\n",
    "tenureResults35=  tenureDF35[(tenureDF35[\"Attrition\"] == \"No\")].count()[\"YearsAtCompany\"]\n",
    "tenureResults35"
   ]
  },
  {
   "cell_type": "code",
   "execution_count": 46,
   "id": "ab426dc7",
   "metadata": {},
   "outputs": [
    {
     "data": {
      "text/plain": [
       "13"
      ]
     },
     "execution_count": 46,
     "metadata": {},
     "output_type": "execute_result"
    }
   ],
   "source": [
    "tenureDF36 =  tenureDataDF[(tenureDataDF[\"Attrition\"] == \"No\") & (tenureDataDF[\"YearsAtCompany\"] >17) & (tenureDataDF[\"YearsAtCompany\"] <=18)]\n",
    "tenureResults36=  tenureDF36[(tenureDF36[\"Attrition\"] == \"No\")].count()[\"YearsAtCompany\"]\n",
    "tenureResults36"
   ]
  },
  {
   "cell_type": "code",
   "execution_count": 47,
   "id": "864b3cfd",
   "metadata": {},
   "outputs": [
    {
     "data": {
      "text/plain": [
       "13"
      ]
     },
     "execution_count": 47,
     "metadata": {},
     "output_type": "execute_result"
    }
   ],
   "source": [
    "tenureDF37 =  tenureDataDF[(tenureDataDF[\"Attrition\"] == \"No\") & (tenureDataDF[\"YearsAtCompany\"] >18) & (tenureDataDF[\"YearsAtCompany\"] <=19)]\n",
    "tenureResults37=  tenureDF37[(tenureDF37[\"Attrition\"] == \"No\")].count()[\"YearsAtCompany\"]\n",
    "tenureResults37"
   ]
  },
  {
   "cell_type": "code",
   "execution_count": 48,
   "id": "03c73e68",
   "metadata": {},
   "outputs": [
    {
     "data": {
      "text/plain": [
       "32"
      ]
     },
     "execution_count": 48,
     "metadata": {},
     "output_type": "execute_result"
    }
   ],
   "source": [
    "tenureDF38=  tenureDataDF[(tenureDataDF[\"Attrition\"] == \"No\") & (tenureDataDF[\"YearsAtCompany\"] >19) & (tenureDataDF[\"YearsAtCompany\"] <=20)]\n",
    "tenureResults38=  tenureDF38[(tenureDF38[\"Attrition\"] == \"No\")].count()[\"YearsAtCompany\"]\n",
    "tenureResults38"
   ]
  },
  {
   "cell_type": "code",
   "execution_count": 49,
   "id": "09a546b5",
   "metadata": {},
   "outputs": [
    {
     "data": {
      "text/plain": [
       "17"
      ]
     },
     "execution_count": 49,
     "metadata": {},
     "output_type": "execute_result"
    }
   ],
   "source": [
    "tenureDF39 =  tenureDataDF[(tenureDataDF[\"Attrition\"] == \"No\") & (tenureDataDF[\"YearsAtCompany\"] >20) & (tenureDataDF[\"YearsAtCompany\"] <=21)]\n",
    "tenureResults39=  tenureDF39[(tenureDF39[\"Attrition\"] == \"No\")].count()[\"YearsAtCompany\"]\n",
    "tenureResults39"
   ]
  },
  {
   "cell_type": "code",
   "execution_count": 50,
   "id": "9fc2884c",
   "metadata": {},
   "outputs": [
    {
     "data": {
      "text/plain": [
       "19"
      ]
     },
     "execution_count": 50,
     "metadata": {},
     "output_type": "execute_result"
    }
   ],
   "source": [
    "tenureDF40 =  tenureDataDF[(tenureDataDF[\"Attrition\"] == \"No\") & (tenureDataDF[\"YearsAtCompany\"] >21) & (tenureDataDF[\"YearsAtCompany\"] <=22)]\n",
    "tenureResults40=  tenureDF40[(tenureDF40[\"Attrition\"] == \"No\")].count()[\"YearsAtCompany\"]\n",
    "tenureResults40"
   ]
  },
  {
   "cell_type": "code",
   "execution_count": 51,
   "id": "f048adef",
   "metadata": {},
   "outputs": [
    {
     "data": {
      "text/plain": [
       "1"
      ]
     },
     "execution_count": 51,
     "metadata": {},
     "output_type": "execute_result"
    }
   ],
   "source": [
    "tenureDF41 =  tenureDataDF[(tenureDataDF[\"Attrition\"] == \"No\") & (tenureDataDF[\"YearsAtCompany\"] >22) & (tenureDataDF[\"YearsAtCompany\"] <=23)]\n",
    "tenureResults41=  tenureDF41[(tenureDF41[\"Attrition\"] == \"No\")].count()[\"YearsAtCompany\"]\n",
    "tenureResults41"
   ]
  },
  {
   "cell_type": "markdown",
   "id": "3889ff12",
   "metadata": {},
   "source": [
    "Dataframe for number of employees who stayed after x number of years working"
   ]
  },
  {
   "cell_type": "code",
   "execution_count": 52,
   "id": "b93e1eeb",
   "metadata": {},
   "outputs": [
    {
     "data": {
      "text/html": [
       "<div>\n",
       "<style scoped>\n",
       "    .dataframe tbody tr th:only-of-type {\n",
       "        vertical-align: middle;\n",
       "    }\n",
       "\n",
       "    .dataframe tbody tr th {\n",
       "        vertical-align: top;\n",
       "    }\n",
       "\n",
       "    .dataframe thead th {\n",
       "        text-align: right;\n",
       "    }\n",
       "</style>\n",
       "<table border=\"1\" class=\"dataframe\">\n",
       "  <thead>\n",
       "    <tr style=\"text-align: right;\">\n",
       "      <th></th>\n",
       "      <th>0 Years at company</th>\n",
       "      <th>1 Years at company</th>\n",
       "      <th>2 Years at company</th>\n",
       "      <th>3 Years at company</th>\n",
       "      <th>4 Years at company</th>\n",
       "      <th>5 Years at company</th>\n",
       "      <th>6 Years at company</th>\n",
       "      <th>7 Years at company</th>\n",
       "      <th>8 Years at company</th>\n",
       "      <th>9 Years at company</th>\n",
       "      <th>...</th>\n",
       "      <th>14 Years at company</th>\n",
       "      <th>15 Years at company</th>\n",
       "      <th>16 Years at company</th>\n",
       "      <th>17 Years at company</th>\n",
       "      <th>18 Years at company</th>\n",
       "      <th>19 Years at company</th>\n",
       "      <th>20 Years at company</th>\n",
       "      <th>21 Years at company</th>\n",
       "      <th>22 Years at company</th>\n",
       "      <th>23 Years at company</th>\n",
       "    </tr>\n",
       "  </thead>\n",
       "  <tbody>\n",
       "    <tr>\n",
       "      <th>0</th>\n",
       "      <td>28</td>\n",
       "      <td>136</td>\n",
       "      <td>116</td>\n",
       "      <td>135</td>\n",
       "      <td>106</td>\n",
       "      <td>200</td>\n",
       "      <td>81</td>\n",
       "      <td>94</td>\n",
       "      <td>87</td>\n",
       "      <td>91</td>\n",
       "      <td>...</td>\n",
       "      <td>19</td>\n",
       "      <td>21</td>\n",
       "      <td>12</td>\n",
       "      <td>12</td>\n",
       "      <td>13</td>\n",
       "      <td>13</td>\n",
       "      <td>32</td>\n",
       "      <td>17</td>\n",
       "      <td>19</td>\n",
       "      <td>1</td>\n",
       "    </tr>\n",
       "  </tbody>\n",
       "</table>\n",
       "<p>1 rows × 24 columns</p>\n",
       "</div>"
      ],
      "text/plain": [
       "   0 Years at company  1 Years at company  2 Years at company  \\\n",
       "0                  28                 136                 116   \n",
       "\n",
       "   3 Years at company  4 Years at company  5 Years at company  \\\n",
       "0                 135                 106                 200   \n",
       "\n",
       "   6 Years at company  7 Years at company  8 Years at company  \\\n",
       "0                  81                  94                  87   \n",
       "\n",
       "   9 Years at company  ...  14 Years at company  15 Years at company  \\\n",
       "0                  91  ...                   19                   21   \n",
       "\n",
       "   16 Years at company  17 Years at company  18 Years at company  \\\n",
       "0                   12                   12                   13   \n",
       "\n",
       "   19 Years at company  20 Years at company  21 Years at company  \\\n",
       "0                   13                   32                   17   \n",
       "\n",
       "   22 Years at company  23 Years at company  \n",
       "0                   19                    1  \n",
       "\n",
       "[1 rows x 24 columns]"
      ]
     },
     "execution_count": 52,
     "metadata": {},
     "output_type": "execute_result"
    }
   ],
   "source": [
    "attritionDF = pd.DataFrame({\"0 Years at company\": [tenureResults18],\n",
    "                           \"1 Years at company\": [tenureResults19],\n",
    "                            \"2 Years at company\": [tenureResults20],\n",
    "                            \"3 Years at company\": [tenureResults21],\n",
    "                            \"4 Years at company\": [tenureResults22],\n",
    "                            \"5 Years at company\": [tenureResults23],\n",
    "                            \"6 Years at company\": [tenureResults24],\n",
    "                            \"7 Years at company\": [tenureResults25],\n",
    "                            \"8 Years at company\": [tenureResults26],\n",
    "                            \"9 Years at company\": [tenureResults27],\n",
    "                            \"10 Years at company\": [tenureResults28],\n",
    "                            \"11 Years at company\": [tenureResults29],\n",
    "                            \"12 Years at company\": [tenureResults30],\n",
    "                            \"13 Years at company\": [tenureResults31],\n",
    "                            \"14 Years at company\": [tenureResults32],\n",
    "                            \"15 Years at company\": [tenureResults33],\n",
    "                            \"16 Years at company\": [tenureResults34],\n",
    "                            \"17 Years at company\": [tenureResults35],\n",
    "                            \"18 Years at company\": [tenureResults36],\n",
    "                            \"19 Years at company\": [tenureResults37],\n",
    "                            \"20 Years at company\": [tenureResults38],\n",
    "                            \"21 Years at company\": [tenureResults39],\n",
    "                            \"22 Years at company\": [tenureResults40],\n",
    "                            \"23 Years at company\": [tenureResults41]\n",
    "                        \n",
    "                            \n",
    "                           })\n",
    "attritionDF"
   ]
  },
  {
   "cell_type": "code",
   "execution_count": 53,
   "id": "ca42e250",
   "metadata": {},
   "outputs": [
    {
     "data": {
      "text/plain": [
       "<BarContainer object of 4 artists>"
      ]
     },
     "execution_count": 53,
     "metadata": {},
     "output_type": "execute_result"
    },
    {
     "data": {
      "image/png": "[encoded data removed]",
      "text/plain": [
       "<Figure size 640x480 with 1 Axes>"
      ]
     },
     "metadata": {},
     "output_type": "display_data"
    }
   ],
   "source": [
    "import matplotlib.pyplot as plt \n",
    "import numpy as np \n",
    "\n",
    "employees2=[721,479,100,82]\n",
    "xAxisPoints2=np.arange(len(employees2))\n",
    "ticks1= [x for x in xAxisPoints]\n",
    "plt.xticks(ticks1,[\"0-5 Years\",\"6-10 years\", \"10-15 years\", \"15-20 years\"])\n",
    "plt.xlabel(\"Years At Company\")\n",
    "plt.ylabel(\"Number of Employees\")\n",
    "plt.title(\"Number of Employees Active vs. Number of Years Worked\")\n",
    "plt.bar(xAxisPoints2, employees2, align=\"center\")"
   ]
  },
  {
   "cell_type": "code",
   "execution_count": 54,
   "id": "c181e6be",
   "metadata": {},
   "outputs": [
    {
     "data": {
      "text/plain": [
       "<BarContainer object of 6 artists>"
      ]
     },
     "execution_count": 54,
     "metadata": {},
     "output_type": "execute_result"
    },
    {
     "data": {
      "image/png": "[encoded data removed]",
      "text/plain": [
       "<Figure size 640x480 with 1 Axes>"
      ]
     },
     "metadata": {},
     "output_type": "display_data"
    }
   ],
   "source": [
    "\n",
    "import matplotlib.pyplot as plt \n",
    "import numpy as np \n",
    "\n",
    "employees4=[28,136,116,135,106,200]\n",
    "xAxisPoints4=np.arange(len(employees4))\n",
    "ticks4= [x for x in xAxisPoints4]\n",
    "plt.xticks(ticks3,[\"<1 Year\", \"1 Year\", \"2 Years\", \"3 Years\", \"4 Years\", \"5 Years\"])\n",
    "plt.xlabel(\"Years At Company\")\n",
    "plt.ylabel(\"Number of Employees\")\n",
    "plt.title(\"Number of Employees Active vs. Number of Years Worked\")\n",
    "plt.bar(xAxisPoints4, employees4, align=\"center\", color=[\"lightslategray\",\"lightslategray\",\"lightslategray\",\"powderblue\",\"powderblue\",\"powderblue\"])"
   ]
  },
  {
   "cell_type": "markdown",
   "id": "6f01b076",
   "metadata": {},
   "source": [
    "Percentage of those who stayed in \"3 Years At Company\""
   ]
  },
  {
   "cell_type": "code",
   "execution_count": 55,
   "id": "07486c3a",
   "metadata": {},
   "outputs": [
    {
     "data": {
      "text/plain": [
       "152"
      ]
     },
     "execution_count": 55,
     "metadata": {},
     "output_type": "execute_result"
    }
   ],
   "source": [
    "tenureAnalysis3=tenureDataDF[(tenureDataDF[\"YearsAtCompany\"] > 2) & (tenureDataDF [\"YearsAtCompany\"] <=3)]\n",
    "year3Total=len(tenureAnalysis3)\n",
    "year3Total\n",
    "# how many employees there were in 3 years at company "
   ]
  },
  {
   "cell_type": "code",
   "execution_count": 56,
   "id": "94d16187",
   "metadata": {},
   "outputs": [
    {
     "data": {
      "text/plain": [
       "135"
      ]
     },
     "execution_count": 56,
     "metadata": {},
     "output_type": "execute_result"
    }
   ],
   "source": [
    "tenureAnalysis4 =  tenureDataDF[(tenureDataDF[\"Attrition\"] == \"No\") & (tenureDataDF[\"YearsAtCompany\"] >2) & (tenureDataDF[\"YearsAtCompany\"] <=3)]\n",
    "tenureAnalysis5=  tenureAnalysis4[(tenureAnalysis4[\"Attrition\"] == \"No\")].count()[\"YearsAtCompany\"]\n",
    "tenureAnalysis5\n",
    "# how many people stayed in \"3 years at company\""
   ]
  },
  {
   "cell_type": "code",
   "execution_count": 57,
   "id": "75321522",
   "metadata": {},
   "outputs": [
    {
     "data": {
      "text/plain": [
       "88.81578947368422"
      ]
     },
     "execution_count": 57,
     "metadata": {},
     "output_type": "execute_result"
    }
   ],
   "source": [
    "year3= float(tenureAnalysis5) / year3Total * 100\n",
    "year3\n",
    "#percentage of those who stayed in \"3 years at company\""
   ]
  },
  {
   "cell_type": "markdown",
   "id": "2bffb314",
   "metadata": {},
   "source": [
    "Percentage of those who stayed in \"4 Years At Company\""
   ]
  },
  {
   "cell_type": "code",
   "execution_count": 58,
   "id": "8ae77fff",
   "metadata": {},
   "outputs": [
    {
     "data": {
      "text/plain": [
       "120"
      ]
     },
     "execution_count": 58,
     "metadata": {},
     "output_type": "execute_result"
    }
   ],
   "source": [
    "tenureAnalysis6=tenureDataDF[(tenureDataDF[\"YearsAtCompany\"] > 3) & (tenureDataDF [\"YearsAtCompany\"] <=4)]\n",
    "year4Total=len(tenureAnalysis6)\n",
    "year4Total"
   ]
  },
  {
   "cell_type": "code",
   "execution_count": 59,
   "id": "95f249f8",
   "metadata": {},
   "outputs": [
    {
     "data": {
      "text/plain": [
       "106"
      ]
     },
     "execution_count": 59,
     "metadata": {},
     "output_type": "execute_result"
    }
   ],
   "source": [
    "tenureAnalysis7 =  tenureDataDF[(tenureDataDF[\"Attrition\"] == \"No\") & (tenureDataDF[\"YearsAtCompany\"] >3) & (tenureDataDF[\"YearsAtCompany\"] <=4)]\n",
    "tenureAnalysis8=  tenureAnalysis7[(tenureAnalysis7[\"Attrition\"] == \"No\")].count()[\"YearsAtCompany\"]\n",
    "tenureAnalysis8"
   ]
  },
  {
   "cell_type": "code",
   "execution_count": 60,
   "id": "3c8ba1b3",
   "metadata": {},
   "outputs": [
    {
     "data": {
      "text/plain": [
       "88.33333333333333"
      ]
     },
     "execution_count": 60,
     "metadata": {},
     "output_type": "execute_result"
    }
   ],
   "source": [
    "year4= float(tenureAnalysis8) / year4Total * 100\n",
    "year4"
   ]
  },
  {
   "cell_type": "markdown",
   "id": "cecea62f",
   "metadata": {},
   "source": [
    "Percentage of those who stayed in \"5 Years At Company\""
   ]
  },
  {
   "cell_type": "code",
   "execution_count": 61,
   "id": "bc7dfd1d",
   "metadata": {},
   "outputs": [
    {
     "data": {
      "text/plain": [
       "219"
      ]
     },
     "execution_count": 61,
     "metadata": {},
     "output_type": "execute_result"
    }
   ],
   "source": [
    "tenureAnalysis9=tenureDataDF[(tenureDataDF[\"YearsAtCompany\"] > 4) & (tenureDataDF [\"YearsAtCompany\"] <=5)]\n",
    "year5Total=len(tenureAnalysis9)\n",
    "year5Total"
   ]
  },
  {
   "cell_type": "code",
   "execution_count": 62,
   "id": "47400033",
   "metadata": {},
   "outputs": [
    {
     "data": {
      "text/plain": [
       "200"
      ]
     },
     "execution_count": 62,
     "metadata": {},
     "output_type": "execute_result"
    }
   ],
   "source": [
    "tenureAnalysis10 =  tenureDataDF[(tenureDataDF[\"Attrition\"] == \"No\") & (tenureDataDF[\"YearsAtCompany\"] >4) & (tenureDataDF[\"YearsAtCompany\"] <=5)]\n",
    "tenureAnalysis11=  tenureAnalysis10[(tenureAnalysis10[\"Attrition\"] == \"No\")].count()[\"YearsAtCompany\"]\n",
    "tenureAnalysis11"
   ]
  },
  {
   "cell_type": "code",
   "execution_count": 63,
   "id": "57235687",
   "metadata": {},
   "outputs": [
    {
     "data": {
      "text/plain": [
       "91.32420091324201"
      ]
     },
     "execution_count": 63,
     "metadata": {},
     "output_type": "execute_result"
    }
   ],
   "source": [
    "year5= float(tenureAnalysis11) / year5Total * 100\n",
    "year5"
   ]
  },
  {
   "cell_type": "code",
   "execution_count": 64,
   "id": "0ef887b4",
   "metadata": {},
   "outputs": [
    {
     "data": {
      "text/plain": [
       "<BarContainer object of 3 artists>"
      ]
     },
     "execution_count": 64,
     "metadata": {},
     "output_type": "execute_result"
    },
    {
     "data": {
      "image/png": "[encoded data removed]",
      "text/plain": [
       "<Figure size 640x480 with 1 Axes>"
      ]
     },
     "metadata": {},
     "output_type": "display_data"
    }
   ],
   "source": [
    "import matplotlib.pyplot as plt \n",
    "import numpy as np \n",
    "\n",
    "employees5=[year3, year4, year5]\n",
    "xAxisPoints5=np.arange(len(employees5))\n",
    "ticks5= [x for x in xAxisPoints5]\n",
    "plt.xticks(ticks5,[\"Year 3\", \"Year 4\", \"Year 5\"])\n",
    "plt.xlabel(\"Years At Company\")\n",
    "plt.ylabel(\"Percent Active\")\n",
    "plt.title(\"Percent Active in Years 3-5\")\n",
    "plt.bar(xAxisPoints5, employees5, align=\"center\", color=[\"powderblue\",\"powderblue\",\"powderblue\"])\n"
   ]
  },
  {
   "cell_type": "code",
   "execution_count": null,
   "id": "bca9c971",
   "metadata": {},
   "outputs": [],
   "source": []
  }
 ],
 "metadata": {
  "kernelspec": {
   "display_name": "Python 3 (ipykernel)",
   "language": "python",
   "name": "python3"
  },
  "language_info": {
   "codemirror_mode": {
    "name": "ipython",
    "version": 3
   },
   "file_extension": ".py",
   "mimetype": "text/x-python",
   "name": "python",
   "nbconvert_exporter": "python",
   "pygments_lexer": "ipython3",
   "version": "3.9.13"
  }
 },
 "nbformat": 4,
 "nbformat_minor": 5
}
